{
  "cells": [
    {
      "cell_type": "markdown",
      "metadata": {
        "id": "O_BF-s9ksGPm"
      },
      "source": [
        "# **Telco Customer Churn**\n",
        "by Kelompok 2\n",
        "\n",
        "Anggota Kelompok:\n",
        "*   Ervi Nur Fitrawan\n",
        "*   Muhammad Husain Fadhlillah\n",
        "\n",
        "Mentor:\n",
        "*   Kak Cesilia Natasya\n"
      ]
    },
    {
      "cell_type": "markdown",
      "metadata": {
        "id": "wbBoLSfts9Kz"
      },
      "source": [
        "#Stage 0 : Business Understanding"
      ]
    },
    {
      "cell_type": "markdown",
      "metadata": {
        "id": "QtkWGyQvsiNY"
      },
      "source": [
        "## Dataset\n",
        "Dataset yang kami pilih adalah: **Telecommunications Company (Telco) Customer Churn**\n",
        "\n",
        "Sumber (Kaggle): https://www.kaggle.com/datasets/blastchar/telco-customer-churn"
      ]
    },
    {
      "cell_type": "markdown",
      "source": [
        "## Role\n",
        "Kami adalah tim bismillah lolos, dari divisi marketing. Kami bertanggung jawab menganalisa menggapa customer melakukan churn guna memberikan impact signifikan kepada perusahaan."
      ],
      "metadata": {
        "id": "s5l7oLPG0EbS"
      }
    },
    {
      "cell_type": "markdown",
      "metadata": {
        "id": "IjO3wi5Rsace"
      },
      "source": [
        "##**Background**\n",
        "\n",
        "**Faktor Internal:**\n",
        "*   Durasi penggunaan layanan: Pelanggan yang menggunakan layanan untuk jangka waktu yang lebih pendek cenderung lebih mungkin untuk berhenti.\n",
        "*   Jenis layanan: Pelanggan yang menggunakan layanan telepon saja cenderung lebih untuk berhenti daripada pelanggan yang menggunakan layanan gabungan seperti internet, televisi, dan telepon.\n",
        "*   Biaya: Pelanggan yang membayar tagihan bulanan yang lebih tinggi cenderung lebih mungkin untuk berhenti daripada pelanggan yang membayar tagihan bulanan yang lebih rendah.\n",
        "*   Kontrak: Pelanggan yang tidak memiliki kontrak lebih cenderung untuk berhenti daripada pelanggan yang memiliki kontrak.\n",
        "*   Kualitas layanan: Pelanggan kurang puas terhadap pelayanan telekomunikasi.\n",
        "*   Masalah teknis: Keadaan sinyal yang kurang bagus disertai harga yang terlalu mahal menimbulkan ketidakpuasan pada pelanggan.\n",
        "\n",
        "**Faktor Eksternal:**\n",
        "*   Perubahan keadaan ekonomi pelanggan.\n",
        "*   Persaingan dari operator telekomunikasi lain yang memberikan kualitas layanan lebih baik."
      ]
    },
    {
      "cell_type": "markdown",
      "metadata": {
        "id": "TrRh3CpNseWL"
      },
      "source": [
        "##**Purpose**\n",
        "\n",
        "**Business Objective:**\n",
        "*   Maximize: Keuntungan perusahaan dengan mempertahankan pelanggan\n",
        "*   Minimize: Pelanggan churn dengan mengidentifikasi penyebab utama masalah\n",
        "\n",
        "\n",
        "**Main Objective of Our Project:**\n",
        "*   Menemukan faktor dan penyebab yang mempengaruhi pelanggan untuk churn.\n",
        "*   Memprediksi apakah seorang pelanggan akan churn atau tidak.\n",
        "*   Memberikan penawaran berdasarkan faktor-faktor yang mempengaruhi.\n",
        "*   Mengembangkan strategi untuk meminimalkan churn rate."
      ]
    },
    {
      "cell_type": "markdown",
      "source": [],
      "metadata": {
        "id": "DNNsCjxA0piW"
      }
    },
    {
      "cell_type": "markdown",
      "metadata": {
        "id": "os7RMidftZTj"
      },
      "source": [
        "# Stage 1 : Exploratory Data Analysis"
      ]
    },
    {
      "cell_type": "markdown",
      "metadata": {
        "id": "2HHrEbj6tXPE"
      },
      "source": [
        "# Data Collection"
      ]
    },
    {
      "cell_type": "markdown",
      "metadata": {
        "id": "LJrWDIZoPduU"
      },
      "source": [
        "## Loading libraries and data"
      ]
    },
    {
      "cell_type": "code",
      "execution_count": null,
      "metadata": {
        "id": "rtWxvbV2PYqj"
      },
      "outputs": [],
      "source": [
        "import numpy as np\n",
        "import pandas as pd\n",
        "import matplotlib.pyplot as plt\n",
        "import plotly.express as px\n",
        "from matplotlib.ticker import FuncFormatter\n",
        "import seaborn as sns\n",
        "from scipy import stats\n",
        "from sklearn.preprocessing import StandardScaler, LabelEncoder\n",
        "from imblearn.over_sampling import SMOTE\n",
        "from sklearn.model_selection import train_test_split, RandomizedSearchCV, GridSearchCV, RepeatedStratifiedKFold\n",
        "from sklearn.metrics import confusion_matrix, accuracy_score, precision_score, recall_score, f1_score, roc_auc_score, matthews_corrcoef, classification_report, precision_recall_curve\n",
        "from sklearn.linear_model import LogisticRegression\n",
        "from sklearn.tree import DecisionTreeClassifier\n",
        "from sklearn.ensemble import RandomForestClassifier, AdaBoostClassifier\n",
        "from xgboost import XGBClassifier\n",
        "from sklearn.model_selection import cross_val_score\n",
        "\n",
        "pd.set_option('display.max_columns', None)\n",
        "import warnings\n",
        "warnings.filterwarnings('ignore')"
      ]
    },
    {
      "cell_type": "code",
      "execution_count": null,
      "metadata": {
        "colab": {
          "base_uri": "https://localhost:8080/",
          "height": 73
        },
        "id": "HwgGH0mNPdTa",
        "outputId": "d4b3a848-d135-48fe-c2a1-dd52cc70e6b4"
      },
      "outputs": [
        {
          "output_type": "display_data",
          "data": {
            "text/plain": [
              "<IPython.core.display.HTML object>"
            ],
            "text/html": [
              "\n",
              "     <input type=\"file\" id=\"files-d3242e43-2097-43d9-acb0-1a483539c19b\" name=\"files[]\" multiple disabled\n",
              "        style=\"border:none\" />\n",
              "     <output id=\"result-d3242e43-2097-43d9-acb0-1a483539c19b\">\n",
              "      Upload widget is only available when the cell has been executed in the\n",
              "      current browser session. Please rerun this cell to enable.\n",
              "      </output>\n",
              "      <script>// Copyright 2017 Google LLC\n",
              "//\n",
              "// Licensed under the Apache License, Version 2.0 (the \"License\");\n",
              "// you may not use this file except in compliance with the License.\n",
              "// You may obtain a copy of the License at\n",
              "//\n",
              "//      http://www.apache.org/licenses/LICENSE-2.0\n",
              "//\n",
              "// Unless required by applicable law or agreed to in writing, software\n",
              "// distributed under the License is distributed on an \"AS IS\" BASIS,\n",
              "// WITHOUT WARRANTIES OR CONDITIONS OF ANY KIND, either express or implied.\n",
              "// See the License for the specific language governing permissions and\n",
              "// limitations under the License.\n",
              "\n",
              "/**\n",
              " * @fileoverview Helpers for google.colab Python module.\n",
              " */\n",
              "(function(scope) {\n",
              "function span(text, styleAttributes = {}) {\n",
              "  const element = document.createElement('span');\n",
              "  element.textContent = text;\n",
              "  for (const key of Object.keys(styleAttributes)) {\n",
              "    element.style[key] = styleAttributes[key];\n",
              "  }\n",
              "  return element;\n",
              "}\n",
              "\n",
              "// Max number of bytes which will be uploaded at a time.\n",
              "const MAX_PAYLOAD_SIZE = 100 * 1024;\n",
              "\n",
              "function _uploadFiles(inputId, outputId) {\n",
              "  const steps = uploadFilesStep(inputId, outputId);\n",
              "  const outputElement = document.getElementById(outputId);\n",
              "  // Cache steps on the outputElement to make it available for the next call\n",
              "  // to uploadFilesContinue from Python.\n",
              "  outputElement.steps = steps;\n",
              "\n",
              "  return _uploadFilesContinue(outputId);\n",
              "}\n",
              "\n",
              "// This is roughly an async generator (not supported in the browser yet),\n",
              "// where there are multiple asynchronous steps and the Python side is going\n",
              "// to poll for completion of each step.\n",
              "// This uses a Promise to block the python side on completion of each step,\n",
              "// then passes the result of the previous step as the input to the next step.\n",
              "function _uploadFilesContinue(outputId) {\n",
              "  const outputElement = document.getElementById(outputId);\n",
              "  const steps = outputElement.steps;\n",
              "\n",
              "  const next = steps.next(outputElement.lastPromiseValue);\n",
              "  return Promise.resolve(next.value.promise).then((value) => {\n",
              "    // Cache the last promise value to make it available to the next\n",
              "    // step of the generator.\n",
              "    outputElement.lastPromiseValue = value;\n",
              "    return next.value.response;\n",
              "  });\n",
              "}\n",
              "\n",
              "/**\n",
              " * Generator function which is called between each async step of the upload\n",
              " * process.\n",
              " * @param {string} inputId Element ID of the input file picker element.\n",
              " * @param {string} outputId Element ID of the output display.\n",
              " * @return {!Iterable<!Object>} Iterable of next steps.\n",
              " */\n",
              "function* uploadFilesStep(inputId, outputId) {\n",
              "  const inputElement = document.getElementById(inputId);\n",
              "  inputElement.disabled = false;\n",
              "\n",
              "  const outputElement = document.getElementById(outputId);\n",
              "  outputElement.innerHTML = '';\n",
              "\n",
              "  const pickedPromise = new Promise((resolve) => {\n",
              "    inputElement.addEventListener('change', (e) => {\n",
              "      resolve(e.target.files);\n",
              "    });\n",
              "  });\n",
              "\n",
              "  const cancel = document.createElement('button');\n",
              "  inputElement.parentElement.appendChild(cancel);\n",
              "  cancel.textContent = 'Cancel upload';\n",
              "  const cancelPromise = new Promise((resolve) => {\n",
              "    cancel.onclick = () => {\n",
              "      resolve(null);\n",
              "    };\n",
              "  });\n",
              "\n",
              "  // Wait for the user to pick the files.\n",
              "  const files = yield {\n",
              "    promise: Promise.race([pickedPromise, cancelPromise]),\n",
              "    response: {\n",
              "      action: 'starting',\n",
              "    }\n",
              "  };\n",
              "\n",
              "  cancel.remove();\n",
              "\n",
              "  // Disable the input element since further picks are not allowed.\n",
              "  inputElement.disabled = true;\n",
              "\n",
              "  if (!files) {\n",
              "    return {\n",
              "      response: {\n",
              "        action: 'complete',\n",
              "      }\n",
              "    };\n",
              "  }\n",
              "\n",
              "  for (const file of files) {\n",
              "    const li = document.createElement('li');\n",
              "    li.append(span(file.name, {fontWeight: 'bold'}));\n",
              "    li.append(span(\n",
              "        `(${file.type || 'n/a'}) - ${file.size} bytes, ` +\n",
              "        `last modified: ${\n",
              "            file.lastModifiedDate ? file.lastModifiedDate.toLocaleDateString() :\n",
              "                                    'n/a'} - `));\n",
              "    const percent = span('0% done');\n",
              "    li.appendChild(percent);\n",
              "\n",
              "    outputElement.appendChild(li);\n",
              "\n",
              "    const fileDataPromise = new Promise((resolve) => {\n",
              "      const reader = new FileReader();\n",
              "      reader.onload = (e) => {\n",
              "        resolve(e.target.result);\n",
              "      };\n",
              "      reader.readAsArrayBuffer(file);\n",
              "    });\n",
              "    // Wait for the data to be ready.\n",
              "    let fileData = yield {\n",
              "      promise: fileDataPromise,\n",
              "      response: {\n",
              "        action: 'continue',\n",
              "      }\n",
              "    };\n",
              "\n",
              "    // Use a chunked sending to avoid message size limits. See b/62115660.\n",
              "    let position = 0;\n",
              "    do {\n",
              "      const length = Math.min(fileData.byteLength - position, MAX_PAYLOAD_SIZE);\n",
              "      const chunk = new Uint8Array(fileData, position, length);\n",
              "      position += length;\n",
              "\n",
              "      const base64 = btoa(String.fromCharCode.apply(null, chunk));\n",
              "      yield {\n",
              "        response: {\n",
              "          action: 'append',\n",
              "          file: file.name,\n",
              "          data: base64,\n",
              "        },\n",
              "      };\n",
              "\n",
              "      let percentDone = fileData.byteLength === 0 ?\n",
              "          100 :\n",
              "          Math.round((position / fileData.byteLength) * 100);\n",
              "      percent.textContent = `${percentDone}% done`;\n",
              "\n",
              "    } while (position < fileData.byteLength);\n",
              "  }\n",
              "\n",
              "  // All done.\n",
              "  yield {\n",
              "    response: {\n",
              "      action: 'complete',\n",
              "    }\n",
              "  };\n",
              "}\n",
              "\n",
              "scope.google = scope.google || {};\n",
              "scope.google.colab = scope.google.colab || {};\n",
              "scope.google.colab._files = {\n",
              "  _uploadFiles,\n",
              "  _uploadFilesContinue,\n",
              "};\n",
              "})(self);\n",
              "</script> "
            ]
          },
          "metadata": {}
        },
        {
          "output_type": "stream",
          "name": "stdout",
          "text": [
            "Saving Telco-Customer-Churn.csv to Telco-Customer-Churn.csv\n"
          ]
        }
      ],
      "source": [
        "from google.colab import files\n",
        "uploaded = files.upload()"
      ]
    },
    {
      "cell_type": "code",
      "execution_count": null,
      "metadata": {
        "colab": {
          "base_uri": "https://localhost:8080/"
        },
        "id": "TMmC_e5GPg-6",
        "outputId": "5cb77d7f-e4a9-4b14-c4d4-826717915e0f"
      },
      "outputs": [
        {
          "output_type": "stream",
          "name": "stdout",
          "text": [
            "<class 'pandas.core.frame.DataFrame'>\n",
            "RangeIndex: 7043 entries, 0 to 7042\n",
            "Data columns (total 21 columns):\n",
            " #   Column            Non-Null Count  Dtype  \n",
            "---  ------            --------------  -----  \n",
            " 0   customerID        7043 non-null   object \n",
            " 1   gender            7043 non-null   object \n",
            " 2   SeniorCitizen     7043 non-null   int64  \n",
            " 3   Partner           7043 non-null   object \n",
            " 4   Dependents        7043 non-null   object \n",
            " 5   tenure            7043 non-null   int64  \n",
            " 6   PhoneService      7043 non-null   object \n",
            " 7   MultipleLines     7043 non-null   object \n",
            " 8   InternetService   7043 non-null   object \n",
            " 9   OnlineSecurity    7043 non-null   object \n",
            " 10  OnlineBackup      7043 non-null   object \n",
            " 11  DeviceProtection  7043 non-null   object \n",
            " 12  TechSupport       7043 non-null   object \n",
            " 13  StreamingTV       7043 non-null   object \n",
            " 14  StreamingMovies   7043 non-null   object \n",
            " 15  Contract          7043 non-null   object \n",
            " 16  PaperlessBilling  7043 non-null   object \n",
            " 17  PaymentMethod     7043 non-null   object \n",
            " 18  MonthlyCharges    7043 non-null   float64\n",
            " 19  TotalCharges      7043 non-null   object \n",
            " 20  Churn             7043 non-null   object \n",
            "dtypes: float64(1), int64(2), object(18)\n",
            "memory usage: 1.1+ MB\n"
          ]
        }
      ],
      "source": [
        "df = pd.read_csv('Telco-Customer-Churn.csv')\n",
        "df.info()"
      ]
    },
    {
      "cell_type": "markdown",
      "metadata": {
        "id": "TYj5XsPyttBS"
      },
      "source": [
        "Dari info data tersebut diketahui bahwa:\n",
        "\n",
        "- Data terdiri dari 7043 baris dan 21 kolom (3 kolom numerik dan 18 kolom kategorik).\n",
        "- Penamaan kolom dan tipe data terlihat ada yang belum sesuai yaitu pada kolom `totalChargers`."
      ]
    },
    {
      "cell_type": "markdown",
      "metadata": {
        "id": "V7cyX-1YuQWN"
      },
      "source": [
        "## Data Description"
      ]
    },
    {
      "cell_type": "markdown",
      "metadata": {
        "id": "OkivA8Q_uTNo"
      },
      "source": [
        "dataset contains 19 independent variables, which can be classified into 3 groups.\n",
        "\n",
        "**(1) Demographic Information**\n",
        "- `gender`: Whether the client is a female or a male (Female, Male).\n",
        "- `SeniorCitizen`: Indicates if the customer is 65 or older (0, 1).\n",
        "- `Partner`: Whether the client has a partner (married) or not (Yes, No).\n",
        "- `Dependents`: Indicates if the customer lives with any dependents (Yes, No). Dependents could be children, parents, grandparents, etc.\n",
        "\n",
        "**(2) Customer Account Information**\n",
        "- `tenure`: Number of months the customer has stayed with the company (Multiple different numeric values).\n",
        "- `Contract`: Indicates the customer’s current contract type (Month-to-Month, One year, Two year).\n",
        "- `PaperlessBilling`: Whether the client has paperless billing or not (Yes, No).\n",
        "- `PaymentMethod`: The customer’s payment method (Electronic check,\n",
        "- Mailed check, Bank transfer (automatic), Credit Card (automatic)).\n",
        "- `MontlyCharges`: The amount charged to the customer monthly (Multiple different numeric values).\n",
        "- `TotalCharges`: The total amount charged to the customer (Multiple different numeric values).\n",
        "\n",
        "**(3) Services Information**\n",
        "- `PhoneService`: Whether the client has a phone service or not (Yes, No).\n",
        "- `MultipleLines`: Whether the client has multiple lines or not (No phone service, No, Yes).\n",
        "- `InternetServices`: Whether the client is subscribed to Internet service with the company (DSL, Fiber, optic, No)\n",
        "- `OnlineSecurity`: Whether the client has online security or not (No internet service, No, Yes).\n",
        "- `OnlineBackup`: Whether the client has online backup or not (No internet service, No, Yes).\n",
        "- `DeviceProtection`: Whether the client has device protection or not (No internet service, No, Yes).\n",
        "- `TechSupport`: Whether the client has tech support or not (No internet service, No, Yes).\n",
        "- `StreamingTV`: Whether the client has streaming TV or not (No internet service, No, Yes).\n",
        "- `StreamingMovies`: Whether the client has streaming movies or not (No internet service, No, Yes)."
      ]
    },
    {
      "cell_type": "markdown",
      "metadata": {
        "id": "V2YnsK7Vuaf8"
      },
      "source": [
        "# Data Understanding"
      ]
    },
    {
      "cell_type": "code",
      "execution_count": null,
      "metadata": {
        "colab": {
          "base_uri": "https://localhost:8080/",
          "height": 357
        },
        "id": "QrZNm4AOuQ8T",
        "outputId": "603dee04-0aae-4b48-919e-e83b81d65c8d"
      },
      "outputs": [
        {
          "output_type": "execute_result",
          "data": {
            "text/plain": [
              "      customerID  gender  SeniorCitizen Partner Dependents  tenure  \\\n",
              "4880  1215-EXRMO    Male              0     Yes         No      50   \n",
              "1541  2429-AYKKO    Male              0      No         No      72   \n",
              "1289  9968-FFVVH    Male              0      No         No      63   \n",
              "5745  3580-GICBM  Female              0     Yes        Yes      61   \n",
              "4873  2320-YKQBO  Female              0      No         No       7   \n",
              "\n",
              "     PhoneService MultipleLines InternetService       OnlineSecurity  \\\n",
              "4880          Yes            No              No  No internet service   \n",
              "1541          Yes            No              No  No internet service   \n",
              "1289          Yes           Yes             DSL                  Yes   \n",
              "5745          Yes           Yes              No  No internet service   \n",
              "4873          Yes            No              No  No internet service   \n",
              "\n",
              "             OnlineBackup     DeviceProtection          TechSupport  \\\n",
              "4880  No internet service  No internet service  No internet service   \n",
              "1541  No internet service  No internet service  No internet service   \n",
              "1289                  Yes                  Yes                  Yes   \n",
              "5745  No internet service  No internet service  No internet service   \n",
              "4873  No internet service  No internet service  No internet service   \n",
              "\n",
              "              StreamingTV      StreamingMovies        Contract  \\\n",
              "4880  No internet service  No internet service        Two year   \n",
              "1541  No internet service  No internet service        Two year   \n",
              "1289                   No                   No        One year   \n",
              "5745  No internet service  No internet service        Two year   \n",
              "4873  No internet service  No internet service  Month-to-month   \n",
              "\n",
              "     PaperlessBilling              PaymentMethod  MonthlyCharges TotalCharges  \\\n",
              "4880               No               Mailed check           20.55      1067.65   \n",
              "1541               No  Bank transfer (automatic)           19.85       1434.1   \n",
              "1289               No  Bank transfer (automatic)           68.80      4111.35   \n",
              "5745              Yes               Mailed check           24.20       1445.2   \n",
              "4873               No               Mailed check           19.30       144.95   \n",
              "\n",
              "     Churn  \n",
              "4880    No  \n",
              "1541    No  \n",
              "1289    No  \n",
              "5745    No  \n",
              "4873    No  "
            ],
            "text/html": [
              "\n",
              "  <div id=\"df-70d846e3-48a6-40d4-9872-be47a6197736\">\n",
              "    <div class=\"colab-df-container\">\n",
              "      <div>\n",
              "<style scoped>\n",
              "    .dataframe tbody tr th:only-of-type {\n",
              "        vertical-align: middle;\n",
              "    }\n",
              "\n",
              "    .dataframe tbody tr th {\n",
              "        vertical-align: top;\n",
              "    }\n",
              "\n",
              "    .dataframe thead th {\n",
              "        text-align: right;\n",
              "    }\n",
              "</style>\n",
              "<table border=\"1\" class=\"dataframe\">\n",
              "  <thead>\n",
              "    <tr style=\"text-align: right;\">\n",
              "      <th></th>\n",
              "      <th>customerID</th>\n",
              "      <th>gender</th>\n",
              "      <th>SeniorCitizen</th>\n",
              "      <th>Partner</th>\n",
              "      <th>Dependents</th>\n",
              "      <th>tenure</th>\n",
              "      <th>PhoneService</th>\n",
              "      <th>MultipleLines</th>\n",
              "      <th>InternetService</th>\n",
              "      <th>OnlineSecurity</th>\n",
              "      <th>OnlineBackup</th>\n",
              "      <th>DeviceProtection</th>\n",
              "      <th>TechSupport</th>\n",
              "      <th>StreamingTV</th>\n",
              "      <th>StreamingMovies</th>\n",
              "      <th>Contract</th>\n",
              "      <th>PaperlessBilling</th>\n",
              "      <th>PaymentMethod</th>\n",
              "      <th>MonthlyCharges</th>\n",
              "      <th>TotalCharges</th>\n",
              "      <th>Churn</th>\n",
              "    </tr>\n",
              "  </thead>\n",
              "  <tbody>\n",
              "    <tr>\n",
              "      <th>4880</th>\n",
              "      <td>1215-EXRMO</td>\n",
              "      <td>Male</td>\n",
              "      <td>0</td>\n",
              "      <td>Yes</td>\n",
              "      <td>No</td>\n",
              "      <td>50</td>\n",
              "      <td>Yes</td>\n",
              "      <td>No</td>\n",
              "      <td>No</td>\n",
              "      <td>No internet service</td>\n",
              "      <td>No internet service</td>\n",
              "      <td>No internet service</td>\n",
              "      <td>No internet service</td>\n",
              "      <td>No internet service</td>\n",
              "      <td>No internet service</td>\n",
              "      <td>Two year</td>\n",
              "      <td>No</td>\n",
              "      <td>Mailed check</td>\n",
              "      <td>20.55</td>\n",
              "      <td>1067.65</td>\n",
              "      <td>No</td>\n",
              "    </tr>\n",
              "    <tr>\n",
              "      <th>1541</th>\n",
              "      <td>2429-AYKKO</td>\n",
              "      <td>Male</td>\n",
              "      <td>0</td>\n",
              "      <td>No</td>\n",
              "      <td>No</td>\n",
              "      <td>72</td>\n",
              "      <td>Yes</td>\n",
              "      <td>No</td>\n",
              "      <td>No</td>\n",
              "      <td>No internet service</td>\n",
              "      <td>No internet service</td>\n",
              "      <td>No internet service</td>\n",
              "      <td>No internet service</td>\n",
              "      <td>No internet service</td>\n",
              "      <td>No internet service</td>\n",
              "      <td>Two year</td>\n",
              "      <td>No</td>\n",
              "      <td>Bank transfer (automatic)</td>\n",
              "      <td>19.85</td>\n",
              "      <td>1434.1</td>\n",
              "      <td>No</td>\n",
              "    </tr>\n",
              "    <tr>\n",
              "      <th>1289</th>\n",
              "      <td>9968-FFVVH</td>\n",
              "      <td>Male</td>\n",
              "      <td>0</td>\n",
              "      <td>No</td>\n",
              "      <td>No</td>\n",
              "      <td>63</td>\n",
              "      <td>Yes</td>\n",
              "      <td>Yes</td>\n",
              "      <td>DSL</td>\n",
              "      <td>Yes</td>\n",
              "      <td>Yes</td>\n",
              "      <td>Yes</td>\n",
              "      <td>Yes</td>\n",
              "      <td>No</td>\n",
              "      <td>No</td>\n",
              "      <td>One year</td>\n",
              "      <td>No</td>\n",
              "      <td>Bank transfer (automatic)</td>\n",
              "      <td>68.80</td>\n",
              "      <td>4111.35</td>\n",
              "      <td>No</td>\n",
              "    </tr>\n",
              "    <tr>\n",
              "      <th>5745</th>\n",
              "      <td>3580-GICBM</td>\n",
              "      <td>Female</td>\n",
              "      <td>0</td>\n",
              "      <td>Yes</td>\n",
              "      <td>Yes</td>\n",
              "      <td>61</td>\n",
              "      <td>Yes</td>\n",
              "      <td>Yes</td>\n",
              "      <td>No</td>\n",
              "      <td>No internet service</td>\n",
              "      <td>No internet service</td>\n",
              "      <td>No internet service</td>\n",
              "      <td>No internet service</td>\n",
              "      <td>No internet service</td>\n",
              "      <td>No internet service</td>\n",
              "      <td>Two year</td>\n",
              "      <td>Yes</td>\n",
              "      <td>Mailed check</td>\n",
              "      <td>24.20</td>\n",
              "      <td>1445.2</td>\n",
              "      <td>No</td>\n",
              "    </tr>\n",
              "    <tr>\n",
              "      <th>4873</th>\n",
              "      <td>2320-YKQBO</td>\n",
              "      <td>Female</td>\n",
              "      <td>0</td>\n",
              "      <td>No</td>\n",
              "      <td>No</td>\n",
              "      <td>7</td>\n",
              "      <td>Yes</td>\n",
              "      <td>No</td>\n",
              "      <td>No</td>\n",
              "      <td>No internet service</td>\n",
              "      <td>No internet service</td>\n",
              "      <td>No internet service</td>\n",
              "      <td>No internet service</td>\n",
              "      <td>No internet service</td>\n",
              "      <td>No internet service</td>\n",
              "      <td>Month-to-month</td>\n",
              "      <td>No</td>\n",
              "      <td>Mailed check</td>\n",
              "      <td>19.30</td>\n",
              "      <td>144.95</td>\n",
              "      <td>No</td>\n",
              "    </tr>\n",
              "  </tbody>\n",
              "</table>\n",
              "</div>\n",
              "      <button class=\"colab-df-convert\" onclick=\"convertToInteractive('df-70d846e3-48a6-40d4-9872-be47a6197736')\"\n",
              "              title=\"Convert this dataframe to an interactive table.\"\n",
              "              style=\"display:none;\">\n",
              "        \n",
              "  <svg xmlns=\"http://www.w3.org/2000/svg\" height=\"24px\"viewBox=\"0 0 24 24\"\n",
              "       width=\"24px\">\n",
              "    <path d=\"M0 0h24v24H0V0z\" fill=\"none\"/>\n",
              "    <path d=\"M18.56 5.44l.94 2.06.94-2.06 2.06-.94-2.06-.94-.94-2.06-.94 2.06-2.06.94zm-11 1L8.5 8.5l.94-2.06 2.06-.94-2.06-.94L8.5 2.5l-.94 2.06-2.06.94zm10 10l.94 2.06.94-2.06 2.06-.94-2.06-.94-.94-2.06-.94 2.06-2.06.94z\"/><path d=\"M17.41 7.96l-1.37-1.37c-.4-.4-.92-.59-1.43-.59-.52 0-1.04.2-1.43.59L10.3 9.45l-7.72 7.72c-.78.78-.78 2.05 0 2.83L4 21.41c.39.39.9.59 1.41.59.51 0 1.02-.2 1.41-.59l7.78-7.78 2.81-2.81c.8-.78.8-2.07 0-2.86zM5.41 20L4 18.59l7.72-7.72 1.47 1.35L5.41 20z\"/>\n",
              "  </svg>\n",
              "      </button>\n",
              "      \n",
              "  <style>\n",
              "    .colab-df-container {\n",
              "      display:flex;\n",
              "      flex-wrap:wrap;\n",
              "      gap: 12px;\n",
              "    }\n",
              "\n",
              "    .colab-df-convert {\n",
              "      background-color: #E8F0FE;\n",
              "      border: none;\n",
              "      border-radius: 50%;\n",
              "      cursor: pointer;\n",
              "      display: none;\n",
              "      fill: #1967D2;\n",
              "      height: 32px;\n",
              "      padding: 0 0 0 0;\n",
              "      width: 32px;\n",
              "    }\n",
              "\n",
              "    .colab-df-convert:hover {\n",
              "      background-color: #E2EBFA;\n",
              "      box-shadow: 0px 1px 2px rgba(60, 64, 67, 0.3), 0px 1px 3px 1px rgba(60, 64, 67, 0.15);\n",
              "      fill: #174EA6;\n",
              "    }\n",
              "\n",
              "    [theme=dark] .colab-df-convert {\n",
              "      background-color: #3B4455;\n",
              "      fill: #D2E3FC;\n",
              "    }\n",
              "\n",
              "    [theme=dark] .colab-df-convert:hover {\n",
              "      background-color: #434B5C;\n",
              "      box-shadow: 0px 1px 3px 1px rgba(0, 0, 0, 0.15);\n",
              "      filter: drop-shadow(0px 1px 2px rgba(0, 0, 0, 0.3));\n",
              "      fill: #FFFFFF;\n",
              "    }\n",
              "  </style>\n",
              "\n",
              "      <script>\n",
              "        const buttonEl =\n",
              "          document.querySelector('#df-70d846e3-48a6-40d4-9872-be47a6197736 button.colab-df-convert');\n",
              "        buttonEl.style.display =\n",
              "          google.colab.kernel.accessAllowed ? 'block' : 'none';\n",
              "\n",
              "        async function convertToInteractive(key) {\n",
              "          const element = document.querySelector('#df-70d846e3-48a6-40d4-9872-be47a6197736');\n",
              "          const dataTable =\n",
              "            await google.colab.kernel.invokeFunction('convertToInteractive',\n",
              "                                                     [key], {});\n",
              "          if (!dataTable) return;\n",
              "\n",
              "          const docLinkHtml = 'Like what you see? Visit the ' +\n",
              "            '<a target=\"_blank\" href=https://colab.research.google.com/notebooks/data_table.ipynb>data table notebook</a>'\n",
              "            + ' to learn more about interactive tables.';\n",
              "          element.innerHTML = '';\n",
              "          dataTable['output_type'] = 'display_data';\n",
              "          await google.colab.output.renderOutput(dataTable, element);\n",
              "          const docLink = document.createElement('div');\n",
              "          docLink.innerHTML = docLinkHtml;\n",
              "          element.appendChild(docLink);\n",
              "        }\n",
              "      </script>\n",
              "    </div>\n",
              "  </div>\n",
              "  "
            ]
          },
          "metadata": {},
          "execution_count": 7
        }
      ],
      "source": [
        "# view 5 rows sample of data\n",
        "df.sample(5, random_state=100)"
      ]
    },
    {
      "cell_type": "markdown",
      "metadata": {
        "id": "_rCIo2Gduou5"
      },
      "source": [
        "Berdasarkan sampel 5 data tersebut diketahui bahwa:\n",
        "- kolom-kolom lainnya sudah sesuai dengan isinya"
      ]
    },
    {
      "cell_type": "markdown",
      "metadata": {
        "id": "rFwohSMvuzpo"
      },
      "source": [
        "## Descriptive Statistics"
      ]
    },
    {
      "cell_type": "code",
      "execution_count": null,
      "metadata": {
        "colab": {
          "base_uri": "https://localhost:8080/",
          "height": 143
        },
        "id": "8on1sCKYu2bl",
        "outputId": "131f24c9-4695-4012-929d-5758725bf6f6"
      },
      "outputs": [
        {
          "output_type": "execute_result",
          "data": {
            "text/plain": [
              "                 count       mean        std    min   25%    50%    75%  \\\n",
              "SeniorCitizen   7043.0   0.162147   0.368612   0.00   0.0   0.00   0.00   \n",
              "tenure          7043.0  32.371149  24.559481   0.00   9.0  29.00  55.00   \n",
              "MonthlyCharges  7043.0  64.761692  30.090047  18.25  35.5  70.35  89.85   \n",
              "\n",
              "                   max  \n",
              "SeniorCitizen     1.00  \n",
              "tenure           72.00  \n",
              "MonthlyCharges  118.75  "
            ],
            "text/html": [
              "\n",
              "  <div id=\"df-4a51664c-7512-4a66-819a-0b9ca2927d79\">\n",
              "    <div class=\"colab-df-container\">\n",
              "      <div>\n",
              "<style scoped>\n",
              "    .dataframe tbody tr th:only-of-type {\n",
              "        vertical-align: middle;\n",
              "    }\n",
              "\n",
              "    .dataframe tbody tr th {\n",
              "        vertical-align: top;\n",
              "    }\n",
              "\n",
              "    .dataframe thead th {\n",
              "        text-align: right;\n",
              "    }\n",
              "</style>\n",
              "<table border=\"1\" class=\"dataframe\">\n",
              "  <thead>\n",
              "    <tr style=\"text-align: right;\">\n",
              "      <th></th>\n",
              "      <th>count</th>\n",
              "      <th>mean</th>\n",
              "      <th>std</th>\n",
              "      <th>min</th>\n",
              "      <th>25%</th>\n",
              "      <th>50%</th>\n",
              "      <th>75%</th>\n",
              "      <th>max</th>\n",
              "    </tr>\n",
              "  </thead>\n",
              "  <tbody>\n",
              "    <tr>\n",
              "      <th>SeniorCitizen</th>\n",
              "      <td>7043.0</td>\n",
              "      <td>0.162147</td>\n",
              "      <td>0.368612</td>\n",
              "      <td>0.00</td>\n",
              "      <td>0.0</td>\n",
              "      <td>0.00</td>\n",
              "      <td>0.00</td>\n",
              "      <td>1.00</td>\n",
              "    </tr>\n",
              "    <tr>\n",
              "      <th>tenure</th>\n",
              "      <td>7043.0</td>\n",
              "      <td>32.371149</td>\n",
              "      <td>24.559481</td>\n",
              "      <td>0.00</td>\n",
              "      <td>9.0</td>\n",
              "      <td>29.00</td>\n",
              "      <td>55.00</td>\n",
              "      <td>72.00</td>\n",
              "    </tr>\n",
              "    <tr>\n",
              "      <th>MonthlyCharges</th>\n",
              "      <td>7043.0</td>\n",
              "      <td>64.761692</td>\n",
              "      <td>30.090047</td>\n",
              "      <td>18.25</td>\n",
              "      <td>35.5</td>\n",
              "      <td>70.35</td>\n",
              "      <td>89.85</td>\n",
              "      <td>118.75</td>\n",
              "    </tr>\n",
              "  </tbody>\n",
              "</table>\n",
              "</div>\n",
              "      <button class=\"colab-df-convert\" onclick=\"convertToInteractive('df-4a51664c-7512-4a66-819a-0b9ca2927d79')\"\n",
              "              title=\"Convert this dataframe to an interactive table.\"\n",
              "              style=\"display:none;\">\n",
              "        \n",
              "  <svg xmlns=\"http://www.w3.org/2000/svg\" height=\"24px\"viewBox=\"0 0 24 24\"\n",
              "       width=\"24px\">\n",
              "    <path d=\"M0 0h24v24H0V0z\" fill=\"none\"/>\n",
              "    <path d=\"M18.56 5.44l.94 2.06.94-2.06 2.06-.94-2.06-.94-.94-2.06-.94 2.06-2.06.94zm-11 1L8.5 8.5l.94-2.06 2.06-.94-2.06-.94L8.5 2.5l-.94 2.06-2.06.94zm10 10l.94 2.06.94-2.06 2.06-.94-2.06-.94-.94-2.06-.94 2.06-2.06.94z\"/><path d=\"M17.41 7.96l-1.37-1.37c-.4-.4-.92-.59-1.43-.59-.52 0-1.04.2-1.43.59L10.3 9.45l-7.72 7.72c-.78.78-.78 2.05 0 2.83L4 21.41c.39.39.9.59 1.41.59.51 0 1.02-.2 1.41-.59l7.78-7.78 2.81-2.81c.8-.78.8-2.07 0-2.86zM5.41 20L4 18.59l7.72-7.72 1.47 1.35L5.41 20z\"/>\n",
              "  </svg>\n",
              "      </button>\n",
              "      \n",
              "  <style>\n",
              "    .colab-df-container {\n",
              "      display:flex;\n",
              "      flex-wrap:wrap;\n",
              "      gap: 12px;\n",
              "    }\n",
              "\n",
              "    .colab-df-convert {\n",
              "      background-color: #E8F0FE;\n",
              "      border: none;\n",
              "      border-radius: 50%;\n",
              "      cursor: pointer;\n",
              "      display: none;\n",
              "      fill: #1967D2;\n",
              "      height: 32px;\n",
              "      padding: 0 0 0 0;\n",
              "      width: 32px;\n",
              "    }\n",
              "\n",
              "    .colab-df-convert:hover {\n",
              "      background-color: #E2EBFA;\n",
              "      box-shadow: 0px 1px 2px rgba(60, 64, 67, 0.3), 0px 1px 3px 1px rgba(60, 64, 67, 0.15);\n",
              "      fill: #174EA6;\n",
              "    }\n",
              "\n",
              "    [theme=dark] .colab-df-convert {\n",
              "      background-color: #3B4455;\n",
              "      fill: #D2E3FC;\n",
              "    }\n",
              "\n",
              "    [theme=dark] .colab-df-convert:hover {\n",
              "      background-color: #434B5C;\n",
              "      box-shadow: 0px 1px 3px 1px rgba(0, 0, 0, 0.15);\n",
              "      filter: drop-shadow(0px 1px 2px rgba(0, 0, 0, 0.3));\n",
              "      fill: #FFFFFF;\n",
              "    }\n",
              "  </style>\n",
              "\n",
              "      <script>\n",
              "        const buttonEl =\n",
              "          document.querySelector('#df-4a51664c-7512-4a66-819a-0b9ca2927d79 button.colab-df-convert');\n",
              "        buttonEl.style.display =\n",
              "          google.colab.kernel.accessAllowed ? 'block' : 'none';\n",
              "\n",
              "        async function convertToInteractive(key) {\n",
              "          const element = document.querySelector('#df-4a51664c-7512-4a66-819a-0b9ca2927d79');\n",
              "          const dataTable =\n",
              "            await google.colab.kernel.invokeFunction('convertToInteractive',\n",
              "                                                     [key], {});\n",
              "          if (!dataTable) return;\n",
              "\n",
              "          const docLinkHtml = 'Like what you see? Visit the ' +\n",
              "            '<a target=\"_blank\" href=https://colab.research.google.com/notebooks/data_table.ipynb>data table notebook</a>'\n",
              "            + ' to learn more about interactive tables.';\n",
              "          element.innerHTML = '';\n",
              "          dataTable['output_type'] = 'display_data';\n",
              "          await google.colab.output.renderOutput(dataTable, element);\n",
              "          const docLink = document.createElement('div');\n",
              "          docLink.innerHTML = docLinkHtml;\n",
              "          element.appendChild(docLink);\n",
              "        }\n",
              "      </script>\n",
              "    </div>\n",
              "  </div>\n",
              "  "
            ]
          },
          "metadata": {},
          "execution_count": 8
        }
      ],
      "source": [
        "# statistics of numerical columns\n",
        "df.select_dtypes(exclude='object').describe().T"
      ]
    },
    {
      "cell_type": "markdown",
      "metadata": {
        "id": "QgW1_fh1wupF"
      },
      "source": [
        "Dari statistik kolom numerik dapat disimpulkan bahwa:\n",
        "- Pada kolom SeniorCitizen Terdapat nilai 0 karena values hanya berisi 1 dan 0\n",
        "- pada kolom tenure terdapat nilai min 0, karena masa tenure minimalnya 0"
      ]
    },
    {
      "cell_type": "code",
      "execution_count": null,
      "metadata": {
        "colab": {
          "base_uri": "https://localhost:8080/",
          "height": 256
        },
        "id": "tGFFU43Bv4YZ",
        "outputId": "6e442c49-b22f-4e2c-bf72-ecb46b89622d"
      },
      "outputs": [
        {
          "output_type": "execute_result",
          "data": {
            "text/plain": [
              "        customerID gender Partner Dependents PhoneService MultipleLines  \\\n",
              "count         7043   7043    7043       7043         7043          7043   \n",
              "unique        7043      2       2          2            2             3   \n",
              "top     7590-VHVEG   Male      No         No          Yes            No   \n",
              "freq             1   3555    3641       4933         6361          3390   \n",
              "\n",
              "       InternetService OnlineSecurity OnlineBackup DeviceProtection  \\\n",
              "count             7043           7043         7043             7043   \n",
              "unique               3              3            3                3   \n",
              "top        Fiber optic             No           No               No   \n",
              "freq              3096           3498         3088             3095   \n",
              "\n",
              "       TechSupport StreamingTV StreamingMovies        Contract  \\\n",
              "count         7043        7043            7043            7043   \n",
              "unique           3           3               3               3   \n",
              "top             No          No              No  Month-to-month   \n",
              "freq          3473        2810            2785            3875   \n",
              "\n",
              "       PaperlessBilling     PaymentMethod TotalCharges Churn  \n",
              "count              7043              7043         7043  7043  \n",
              "unique                2                 4         6531     2  \n",
              "top                 Yes  Electronic check                 No  \n",
              "freq               4171              2365           11  5174  "
            ],
            "text/html": [
              "\n",
              "  <div id=\"df-ef29daf9-35f4-4fff-9b1a-066face2da37\">\n",
              "    <div class=\"colab-df-container\">\n",
              "      <div>\n",
              "<style scoped>\n",
              "    .dataframe tbody tr th:only-of-type {\n",
              "        vertical-align: middle;\n",
              "    }\n",
              "\n",
              "    .dataframe tbody tr th {\n",
              "        vertical-align: top;\n",
              "    }\n",
              "\n",
              "    .dataframe thead th {\n",
              "        text-align: right;\n",
              "    }\n",
              "</style>\n",
              "<table border=\"1\" class=\"dataframe\">\n",
              "  <thead>\n",
              "    <tr style=\"text-align: right;\">\n",
              "      <th></th>\n",
              "      <th>customerID</th>\n",
              "      <th>gender</th>\n",
              "      <th>Partner</th>\n",
              "      <th>Dependents</th>\n",
              "      <th>PhoneService</th>\n",
              "      <th>MultipleLines</th>\n",
              "      <th>InternetService</th>\n",
              "      <th>OnlineSecurity</th>\n",
              "      <th>OnlineBackup</th>\n",
              "      <th>DeviceProtection</th>\n",
              "      <th>TechSupport</th>\n",
              "      <th>StreamingTV</th>\n",
              "      <th>StreamingMovies</th>\n",
              "      <th>Contract</th>\n",
              "      <th>PaperlessBilling</th>\n",
              "      <th>PaymentMethod</th>\n",
              "      <th>TotalCharges</th>\n",
              "      <th>Churn</th>\n",
              "    </tr>\n",
              "  </thead>\n",
              "  <tbody>\n",
              "    <tr>\n",
              "      <th>count</th>\n",
              "      <td>7043</td>\n",
              "      <td>7043</td>\n",
              "      <td>7043</td>\n",
              "      <td>7043</td>\n",
              "      <td>7043</td>\n",
              "      <td>7043</td>\n",
              "      <td>7043</td>\n",
              "      <td>7043</td>\n",
              "      <td>7043</td>\n",
              "      <td>7043</td>\n",
              "      <td>7043</td>\n",
              "      <td>7043</td>\n",
              "      <td>7043</td>\n",
              "      <td>7043</td>\n",
              "      <td>7043</td>\n",
              "      <td>7043</td>\n",
              "      <td>7043</td>\n",
              "      <td>7043</td>\n",
              "    </tr>\n",
              "    <tr>\n",
              "      <th>unique</th>\n",
              "      <td>7043</td>\n",
              "      <td>2</td>\n",
              "      <td>2</td>\n",
              "      <td>2</td>\n",
              "      <td>2</td>\n",
              "      <td>3</td>\n",
              "      <td>3</td>\n",
              "      <td>3</td>\n",
              "      <td>3</td>\n",
              "      <td>3</td>\n",
              "      <td>3</td>\n",
              "      <td>3</td>\n",
              "      <td>3</td>\n",
              "      <td>3</td>\n",
              "      <td>2</td>\n",
              "      <td>4</td>\n",
              "      <td>6531</td>\n",
              "      <td>2</td>\n",
              "    </tr>\n",
              "    <tr>\n",
              "      <th>top</th>\n",
              "      <td>7590-VHVEG</td>\n",
              "      <td>Male</td>\n",
              "      <td>No</td>\n",
              "      <td>No</td>\n",
              "      <td>Yes</td>\n",
              "      <td>No</td>\n",
              "      <td>Fiber optic</td>\n",
              "      <td>No</td>\n",
              "      <td>No</td>\n",
              "      <td>No</td>\n",
              "      <td>No</td>\n",
              "      <td>No</td>\n",
              "      <td>No</td>\n",
              "      <td>Month-to-month</td>\n",
              "      <td>Yes</td>\n",
              "      <td>Electronic check</td>\n",
              "      <td></td>\n",
              "      <td>No</td>\n",
              "    </tr>\n",
              "    <tr>\n",
              "      <th>freq</th>\n",
              "      <td>1</td>\n",
              "      <td>3555</td>\n",
              "      <td>3641</td>\n",
              "      <td>4933</td>\n",
              "      <td>6361</td>\n",
              "      <td>3390</td>\n",
              "      <td>3096</td>\n",
              "      <td>3498</td>\n",
              "      <td>3088</td>\n",
              "      <td>3095</td>\n",
              "      <td>3473</td>\n",
              "      <td>2810</td>\n",
              "      <td>2785</td>\n",
              "      <td>3875</td>\n",
              "      <td>4171</td>\n",
              "      <td>2365</td>\n",
              "      <td>11</td>\n",
              "      <td>5174</td>\n",
              "    </tr>\n",
              "  </tbody>\n",
              "</table>\n",
              "</div>\n",
              "      <button class=\"colab-df-convert\" onclick=\"convertToInteractive('df-ef29daf9-35f4-4fff-9b1a-066face2da37')\"\n",
              "              title=\"Convert this dataframe to an interactive table.\"\n",
              "              style=\"display:none;\">\n",
              "        \n",
              "  <svg xmlns=\"http://www.w3.org/2000/svg\" height=\"24px\"viewBox=\"0 0 24 24\"\n",
              "       width=\"24px\">\n",
              "    <path d=\"M0 0h24v24H0V0z\" fill=\"none\"/>\n",
              "    <path d=\"M18.56 5.44l.94 2.06.94-2.06 2.06-.94-2.06-.94-.94-2.06-.94 2.06-2.06.94zm-11 1L8.5 8.5l.94-2.06 2.06-.94-2.06-.94L8.5 2.5l-.94 2.06-2.06.94zm10 10l.94 2.06.94-2.06 2.06-.94-2.06-.94-.94-2.06-.94 2.06-2.06.94z\"/><path d=\"M17.41 7.96l-1.37-1.37c-.4-.4-.92-.59-1.43-.59-.52 0-1.04.2-1.43.59L10.3 9.45l-7.72 7.72c-.78.78-.78 2.05 0 2.83L4 21.41c.39.39.9.59 1.41.59.51 0 1.02-.2 1.41-.59l7.78-7.78 2.81-2.81c.8-.78.8-2.07 0-2.86zM5.41 20L4 18.59l7.72-7.72 1.47 1.35L5.41 20z\"/>\n",
              "  </svg>\n",
              "      </button>\n",
              "      \n",
              "  <style>\n",
              "    .colab-df-container {\n",
              "      display:flex;\n",
              "      flex-wrap:wrap;\n",
              "      gap: 12px;\n",
              "    }\n",
              "\n",
              "    .colab-df-convert {\n",
              "      background-color: #E8F0FE;\n",
              "      border: none;\n",
              "      border-radius: 50%;\n",
              "      cursor: pointer;\n",
              "      display: none;\n",
              "      fill: #1967D2;\n",
              "      height: 32px;\n",
              "      padding: 0 0 0 0;\n",
              "      width: 32px;\n",
              "    }\n",
              "\n",
              "    .colab-df-convert:hover {\n",
              "      background-color: #E2EBFA;\n",
              "      box-shadow: 0px 1px 2px rgba(60, 64, 67, 0.3), 0px 1px 3px 1px rgba(60, 64, 67, 0.15);\n",
              "      fill: #174EA6;\n",
              "    }\n",
              "\n",
              "    [theme=dark] .colab-df-convert {\n",
              "      background-color: #3B4455;\n",
              "      fill: #D2E3FC;\n",
              "    }\n",
              "\n",
              "    [theme=dark] .colab-df-convert:hover {\n",
              "      background-color: #434B5C;\n",
              "      box-shadow: 0px 1px 3px 1px rgba(0, 0, 0, 0.15);\n",
              "      filter: drop-shadow(0px 1px 2px rgba(0, 0, 0, 0.3));\n",
              "      fill: #FFFFFF;\n",
              "    }\n",
              "  </style>\n",
              "\n",
              "      <script>\n",
              "        const buttonEl =\n",
              "          document.querySelector('#df-ef29daf9-35f4-4fff-9b1a-066face2da37 button.colab-df-convert');\n",
              "        buttonEl.style.display =\n",
              "          google.colab.kernel.accessAllowed ? 'block' : 'none';\n",
              "\n",
              "        async function convertToInteractive(key) {\n",
              "          const element = document.querySelector('#df-ef29daf9-35f4-4fff-9b1a-066face2da37');\n",
              "          const dataTable =\n",
              "            await google.colab.kernel.invokeFunction('convertToInteractive',\n",
              "                                                     [key], {});\n",
              "          if (!dataTable) return;\n",
              "\n",
              "          const docLinkHtml = 'Like what you see? Visit the ' +\n",
              "            '<a target=\"_blank\" href=https://colab.research.google.com/notebooks/data_table.ipynb>data table notebook</a>'\n",
              "            + ' to learn more about interactive tables.';\n",
              "          element.innerHTML = '';\n",
              "          dataTable['output_type'] = 'display_data';\n",
              "          await google.colab.output.renderOutput(dataTable, element);\n",
              "          const docLink = document.createElement('div');\n",
              "          docLink.innerHTML = docLinkHtml;\n",
              "          element.appendChild(docLink);\n",
              "        }\n",
              "      </script>\n",
              "    </div>\n",
              "  </div>\n",
              "  "
            ]
          },
          "metadata": {},
          "execution_count": 9
        }
      ],
      "source": [
        "# statistics of categorical columns\n",
        "df.select_dtypes(include='object').describe()"
      ]
    },
    {
      "cell_type": "code",
      "execution_count": null,
      "metadata": {
        "colab": {
          "base_uri": "https://localhost:8080/",
          "height": 725
        },
        "id": "xJdqLeF8RL4s",
        "outputId": "c794e246-16dc-4bba-cb8a-ee8a6abd6e1e"
      },
      "outputs": [
        {
          "output_type": "stream",
          "name": "stdout",
          "text": [
            "Dataset Shape: (7043, 21)\n"
          ]
        },
        {
          "output_type": "execute_result",
          "data": {
            "text/plain": [
              "                Name   dtypes  Missing  Uniques      Sample Value\n",
              "0         customerID   object        0     7043        7590-VHVEG\n",
              "1             gender   object        0        2            Female\n",
              "2      SeniorCitizen    int64        0        2                 0\n",
              "3            Partner   object        0        2               Yes\n",
              "4         Dependents   object        0        2                No\n",
              "5             tenure    int64        0       73                 1\n",
              "6       PhoneService   object        0        2                No\n",
              "7      MultipleLines   object        0        3  No phone service\n",
              "8    InternetService   object        0        3               DSL\n",
              "9     OnlineSecurity   object        0        3                No\n",
              "10      OnlineBackup   object        0        3               Yes\n",
              "11  DeviceProtection   object        0        3                No\n",
              "12       TechSupport   object        0        3                No\n",
              "13       StreamingTV   object        0        3                No\n",
              "14   StreamingMovies   object        0        3                No\n",
              "15          Contract   object        0        3    Month-to-month\n",
              "16  PaperlessBilling   object        0        2               Yes\n",
              "17     PaymentMethod   object        0        4  Electronic check\n",
              "18    MonthlyCharges  float64        0     1585             29.85\n",
              "19      TotalCharges   object        0     6531             29.85\n",
              "20             Churn   object        0        2                No"
            ],
            "text/html": [
              "\n",
              "  <div id=\"df-eb81814d-f132-4b90-b02f-781cdf392188\">\n",
              "    <div class=\"colab-df-container\">\n",
              "      <div>\n",
              "<style scoped>\n",
              "    .dataframe tbody tr th:only-of-type {\n",
              "        vertical-align: middle;\n",
              "    }\n",
              "\n",
              "    .dataframe tbody tr th {\n",
              "        vertical-align: top;\n",
              "    }\n",
              "\n",
              "    .dataframe thead th {\n",
              "        text-align: right;\n",
              "    }\n",
              "</style>\n",
              "<table border=\"1\" class=\"dataframe\">\n",
              "  <thead>\n",
              "    <tr style=\"text-align: right;\">\n",
              "      <th></th>\n",
              "      <th>Name</th>\n",
              "      <th>dtypes</th>\n",
              "      <th>Missing</th>\n",
              "      <th>Uniques</th>\n",
              "      <th>Sample Value</th>\n",
              "    </tr>\n",
              "  </thead>\n",
              "  <tbody>\n",
              "    <tr>\n",
              "      <th>0</th>\n",
              "      <td>customerID</td>\n",
              "      <td>object</td>\n",
              "      <td>0</td>\n",
              "      <td>7043</td>\n",
              "      <td>7590-VHVEG</td>\n",
              "    </tr>\n",
              "    <tr>\n",
              "      <th>1</th>\n",
              "      <td>gender</td>\n",
              "      <td>object</td>\n",
              "      <td>0</td>\n",
              "      <td>2</td>\n",
              "      <td>Female</td>\n",
              "    </tr>\n",
              "    <tr>\n",
              "      <th>2</th>\n",
              "      <td>SeniorCitizen</td>\n",
              "      <td>int64</td>\n",
              "      <td>0</td>\n",
              "      <td>2</td>\n",
              "      <td>0</td>\n",
              "    </tr>\n",
              "    <tr>\n",
              "      <th>3</th>\n",
              "      <td>Partner</td>\n",
              "      <td>object</td>\n",
              "      <td>0</td>\n",
              "      <td>2</td>\n",
              "      <td>Yes</td>\n",
              "    </tr>\n",
              "    <tr>\n",
              "      <th>4</th>\n",
              "      <td>Dependents</td>\n",
              "      <td>object</td>\n",
              "      <td>0</td>\n",
              "      <td>2</td>\n",
              "      <td>No</td>\n",
              "    </tr>\n",
              "    <tr>\n",
              "      <th>5</th>\n",
              "      <td>tenure</td>\n",
              "      <td>int64</td>\n",
              "      <td>0</td>\n",
              "      <td>73</td>\n",
              "      <td>1</td>\n",
              "    </tr>\n",
              "    <tr>\n",
              "      <th>6</th>\n",
              "      <td>PhoneService</td>\n",
              "      <td>object</td>\n",
              "      <td>0</td>\n",
              "      <td>2</td>\n",
              "      <td>No</td>\n",
              "    </tr>\n",
              "    <tr>\n",
              "      <th>7</th>\n",
              "      <td>MultipleLines</td>\n",
              "      <td>object</td>\n",
              "      <td>0</td>\n",
              "      <td>3</td>\n",
              "      <td>No phone service</td>\n",
              "    </tr>\n",
              "    <tr>\n",
              "      <th>8</th>\n",
              "      <td>InternetService</td>\n",
              "      <td>object</td>\n",
              "      <td>0</td>\n",
              "      <td>3</td>\n",
              "      <td>DSL</td>\n",
              "    </tr>\n",
              "    <tr>\n",
              "      <th>9</th>\n",
              "      <td>OnlineSecurity</td>\n",
              "      <td>object</td>\n",
              "      <td>0</td>\n",
              "      <td>3</td>\n",
              "      <td>No</td>\n",
              "    </tr>\n",
              "    <tr>\n",
              "      <th>10</th>\n",
              "      <td>OnlineBackup</td>\n",
              "      <td>object</td>\n",
              "      <td>0</td>\n",
              "      <td>3</td>\n",
              "      <td>Yes</td>\n",
              "    </tr>\n",
              "    <tr>\n",
              "      <th>11</th>\n",
              "      <td>DeviceProtection</td>\n",
              "      <td>object</td>\n",
              "      <td>0</td>\n",
              "      <td>3</td>\n",
              "      <td>No</td>\n",
              "    </tr>\n",
              "    <tr>\n",
              "      <th>12</th>\n",
              "      <td>TechSupport</td>\n",
              "      <td>object</td>\n",
              "      <td>0</td>\n",
              "      <td>3</td>\n",
              "      <td>No</td>\n",
              "    </tr>\n",
              "    <tr>\n",
              "      <th>13</th>\n",
              "      <td>StreamingTV</td>\n",
              "      <td>object</td>\n",
              "      <td>0</td>\n",
              "      <td>3</td>\n",
              "      <td>No</td>\n",
              "    </tr>\n",
              "    <tr>\n",
              "      <th>14</th>\n",
              "      <td>StreamingMovies</td>\n",
              "      <td>object</td>\n",
              "      <td>0</td>\n",
              "      <td>3</td>\n",
              "      <td>No</td>\n",
              "    </tr>\n",
              "    <tr>\n",
              "      <th>15</th>\n",
              "      <td>Contract</td>\n",
              "      <td>object</td>\n",
              "      <td>0</td>\n",
              "      <td>3</td>\n",
              "      <td>Month-to-month</td>\n",
              "    </tr>\n",
              "    <tr>\n",
              "      <th>16</th>\n",
              "      <td>PaperlessBilling</td>\n",
              "      <td>object</td>\n",
              "      <td>0</td>\n",
              "      <td>2</td>\n",
              "      <td>Yes</td>\n",
              "    </tr>\n",
              "    <tr>\n",
              "      <th>17</th>\n",
              "      <td>PaymentMethod</td>\n",
              "      <td>object</td>\n",
              "      <td>0</td>\n",
              "      <td>4</td>\n",
              "      <td>Electronic check</td>\n",
              "    </tr>\n",
              "    <tr>\n",
              "      <th>18</th>\n",
              "      <td>MonthlyCharges</td>\n",
              "      <td>float64</td>\n",
              "      <td>0</td>\n",
              "      <td>1585</td>\n",
              "      <td>29.85</td>\n",
              "    </tr>\n",
              "    <tr>\n",
              "      <th>19</th>\n",
              "      <td>TotalCharges</td>\n",
              "      <td>object</td>\n",
              "      <td>0</td>\n",
              "      <td>6531</td>\n",
              "      <td>29.85</td>\n",
              "    </tr>\n",
              "    <tr>\n",
              "      <th>20</th>\n",
              "      <td>Churn</td>\n",
              "      <td>object</td>\n",
              "      <td>0</td>\n",
              "      <td>2</td>\n",
              "      <td>No</td>\n",
              "    </tr>\n",
              "  </tbody>\n",
              "</table>\n",
              "</div>\n",
              "      <button class=\"colab-df-convert\" onclick=\"convertToInteractive('df-eb81814d-f132-4b90-b02f-781cdf392188')\"\n",
              "              title=\"Convert this dataframe to an interactive table.\"\n",
              "              style=\"display:none;\">\n",
              "        \n",
              "  <svg xmlns=\"http://www.w3.org/2000/svg\" height=\"24px\"viewBox=\"0 0 24 24\"\n",
              "       width=\"24px\">\n",
              "    <path d=\"M0 0h24v24H0V0z\" fill=\"none\"/>\n",
              "    <path d=\"M18.56 5.44l.94 2.06.94-2.06 2.06-.94-2.06-.94-.94-2.06-.94 2.06-2.06.94zm-11 1L8.5 8.5l.94-2.06 2.06-.94-2.06-.94L8.5 2.5l-.94 2.06-2.06.94zm10 10l.94 2.06.94-2.06 2.06-.94-2.06-.94-.94-2.06-.94 2.06-2.06.94z\"/><path d=\"M17.41 7.96l-1.37-1.37c-.4-.4-.92-.59-1.43-.59-.52 0-1.04.2-1.43.59L10.3 9.45l-7.72 7.72c-.78.78-.78 2.05 0 2.83L4 21.41c.39.39.9.59 1.41.59.51 0 1.02-.2 1.41-.59l7.78-7.78 2.81-2.81c.8-.78.8-2.07 0-2.86zM5.41 20L4 18.59l7.72-7.72 1.47 1.35L5.41 20z\"/>\n",
              "  </svg>\n",
              "      </button>\n",
              "      \n",
              "  <style>\n",
              "    .colab-df-container {\n",
              "      display:flex;\n",
              "      flex-wrap:wrap;\n",
              "      gap: 12px;\n",
              "    }\n",
              "\n",
              "    .colab-df-convert {\n",
              "      background-color: #E8F0FE;\n",
              "      border: none;\n",
              "      border-radius: 50%;\n",
              "      cursor: pointer;\n",
              "      display: none;\n",
              "      fill: #1967D2;\n",
              "      height: 32px;\n",
              "      padding: 0 0 0 0;\n",
              "      width: 32px;\n",
              "    }\n",
              "\n",
              "    .colab-df-convert:hover {\n",
              "      background-color: #E2EBFA;\n",
              "      box-shadow: 0px 1px 2px rgba(60, 64, 67, 0.3), 0px 1px 3px 1px rgba(60, 64, 67, 0.15);\n",
              "      fill: #174EA6;\n",
              "    }\n",
              "\n",
              "    [theme=dark] .colab-df-convert {\n",
              "      background-color: #3B4455;\n",
              "      fill: #D2E3FC;\n",
              "    }\n",
              "\n",
              "    [theme=dark] .colab-df-convert:hover {\n",
              "      background-color: #434B5C;\n",
              "      box-shadow: 0px 1px 3px 1px rgba(0, 0, 0, 0.15);\n",
              "      filter: drop-shadow(0px 1px 2px rgba(0, 0, 0, 0.3));\n",
              "      fill: #FFFFFF;\n",
              "    }\n",
              "  </style>\n",
              "\n",
              "      <script>\n",
              "        const buttonEl =\n",
              "          document.querySelector('#df-eb81814d-f132-4b90-b02f-781cdf392188 button.colab-df-convert');\n",
              "        buttonEl.style.display =\n",
              "          google.colab.kernel.accessAllowed ? 'block' : 'none';\n",
              "\n",
              "        async function convertToInteractive(key) {\n",
              "          const element = document.querySelector('#df-eb81814d-f132-4b90-b02f-781cdf392188');\n",
              "          const dataTable =\n",
              "            await google.colab.kernel.invokeFunction('convertToInteractive',\n",
              "                                                     [key], {});\n",
              "          if (!dataTable) return;\n",
              "\n",
              "          const docLinkHtml = 'Like what you see? Visit the ' +\n",
              "            '<a target=\"_blank\" href=https://colab.research.google.com/notebooks/data_table.ipynb>data table notebook</a>'\n",
              "            + ' to learn more about interactive tables.';\n",
              "          element.innerHTML = '';\n",
              "          dataTable['output_type'] = 'display_data';\n",
              "          await google.colab.output.renderOutput(dataTable, element);\n",
              "          const docLink = document.createElement('div');\n",
              "          docLink.innerHTML = docLinkHtml;\n",
              "          element.appendChild(docLink);\n",
              "        }\n",
              "      </script>\n",
              "    </div>\n",
              "  </div>\n",
              "  "
            ]
          },
          "metadata": {},
          "execution_count": 10
        }
      ],
      "source": [
        "# proportion of count data on categorical columns\n",
        "def resumetable(df):\n",
        "    print(f\"Dataset Shape: {df.shape}\")\n",
        "    summary = pd.DataFrame(df.dtypes,columns=['dtypes'])\n",
        "    summary = summary.reset_index()\n",
        "    summary['Name'] = summary['index']\n",
        "    summary = summary[['Name','dtypes']]\n",
        "    summary['Missing'] = df.isnull().sum().values\n",
        "    summary['Uniques'] = df.nunique().values\n",
        "    summary['Sample Value'] = df.loc[0].values\n",
        "    return summary\n",
        "resumetable(df)"
      ]
    },
    {
      "cell_type": "markdown",
      "source": [
        "**Observation**: melihat data profile seperti feature, dtypes, Missing, Uniques dan Sample Value\n",
        "\n",
        "**Action**:\n",
        "- Menghapus ID pelanggan dari kumpulan data karena ID tersebut unik untuk setiap catatan dan oleh karena itu kami tidak akan menggunakannya sebagai variabel prediktor.\n",
        "- Label Encoding semua kolom kategorikal yang memiliki 2 nilai.\n",
        "Mengonversi Total Biaya menjadi tipe data numerik."
      ],
      "metadata": {
        "id": "U1Ha-JwG9nk9"
      }
    },
    {
      "cell_type": "code",
      "execution_count": null,
      "metadata": {
        "colab": {
          "base_uri": "https://localhost:8080/"
        },
        "id": "rFJh4GD5xmoX",
        "outputId": "68bcf653-35f9-449b-ab87-267703187ce8"
      },
      "outputs": [
        {
          "output_type": "stream",
          "name": "stdout",
          "text": [
            "We have 3 numerical columns : ['SeniorCitizen', 'tenure', 'MonthlyCharges']\n",
            "\n",
            "We have 18 categorical columns : ['customerID', 'gender', 'Partner', 'Dependents', 'PhoneService', 'MultipleLines', 'InternetService', 'OnlineSecurity', 'OnlineBackup', 'DeviceProtection', 'TechSupport', 'StreamingTV', 'StreamingMovies', 'Contract', 'PaperlessBilling', 'PaymentMethod', 'TotalCharges', 'Churn']\n"
          ]
        }
      ],
      "source": [
        "# define numerical & categorical columns\n",
        "num_cols = df.select_dtypes(exclude='object').columns.tolist()\n",
        "cat_cols = df.select_dtypes(include='object').columns.tolist()\n",
        "\n",
        "# print columns\n",
        "print('We have {} numerical columns : {}'.format(len(num_cols), num_cols))\n",
        "print('\\nWe have {} categorical columns : {}'.format(len(cat_cols), cat_cols))"
      ]
    },
    {
      "cell_type": "markdown",
      "metadata": {
        "id": "OSgakp7SfA1h"
      },
      "source": [
        "## Correlation Each Variable"
      ]
    },
    {
      "cell_type": "markdown",
      "metadata": {
        "id": "9IZKRq-lxnM7"
      },
      "source": [
        "## Univariate Analysis"
      ]
    },
    {
      "cell_type": "markdown",
      "metadata": {
        "id": "8exB18Qt0MX5"
      },
      "source": [
        "### Numerical Columns"
      ]
    },
    {
      "cell_type": "code",
      "execution_count": null,
      "metadata": {
        "colab": {
          "base_uri": "https://localhost:8080/",
          "height": 200
        },
        "id": "cP8ixXYbyJTu",
        "outputId": "a155c946-1acb-4d81-fb9a-07cd9a2d83b4"
      },
      "outputs": [
        {
          "output_type": "display_data",
          "data": {
            "text/plain": [
              "<Figure size 1080x720 with 3 Axes>"
            ],
            "image/png": "[encoded data removed]"
          },
          "metadata": {
            "needs_background": "light"
          }
        }
      ],
      "source": [
        "plt.figure(figsize=(15, 10))\n",
        "plt.suptitle('Univariate Analysis of Numerical Columns', fontsize=16, fontweight='bold', alpha=0.8, y=1.)\n",
        "for i in range(0, len(num_cols)):\n",
        "    plt.subplot(5, 3, i+1)\n",
        "    sns.kdeplot(x=df[num_cols[i]], color='indianred')\n",
        "    plt.xlabel(num_cols[i])\n",
        "    plt.tight_layout()"
      ]
    },
    {
      "cell_type": "markdown",
      "metadata": {
        "id": "ZCDRX_9fzTND"
      },
      "source": [
        "Dari hasil visualisasi tersebut dapat disimpulkan bahwa:\n",
        "- Kolom `tenure` dan `monthlyChargers` memiliki **distribusi binomial**\n",
        "- Kolom `seniorCitizen` sepertinya memiliki distribusi data **positive skewed** (menceng ke kanan) yang mengindikasikan terdapat outlier."
      ]
    },
    {
      "cell_type": "markdown",
      "metadata": {
        "id": "cHDKefdq0Prp"
      },
      "source": [
        "### Categorical Columns"
      ]
    },
    {
      "cell_type": "code",
      "execution_count": null,
      "metadata": {
        "colab": {
          "base_uri": "https://localhost:8080/",
          "height": 596
        },
        "id": "DgEB3HB_z1mH",
        "outputId": "b58be3a3-0921-4811-c008-956256c4b777"
      },
      "outputs": [
        {
          "output_type": "display_data",
          "data": {
            "text/plain": [
              "<Figure size 1080x576 with 18 Axes>"
            ],
            "image/png": "[encoded data removed]"
          },
          "metadata": {
            "needs_background": "light"
          }
        }
      ],
      "source": [
        "# categorical columns\n",
        "plt.figure(figsize=(15, 8))\n",
        "plt.suptitle('Univariate Analysis of Categorical Columns', fontsize=16, fontweight='bold', alpha=0.8, y=1.)\n",
        "for i in range(0, len(cat_cols)):\n",
        "    plt.subplot(5, 4, i+1)\n",
        "    sns.countplot(x=df[cat_cols[i]], color='seagreen')\n",
        "    plt.tight_layout()"
      ]
    },
    {
      "cell_type": "markdown",
      "metadata": {
        "id": "8i0UkFL00Uig"
      },
      "source": [
        "Dari hasil visualisasi diatas dapat disimpulkan bahwa:\n",
        "- ...................."
      ]
    },
    {
      "cell_type": "markdown",
      "metadata": {
        "id": "cX8d6LW00Yw-"
      },
      "source": [
        "## Multivariate Analysis"
      ]
    },
    {
      "cell_type": "code",
      "execution_count": null,
      "metadata": {
        "colab": {
          "base_uri": "https://localhost:8080/",
          "height": 726
        },
        "id": "0mK9yaD-0ZeG",
        "outputId": "94a98380-d8d8-493d-e96d-cfb27ddf3cb8"
      },
      "outputs": [
        {
          "output_type": "display_data",
          "data": {
            "text/plain": [
              "<Figure size 864x720 with 2 Axes>"
            ],
            "image/png": "[encoded data removed]"
          },
          "metadata": {
            "needs_background": "light"
          }
        }
      ],
      "source": [
        "# Heatmap Correlation\n",
        "plt.figure(figsize=(12,10))\n",
        "sns.heatmap(df.corr(), annot=True, fmt='.3f', cmap='viridis')\n",
        "plt.suptitle('Heatmap Correlation', color='#3C3744', fontsize=16, fontweight='bold', y=0.98)\n",
        "plt.tight_layout()"
      ]
    },
    {
      "cell_type": "markdown",
      "metadata": {
        "id": "xcJIP56J0gFY"
      },
      "source": [
        "Dari hasil korelasi tersebut diketahui bahwa:\n",
        "\n",
        "- Kolom target `Churn` memiliki korelasi negatif lemah pada ............"
      ]
    },
    {
      "cell_type": "markdown",
      "metadata": {
        "id": "IzrvQKB30nWh"
      },
      "source": [
        "### Features by Target"
      ]
    },
    {
      "cell_type": "code",
      "execution_count": null,
      "metadata": {
        "colab": {
          "base_uri": "https://localhost:8080/",
          "height": 294
        },
        "id": "32ITMsKd0r84",
        "outputId": "e58edbec-ff0e-4701-b2f8-d3e4b0620657"
      },
      "outputs": [
        {
          "output_type": "display_data",
          "data": {
            "text/plain": [
              "<Figure size 1440x360 with 3 Axes>"
            ],
            "image/png": "[encoded data removed]"
          },
          "metadata": {
            "needs_background": "light"
          }
        }
      ],
      "source": [
        "# EDA Numerical Features by Target\n",
        "num_cols2 = ['SeniorCitizen','tenure', 'MonthlyCharges']\n",
        "clr1 = ['#E84855', '#1D8A99']\n",
        "fig, ax = plt.subplots(1, 3, figsize=(20,5))\n",
        "fig.suptitle('Distribution of Numerical Features by Churn', color='#3C3744',\n",
        "             fontsize=16, fontweight='bold', ha='center')\n",
        "for i, col in enumerate(num_cols2):\n",
        "    sns.histplot(data=df, x=col, hue='Churn', bins=20, kde=True,\n",
        "                 multiple='stack', palette=clr1, ax=ax[i])\n",
        "    ax[i].set_title(f'Histogram of {col}', fontsize=12)\n",
        "fig.tight_layout()\n",
        "fig.subplots_adjust(top=0.93)"
      ]
    },
    {
      "cell_type": "markdown",
      "metadata": {
        "id": "qTRtQ_wU174R"
      },
      "source": [
        "Dari hasil visualisasi tersebut dapat disimpulkan bahwa:\n",
        "- Kolom `tenure` dan monthlyChargers memiliki distribusi binomial\n",
        "- Kolom `seniorCitizen` sepertinya memiliki distribusi data positive skewed (menceng ke kanan) yang mengindikasikan terdapat outlier.\n"
      ]
    },
    {
      "cell_type": "code",
      "execution_count": null,
      "metadata": {
        "colab": {
          "base_uri": "https://localhost:8080/",
          "height": 1000
        },
        "id": "FwUPRSru1_-T",
        "outputId": "753b0828-03d7-428a-c4c3-2cd109f58fe6"
      },
      "outputs": [
        {
          "output_type": "display_data",
          "data": {
            "text/plain": [
              "<Figure size 1080x1440 with 15 Axes>"
            ],
            "image/png": "[encoded data removed]"
          },
          "metadata": {
            "needs_background": "light"
          }
        }
      ],
      "source": [
        "# EDA Categorical Features by Target\n",
        "cat_cols2 = ['gender', 'Partner', 'Dependents', 'PhoneService',\n",
        "             'MultipleLines', 'InternetService', 'OnlineSecurity', 'OnlineBackup',\n",
        "             'DeviceProtection', 'TechSupport', 'StreamingTV', 'StreamingMovies',\n",
        "             'Contract', 'PaperlessBilling', 'PaymentMethod', 'TotalCharges', 'Churn']\n",
        "clr2 = ['#E84855', '#1D8A99']\n",
        "fig, axes = plt.subplots(5, 3, figsize=(15,20))\n",
        "fig.suptitle('Distribution of Categorical Features By Churn', color='#3C3744',\n",
        "             fontsize=16, fontweight='bold')\n",
        "for ax, col in zip(axes.flatten(), df[cat_cols2].columns):\n",
        "    sns.countplot(data=df, x=col, hue='Churn', palette=clr2, ax=ax)\n",
        "    ax.set_title(f'Distribution of {col}', fontsize=12)\n",
        "    ax.set_ylabel('')\n",
        "axes[4,2].axis('off')\n",
        "fig.tight_layout()\n",
        "fig.subplots_adjust(top=0.93)"
      ]
    },
    {
      "cell_type": "markdown",
      "metadata": {
        "id": "i6M7kkHr46_M"
      },
      "source": [
        "**Berdasarkan hasil visualiasi tersebut, maka:**\n",
        "\n",
        "**Categorical Features:**\n",
        "- `gender` : Male = Female\n",
        "- `SeniorCitizen` : No SeniorCitizen > SeniorCitizen\n",
        "- `Partner` : No Partner > Partner\n",
        "- `Dependents` : No Dependent > Dependent\n",
        "- `PhoneService` : PhoneService > No PhoneService\n",
        "- `MultipleLines` : MultipleLines > No MultipleLines > No PhoneService\n",
        "- `InternetService` : Fiber Optic > DSL > No InternetService\n",
        "- `OnlineSecurity` : Absent > Present > No InternetService\n",
        "- `OnlineBackup` : Absent > Present > No InternetService\n",
        "- `DeviceProtection` : Absent > Present > No InternetService\n",
        "- `TechSupport` : Absent > Present > No InternetService\n",
        "- `StreamingTV` : Absent > Present > No InternetService\n",
        "- `StreamingMovies` : Absent > Present > No InternetService\n",
        "- `Contract` : Month-to-Month > One year > Two year\n",
        "- `PaperlessBilling` : Present > Absent\n",
        "- `PaymentMethod` : Electronic check > Mailed check > Bank Transfer (automatic) > - Credit Card (automatic)"
      ]
    },
    {
      "cell_type": "markdown",
      "metadata": {
        "id": "t6Ci8-_42T6d"
      },
      "source": [
        "## EDA Conclusion"
      ]
    },
    {
      "cell_type": "markdown",
      "metadata": {
        "id": "isZl5vWL2V5s"
      },
      "source": [
        "Berdasarkan EDA yang telah dilakukan, dapat ditarik kesimpulan sebagai berikut:\n",
        "1. **Dataset overview:**\n",
        "  Dataset berisi 7.043 baris dan 21 kolom.\n",
        "Tidak ada missing values dalam dataset.\n",
        "Terdapat 4 kolom biner, 9 kolom kategorikal, dan 8 kolom numerik pada dataset.\n",
        "Variabel targetnya adalah \"Churn\", yang memiliki 2 kelas: \"Yes\" dan \"No\".\n",
        "Proporsi \"No\" dalam variabel target lebih tinggi daripada \"Yes\".\n",
        "2. **Univariate Analysis**\n",
        "-  **Numerical Columns**:\n",
        "Kolom \"tenure\" dan \"MonthlyCharges\" memiliki distribusi bimodal.\n",
        "Kolom \"SeniorCitizen\" memiliki highly skewed distribution.\n",
        "Sebagian besar kolom numerik tidak memiliki outliers yang ekstrim.\n",
        "- **b. Categorical Columns**:\n",
        "Mayoritas pelanggan adalah laki-laki (50,5%) dan tidak memiliki partners (51,7%).\n",
        "Sebagian besar pelanggan memiliki phone service (90,3%), tetapi hanya sedikit pelanggan yang memiliki multiple lines (42,7%).\n",
        "Mayoritas pelanggan menggunakan fiber optic (43,96%) dan tidak memiliki online security (49,7%).\n",
        "Sebagian besar pelanggan membayar menggunakan electronic check (33,6%).\n",
        "4. **Heatmap Correlation**:\n",
        "Terdapat korelasi positif yang kuat antara \"TotalCharges\" dan \"tenure\".\n",
        "Terdapat korelasi negatif sedang antara \"MonthlyCharges\" dan \"tenure\".\n",
        "\"SeniorCitizen\" dan \"MonthlyCharges\" memiliki korelasi positif yang lemah dengan \"Churn\".\n",
        "5. **EDA Numerical Features by Target**:\n",
        "Pelanggan yang melakukan churning cenderung memiliki \"MonthlyCharges\" yang lebih tinggi dibandingkan pelanggan yang tidak melakukan churning.\n",
        "Pelanggan yang melakukan churning cenderung memiliki \"tenure\" yang lebih pendek dibandingkan dengan pelanggan yang tidak melakukan churning.\n",
        "\"SeniorCitizen\" tampaknya tidak memiliki pengaruh yang signifikan terhadap churn.\n",
        "6. **EDA Categorical Features by Target**:\n",
        "Pelanggan wanita memiliki tingkat churn yang sedikit lebih tinggi daripada pelanggan pria.\n",
        "Pelanggan yang tidak memiliki partners atau dependents memiliki tingkat churn yang lebih tinggi.\n",
        "Pelanggan yang memiliki layanan internet iber optic internet service, online security, online backup, device protection, atau tech support memiliki tingkat churn yang lebih tinggi.\n",
        "Pelanggan yang memiliki month-to-month contract, paperless billing, atau pay using electronic check memiliki tingkat churn yang lebih tinggi."
      ]
    },
    {
      "cell_type": "markdown",
      "metadata": {
        "id": "1GIS6ITZc0MZ"
      },
      "source": [
        "# Business Insight"
      ]
    },
    {
      "cell_type": "code",
      "execution_count": null,
      "metadata": {
        "id": "2pIg-A_ic0MZ"
      },
      "outputs": [],
      "source": [
        "# copy dataframe\n",
        "df2 = df.copy()"
      ]
    },
    {
      "cell_type": "markdown",
      "source": [
        "## 1. Apakah jenis layanan memiliki tingkat churn paling tinggi?"
      ],
      "metadata": {
        "id": "0r9umwmxHM_E"
      }
    },
    {
      "cell_type": "code",
      "source": [
        "sns.countplot(data=df2, x='Churn', hue='InternetService', palette='Set2')\n",
        "plt.xlabel('Churn', fontsize=12)\n",
        "plt.ylabel('Count', fontsize=12)\n",
        "plt.title('Internet Service with the Highest Churn Rate', fontsize=14)\n",
        "plt.legend(title='Internet Service')\n",
        "# plt.savefig('fig/insight1.png')"
      ],
      "metadata": {
        "colab": {
          "base_uri": "https://localhost:8080/",
          "height": 316
        },
        "id": "BJKJd_mmHYsJ",
        "outputId": "31a7cdaa-4738-4231-bfab-2f6a25fb5302"
      },
      "execution_count": null,
      "outputs": [
        {
          "output_type": "execute_result",
          "data": {
            "text/plain": [
              "<matplotlib.legend.Legend at 0x7f6250be3190>"
            ]
          },
          "metadata": {},
          "execution_count": 18
        },
        {
          "output_type": "display_data",
          "data": {
            "text/plain": [
              "<Figure size 432x288 with 1 Axes>"
            ],
            "image/png": "[encoded data removed]"
          },
          "metadata": {
            "needs_background": "light"
          }
        }
      ]
    },
    {
      "cell_type": "markdown",
      "source": [
        "## 2. Apakah durasi kontrak berpengaruh terhadap keputusan pelanggan untuk berhenti langganan?"
      ],
      "metadata": {
        "id": "TcubccbO1sSK"
      }
    },
    {
      "cell_type": "code",
      "source": [
        "sns.countplot(data=df2, x='Contract', hue='Churn', palette='Set2')\n",
        "plt.xlabel('Contract Duration', fontsize=12)\n",
        "plt.ylabel('Count', fontsize=12)\n",
        "plt.title('Effect of Contract Duration on Customer Churn', fontsize=14)\n",
        "plt.legend(title='Churn')\n",
        "# plt.savefig('fig/insight2.png')"
      ],
      "metadata": {
        "colab": {
          "base_uri": "https://localhost:8080/",
          "height": 316
        },
        "id": "SnwMroaN135H",
        "outputId": "3da7b0ca-8ee0-46e3-b20e-ce17097c609e"
      },
      "execution_count": null,
      "outputs": [
        {
          "output_type": "execute_result",
          "data": {
            "text/plain": [
              "<matplotlib.legend.Legend at 0x7f6255f1f3a0>"
            ]
          },
          "metadata": {},
          "execution_count": 19
        },
        {
          "output_type": "display_data",
          "data": {
            "text/plain": [
              "<Figure size 432x288 with 1 Axes>"
            ],
            "image/png": "[encoded data removed]"
          },
          "metadata": {
            "needs_background": "light"
          }
        }
      ]
    },
    {
      "cell_type": "markdown",
      "source": [
        "## 3. Apakah ada perbedaan dalam tingkat churn antara pelanggan yang menggunakan layanan tambahan seperti tech support, online security, dan backup?"
      ],
      "metadata": {
        "id": "V8UgATz41ryR"
      }
    },
    {
      "cell_type": "code",
      "source": [
        "services = ['TechSupport', 'OnlineSecurity', 'OnlineBackup']\n",
        "fig, axs = plt.subplots(ncols=3, figsize=(15, 6))\n",
        "for i, service in enumerate(services):\n",
        "    sns.countplot(data=df2, x=service, hue='Churn', palette='Set2', ax=axs[i])\n",
        "    axs[i].set_xlabel(service, fontsize=12)\n",
        "    axs[i].set_ylabel('Count', fontsize=12)\n",
        "    axs[i].set_title(f'Effect of {service} on Customer Churn', fontsize=14)\n",
        "    axs[i].legend(title='Churn')\n",
        "plt.tight_layout()\n",
        "# plt.savefig('fig/insight4.png')\n"
      ],
      "metadata": {
        "colab": {
          "base_uri": "https://localhost:8080/",
          "height": 441
        },
        "id": "UIfxGjDV15Ys",
        "outputId": "b2af19fa-a4e2-47a9-8287-5925eb3c7c9a"
      },
      "execution_count": null,
      "outputs": [
        {
          "output_type": "display_data",
          "data": {
            "text/plain": [
              "<Figure size 1080x432 with 3 Axes>"
            ],
            "image/png": "[encoded data removed]"
          },
          "metadata": {
            "needs_background": "light"
          }
        }
      ]
    },
    {
      "cell_type": "markdown",
      "metadata": {
        "id": "eMzCn5Z_c0Ma"
      },
      "source": [
        "Apa faktor yang mempengaruhi keputusan pelanggan beralih layanan?"
      ]
    },
    {
      "cell_type": "markdown",
      "metadata": {
        "id": "iLHzpV17c0Mb"
      },
      "source": [
        "Strategi apa yang dapat dilakukan untuk mempertahankan customer churn, seperti pelanggan dengan kontrak bulanan atau yang membayar menggunakan electronic check??"
      ]
    },
    {
      "cell_type": "markdown",
      "metadata": {
        "id": "ISr5Jdh3c0Mc"
      },
      "source": [
        "Apakah layanan internet fiber optic memiliki masalah kualitas yang menyebabkan tingkat churn yang lebih tinggi?"
      ]
    },
    {
      "cell_type": "markdown",
      "metadata": {
        "id": "DFnKEOdkc0Me"
      },
      "source": [
        "Apakah layanan online security, online backup, device protection, atau tech support memenuhi kebutuhan pelanggan?"
      ]
    },
    {
      "cell_type": "markdown",
      "source": [
        "Apakah dependency pelanggan memiliki tingkat churn yang lebih rendah?"
      ],
      "metadata": {
        "id": "BL4zVZ5JwBil"
      }
    },
    {
      "cell_type": "markdown",
      "metadata": {
        "id": "fGd13vUCYY0Z"
      },
      "source": [
        "# Stage 2 : Data Preprocessing"
      ]
    },
    {
      "cell_type": "markdown",
      "metadata": {
        "id": "5mTm-WzV2mPW"
      },
      "source": [
        "## Data Cleaning"
      ]
    },
    {
      "cell_type": "markdown",
      "metadata": {
        "id": "X5CvgEga3Jwy"
      },
      "source": [
        "### Handling Irrelevant Feature"
      ]
    },
    {
      "cell_type": "code",
      "execution_count": null,
      "metadata": {
        "id": "0vqyYC_fbOIv"
      },
      "outputs": [],
      "source": [
        "# copy dataframe for preprocessing\n",
        "df_prep = df.copy()"
      ]
    },
    {
      "cell_type": "code",
      "execution_count": null,
      "metadata": {
        "id": "S4rDOF-K3Kyj"
      },
      "outputs": [],
      "source": [
        "df_prep = df.drop(['customerID', 'gender', 'PhoneService','MultipleLines'], axis=1)"
      ]
    },
    {
      "cell_type": "markdown",
      "metadata": {
        "id": "D-RfF77MVfKv"
      },
      "source": [
        "- `Customer_id` dihapus karena tidak memiliki efek pada indikasi churn, - kolom `gender` dihapus karena nilai churn untuk laki-laki dan perempuan hampir sama.\n",
        "- `PhoneService` dan `Multiple Line` tidak memberikan informasi apa pun tentang churn sehingga keduanya juga dihapus"
      ]
    },
    {
      "cell_type": "markdown",
      "metadata": {
        "id": "GAAhrzxy2tCb"
      },
      "source": [
        "### Handling Typo Error Data Types"
      ]
    },
    {
      "cell_type": "code",
      "execution_count": null,
      "metadata": {
        "id": "yozkgyqd3iu9"
      },
      "outputs": [],
      "source": [
        "df_prep['TotalCharges'] = pd.to_numeric(df_prep['TotalCharges'], errors='coerce')"
      ]
    },
    {
      "cell_type": "markdown",
      "metadata": {
        "id": "UBmYF_QTdaEw"
      },
      "source": [
        "mengganti tipe data `TotalCharges` ke tipe data numerik"
      ]
    },
    {
      "cell_type": "code",
      "execution_count": null,
      "metadata": {
        "colab": {
          "base_uri": "https://localhost:8080/"
        },
        "id": "21cdEBAj3njb",
        "outputId": "1cddff9a-0eb9-4dac-8010-c47638847c5f"
      },
      "outputs": [
        {
          "output_type": "stream",
          "name": "stdout",
          "text": [
            "<class 'pandas.core.frame.DataFrame'>\n",
            "RangeIndex: 7043 entries, 0 to 7042\n",
            "Data columns (total 17 columns):\n",
            " #   Column            Non-Null Count  Dtype  \n",
            "---  ------            --------------  -----  \n",
            " 0   SeniorCitizen     7043 non-null   int64  \n",
            " 1   Partner           7043 non-null   object \n",
            " 2   Dependents        7043 non-null   object \n",
            " 3   tenure            7043 non-null   int64  \n",
            " 4   InternetService   7043 non-null   object \n",
            " 5   OnlineSecurity    7043 non-null   object \n",
            " 6   OnlineBackup      7043 non-null   object \n",
            " 7   DeviceProtection  7043 non-null   object \n",
            " 8   TechSupport       7043 non-null   object \n",
            " 9   StreamingTV       7043 non-null   object \n",
            " 10  StreamingMovies   7043 non-null   object \n",
            " 11  Contract          7043 non-null   object \n",
            " 12  PaperlessBilling  7043 non-null   object \n",
            " 13  PaymentMethod     7043 non-null   object \n",
            " 14  MonthlyCharges    7043 non-null   float64\n",
            " 15  TotalCharges      7032 non-null   float64\n",
            " 16  Churn             7043 non-null   object \n",
            "dtypes: float64(2), int64(2), object(13)\n",
            "memory usage: 935.5+ KB\n"
          ]
        }
      ],
      "source": [
        "df_prep.info()"
      ]
    },
    {
      "cell_type": "markdown",
      "metadata": {
        "id": "ExCAC-ur3olX"
      },
      "source": [
        "### Handling Missing Values"
      ]
    },
    {
      "cell_type": "code",
      "execution_count": null,
      "metadata": {
        "colab": {
          "base_uri": "https://localhost:8080/"
        },
        "id": "MdLNaI3q3pT2",
        "outputId": "71fb3f65-56bd-4551-f59b-e4ebdc6e731a"
      },
      "outputs": [
        {
          "output_type": "execute_result",
          "data": {
            "text/plain": [
              "11"
            ]
          },
          "metadata": {},
          "execution_count": 26
        }
      ],
      "source": [
        "df_prep.TotalCharges.isna().sum()"
      ]
    },
    {
      "cell_type": "markdown",
      "metadata": {
        "id": "cT4Rm6vX3yfY"
      },
      "source": [
        "pada column `totaChargers` terdapat 11 missing value"
      ]
    },
    {
      "cell_type": "code",
      "execution_count": null,
      "metadata": {
        "id": "bJA6M1g-7jaa"
      },
      "outputs": [],
      "source": [
        "df_prep.dropna(inplace=True)"
      ]
    },
    {
      "cell_type": "markdown",
      "metadata": {
        "id": "gGkC0eF2dy-q"
      },
      "source": [
        "menghapus missing value pada kolom `totalChargers`"
      ]
    },
    {
      "cell_type": "code",
      "execution_count": null,
      "metadata": {
        "colab": {
          "base_uri": "https://localhost:8080/"
        },
        "id": "wMKl-qJa4GIG",
        "outputId": "ab1f4faf-13f5-43b4-93ca-16e748fc2e87"
      },
      "outputs": [
        {
          "output_type": "stream",
          "name": "stdout",
          "text": [
            "Apakah masih terdapat kolom dengan nilai null/missing values? False\n"
          ]
        }
      ],
      "source": [
        "# check again if any missing values\n",
        "print('Apakah masih terdapat kolom dengan nilai null/missing values?', df_prep.isnull().any().any())"
      ]
    },
    {
      "cell_type": "markdown",
      "metadata": {
        "id": "f53XtS2c4I4E"
      },
      "source": [
        "### Handling Duplicate Data"
      ]
    },
    {
      "cell_type": "code",
      "execution_count": null,
      "metadata": {
        "colab": {
          "base_uri": "https://localhost:8080/"
        },
        "id": "fXxJwZYh7ZKr",
        "outputId": "bedf8abd-fd1e-48f0-ccd2-31e53898c252"
      },
      "outputs": [
        {
          "output_type": "execute_result",
          "data": {
            "text/plain": [
              "0       False\n",
              "1       False\n",
              "2       False\n",
              "3       False\n",
              "4       False\n",
              "        ...  \n",
              "7038    False\n",
              "7039    False\n",
              "7040    False\n",
              "7041    False\n",
              "7042    False\n",
              "Length: 7032, dtype: bool"
            ]
          },
          "metadata": {},
          "execution_count": 29
        }
      ],
      "source": [
        "df_prep.duplicated()"
      ]
    },
    {
      "cell_type": "code",
      "execution_count": null,
      "metadata": {
        "colab": {
          "base_uri": "https://localhost:8080/"
        },
        "id": "Y7ck0qQ_4Jmj",
        "outputId": "3a1e9931-f70e-4c07-eb2b-7802f1e9fd88"
      },
      "outputs": [
        {
          "output_type": "stream",
          "name": "stdout",
          "text": [
            "Apakah masih terdapat duplicate data ? True\n"
          ]
        }
      ],
      "source": [
        "# check agaixn if any duplicate\n",
        "print('Apakah masih terdapat duplicate data ?', df_prep.duplicated().any())"
      ]
    },
    {
      "cell_type": "code",
      "source": [
        "df_prep.duplicated().sum()"
      ],
      "metadata": {
        "colab": {
          "base_uri": "https://localhost:8080/"
        },
        "id": "64B9T-4iClzn",
        "outputId": "058207cf-5d3b-49e4-d80f-fb50000023c7"
      },
      "execution_count": null,
      "outputs": [
        {
          "output_type": "execute_result",
          "data": {
            "text/plain": [
              "41"
            ]
          },
          "metadata": {},
          "execution_count": 31
        }
      ]
    },
    {
      "cell_type": "code",
      "source": [
        "duplicate_rows = df_prep[df_prep.duplicated()]\n",
        "duplicate_rows"
      ],
      "metadata": {
        "id": "Zqrv_TVHZC-j"
      },
      "execution_count": null,
      "outputs": []
    },
    {
      "cell_type": "markdown",
      "metadata": {
        "id": "h65HLn5p4ZVF"
      },
      "source": [
        "### Handling Outlier"
      ]
    },
    {
      "cell_type": "code",
      "execution_count": null,
      "metadata": {
        "id": "4fCc0-yubkMK"
      },
      "outputs": [],
      "source": [
        "from scipy.stats import shapiro"
      ]
    },
    {
      "cell_type": "code",
      "execution_count": null,
      "metadata": {
        "id": "a5BBADV5csn0"
      },
      "outputs": [],
      "source": [
        "def outlier_detect(df, col):\n",
        "    q1_col = Q1[col]\n",
        "    iqr_col = IQR[col]\n",
        "    q3_col = Q3[col]\n",
        "    return df[((df[col] < (q1_col - 1.5 * iqr_col)) |(df[col] > (q3_col + 1.5 * iqr_col)))]\n",
        "\n",
        "# ----------------------------------------------\n",
        "def outlier_detect_normal(df, col):\n",
        "    m = df[col].mean()\n",
        "    s = df[col].std()\n",
        "    return df[((df[col]-m)/s).abs()>3]\n",
        "\n",
        "# ----------------------------------------------\n",
        "def lower_outlier(df, col):\n",
        "    q1_col = Q1[col]\n",
        "    iqr_col = IQR[col]\n",
        "    q3_col = Q3[col]\n",
        "    lower = df[(df[col] < (q1_col - 1.5 * iqr_col))]\n",
        "    return lower\n",
        "\n",
        "# ----------------------------------------------\n",
        "def upper_outlier(df, col):\n",
        "    q1_col = Q1[col]\n",
        "    iqr_col = IQR[col]\n",
        "    q3_col = Q3[col]\n",
        "    upper = df[(df[col] > (q3_col + 1.5 * iqr_col))]\n",
        "    return upper\n",
        "\n",
        "def preprocess(df, col):\n",
        "    print(\"************************* {} *************************\\n\".format(col))\n",
        "    print(\"lower outlier: {} ****** upper outlier: {}\\n\".format(lower_outlier(df,col).shape[0], upper_outlier(df,col).shape[0]))\n",
        "    plt.figure(figsize=(8,5))\n",
        "    df[col].plot(kind='box', subplots=True, sharex=False, vert=False)\n",
        "    plt.show()"
      ]
    },
    {
      "cell_type": "code",
      "execution_count": null,
      "metadata": {
        "id": "PKVvqeq74jsu"
      },
      "outputs": [],
      "source": [
        "Q1 = df.quantile(0.25)\n",
        "Q3 = df.quantile(0.75)\n",
        "IQR = Q3 - Q1"
      ]
    },
    {
      "cell_type": "code",
      "execution_count": null,
      "metadata": {
        "colab": {
          "base_uri": "https://localhost:8080/"
        },
        "id": "BBkiqX1Gbag1",
        "outputId": "90776e79-b56b-47dd-cc46-404134372c01"
      },
      "outputs": [
        {
          "output_type": "stream",
          "name": "stdout",
          "text": [
            "SeniorCitizen\n",
            "P_value=0.000\n",
            "*******************************\n",
            "tenure\n",
            "P_value=0.000\n",
            "*******************************\n",
            "MonthlyCharges\n",
            "P_value=0.000\n",
            "*******************************\n"
          ]
        }
      ],
      "source": [
        "for i in range(len(num_cols)):\n",
        "    stat,p = shapiro(df[num_cols[i]])\n",
        "    print(num_cols[i])\n",
        "    print('P_value=%.3f' % (p))\n",
        "    print(\"*******************************\")"
      ]
    },
    {
      "cell_type": "markdown",
      "metadata": {
        "id": "Q-DDpTWyb8Iq"
      },
      "source": [
        "\n",
        "\n",
        "```\n",
        "\"Dalam Uji Normalitas Shapiro-Wilk:\n",
        "H0: Data memiliki distribusi normal\n",
        "\n",
        "Berdasarkan nilai P yang diperoleh dari uji Shapiro (nilai P < 5%),\n",
        "kita menolak hipotesis nol (H0) --> Oleh karena itu, variabel numerik tidak mengikuti distribusi normal.\"\n",
        "```\n",
        "\n"
      ]
    },
    {
      "cell_type": "code",
      "execution_count": null,
      "metadata": {
        "colab": {
          "base_uri": "https://localhost:8080/",
          "height": 1000
        },
        "id": "l0a1SnsrcWci",
        "outputId": "f26f50ce-8400-4797-a1e9-c65e979565c2"
      },
      "outputs": [
        {
          "output_type": "stream",
          "name": "stdout",
          "text": [
            "************************* SeniorCitizen *************************\n",
            "\n",
            "lower outlier: 0 ****** upper outlier: 1142\n",
            "\n"
          ]
        },
        {
          "output_type": "display_data",
          "data": {
            "text/plain": [
              "<Figure size 576x360 with 1 Axes>"
            ],
            "image/png": "[encoded data removed]"
          },
          "metadata": {
            "needs_background": "light"
          }
        },
        {
          "output_type": "stream",
          "name": "stdout",
          "text": [
            "************************* tenure *************************\n",
            "\n",
            "lower outlier: 0 ****** upper outlier: 0\n",
            "\n"
          ]
        },
        {
          "output_type": "display_data",
          "data": {
            "text/plain": [
              "<Figure size 576x360 with 1 Axes>"
            ],
            "image/png": "[encoded data removed]"
          },
          "metadata": {
            "needs_background": "light"
          }
        },
        {
          "output_type": "stream",
          "name": "stdout",
          "text": [
            "************************* MonthlyCharges *************************\n",
            "\n",
            "lower outlier: 0 ****** upper outlier: 0\n",
            "\n"
          ]
        },
        {
          "output_type": "display_data",
          "data": {
            "text/plain": [
              "<Figure size 576x360 with 1 Axes>"
            ],
            "image/png": "[encoded data removed]"
          },
          "metadata": {
            "needs_background": "light"
          }
        }
      ],
      "source": [
        "for i in range(len(num_cols)):\n",
        "    preprocess(df[num_cols], num_cols[i])"
      ]
    },
    {
      "cell_type": "markdown",
      "metadata": {
        "id": "9qJs_QNUcxT_"
      },
      "source": [
        "`SeniorCitizen` adalah sebuah kolom biner sehingga 1142 instansi bukanlah data outlier"
      ]
    },
    {
      "cell_type": "code",
      "execution_count": null,
      "metadata": {
        "id": "7JV-LRetbHat"
      },
      "outputs": [],
      "source": [
        "df_clean = df_prep.copy()"
      ]
    },
    {
      "cell_type": "markdown",
      "metadata": {
        "id": "7ldT092y4l2g"
      },
      "source": [
        "## Feature Engineering"
      ]
    },
    {
      "cell_type": "markdown",
      "metadata": {
        "id": "v5ikW5Sq4nmu"
      },
      "source": [
        "### Feature Extraction"
      ]
    },
    {
      "cell_type": "code",
      "execution_count": null,
      "metadata": {
        "colab": {
          "base_uri": "https://localhost:8080/"
        },
        "id": "tx1ChwMq4pEo",
        "outputId": "0ee79cbb-9642-44ba-f66b-b10882e6262d"
      },
      "outputs": [
        {
          "output_type": "stream",
          "name": "stdout",
          "text": [
            "tenure with TotalCharges has correlation : 0.826\n",
            "MonthlyCharges with TotalCharges has correlation : 0.651\n"
          ]
        }
      ],
      "source": [
        "# get correlation > +- 0.5\n",
        "df_corr = df_clean.corr().iloc[1:,1:]\n",
        "df_corr = df_corr.apply(lambda x: round(x, 3))\n",
        "dfcorr = []\n",
        "for idx in df_corr.index:\n",
        "    for col in df_corr.columns:\n",
        "        dfcorr.append([idx, col])\n",
        "        if (np.abs(df_corr.loc[idx, col]) > 0.5) and (idx != col) and [col, idx] not in dfcorr:\n",
        "            print(f'{idx} with {col} has correlation : {df_corr.loc[idx, col]}')"
      ]
    },
    {
      "cell_type": "markdown",
      "source": [],
      "metadata": {
        "id": "Nv7u2TQKD_6w"
      }
    },
    {
      "cell_type": "markdown",
      "metadata": {
        "id": "AAe5bEAJ4uPl"
      },
      "source": [
        "### Feature Scaling"
      ]
    },
    {
      "cell_type": "code",
      "execution_count": null,
      "metadata": {
        "id": "ruGmklhY4u1u"
      },
      "outputs": [],
      "source": [
        "def distplot(feature, frame, color='r'):\n",
        "    plt.figure(figsize=(8,3))\n",
        "    plt.title(\"Distribution for {}\".format(feature))\n",
        "    ax = sns.distplot(frame[feature], color= color)"
      ]
    },
    {
      "cell_type": "code",
      "execution_count": null,
      "metadata": {
        "colab": {
          "base_uri": "https://localhost:8080/",
          "height": 689
        },
        "id": "zSYhwHm4DuL4",
        "outputId": "e56d639a-78d0-4231-f04c-a513b301b9c0"
      },
      "outputs": [
        {
          "output_type": "display_data",
          "data": {
            "text/plain": [
              "<Figure size 576x216 with 1 Axes>"
            ],
            "image/png": "[encoded data removed]"
          },
          "metadata": {
            "needs_background": "light"
          }
        },
        {
          "output_type": "display_data",
          "data": {
            "text/plain": [
              "<Figure size 576x216 with 1 Axes>"
            ],
            "image/png": "[encoded data removed]"
          },
          "metadata": {
            "needs_background": "light"
          }
        },
        {
          "output_type": "display_data",
          "data": {
            "text/plain": [
              "<Figure size 576x216 with 1 Axes>"
            ],
            "image/png": "[encoded data removed]"
          },
          "metadata": {
            "needs_background": "light"
          }
        }
      ],
      "source": [
        "# distribution of data before scaling\n",
        "col_num =  [\"tenure\", 'MonthlyCharges', 'TotalCharges']\n",
        "for features in col_num :distplot(features, df_clean)"
      ]
    },
    {
      "cell_type": "markdown",
      "metadata": {
        "id": "IiNMcAA75esT"
      },
      "source": [
        "Berdasarkan hasil visualiasi tersebut, maka:\n",
        "- Kolom `tenure` akan dilakukan Standard scaling karena memiliki distribusi right skewd\n",
        "- Kolom `MonthlyCharges` dan `TotalCharges` akan dilakukan standard scaling untuk memastikan bahwa kedua kelompok memiliki skala yang sama.\n"
      ]
    },
    {
      "cell_type": "code",
      "execution_count": null,
      "metadata": {
        "colab": {
          "base_uri": "https://localhost:8080/",
          "height": 689
        },
        "id": "n5_uaMck54g0",
        "outputId": "593b18de-a129-4d21-e1cc-1e9423b590d3"
      },
      "outputs": [
        {
          "output_type": "display_data",
          "data": {
            "text/plain": [
              "<Figure size 576x216 with 1 Axes>"
            ],
            "image/png": "[encoded data removed]"
          },
          "metadata": {
            "needs_background": "light"
          }
        },
        {
          "output_type": "display_data",
          "data": {
            "text/plain": [
              "<Figure size 576x216 with 1 Axes>"
            ],
            "image/png": "[encoded data removed]"
          },
          "metadata": {
            "needs_background": "light"
          }
        },
        {
          "output_type": "display_data",
          "data": {
            "text/plain": [
              "<Figure size 576x216 with 1 Axes>"
            ],
            "image/png": "[encoded data removed]"
          },
          "metadata": {
            "needs_background": "light"
          }
        }
      ],
      "source": [
        "data_std = pd.DataFrame(StandardScaler().fit_transform(df_clean[col_num]).astype('float64'), columns = col_num)\n",
        "for feat in col_num: distplot(feat, data_std, color='c')"
      ]
    },
    {
      "cell_type": "code",
      "execution_count": null,
      "metadata": {
        "colab": {
          "base_uri": "https://localhost:8080/",
          "height": 300
        },
        "id": "4oQxGpMs79ul",
        "outputId": "c869d05b-42ad-47af-8899-a8806b913074"
      },
      "outputs": [
        {
          "output_type": "execute_result",
          "data": {
            "text/plain": [
              "            tenure  MonthlyCharges  TotalCharges\n",
              "count  7032.000000     7032.000000   7032.000000\n",
              "mean     32.421786       64.798208   2283.300441\n",
              "std      24.545260       30.085974   2266.771362\n",
              "min       1.000000       18.250000     18.800000\n",
              "25%       9.000000       35.587500    401.450000\n",
              "50%      29.000000       70.350000   1397.475000\n",
              "75%      55.000000       89.862500   3794.737500\n",
              "max      72.000000      118.750000   8684.800000"
            ],
            "text/html": [
              "\n",
              "  <div id=\"df-35e03225-f09c-4bf2-8269-8a3406a9a67f\">\n",
              "    <div class=\"colab-df-container\">\n",
              "      <div>\n",
              "<style scoped>\n",
              "    .dataframe tbody tr th:only-of-type {\n",
              "        vertical-align: middle;\n",
              "    }\n",
              "\n",
              "    .dataframe tbody tr th {\n",
              "        vertical-align: top;\n",
              "    }\n",
              "\n",
              "    .dataframe thead th {\n",
              "        text-align: right;\n",
              "    }\n",
              "</style>\n",
              "<table border=\"1\" class=\"dataframe\">\n",
              "  <thead>\n",
              "    <tr style=\"text-align: right;\">\n",
              "      <th></th>\n",
              "      <th>tenure</th>\n",
              "      <th>MonthlyCharges</th>\n",
              "      <th>TotalCharges</th>\n",
              "    </tr>\n",
              "  </thead>\n",
              "  <tbody>\n",
              "    <tr>\n",
              "      <th>count</th>\n",
              "      <td>7032.000000</td>\n",
              "      <td>7032.000000</td>\n",
              "      <td>7032.000000</td>\n",
              "    </tr>\n",
              "    <tr>\n",
              "      <th>mean</th>\n",
              "      <td>32.421786</td>\n",
              "      <td>64.798208</td>\n",
              "      <td>2283.300441</td>\n",
              "    </tr>\n",
              "    <tr>\n",
              "      <th>std</th>\n",
              "      <td>24.545260</td>\n",
              "      <td>30.085974</td>\n",
              "      <td>2266.771362</td>\n",
              "    </tr>\n",
              "    <tr>\n",
              "      <th>min</th>\n",
              "      <td>1.000000</td>\n",
              "      <td>18.250000</td>\n",
              "      <td>18.800000</td>\n",
              "    </tr>\n",
              "    <tr>\n",
              "      <th>25%</th>\n",
              "      <td>9.000000</td>\n",
              "      <td>35.587500</td>\n",
              "      <td>401.450000</td>\n",
              "    </tr>\n",
              "    <tr>\n",
              "      <th>50%</th>\n",
              "      <td>29.000000</td>\n",
              "      <td>70.350000</td>\n",
              "      <td>1397.475000</td>\n",
              "    </tr>\n",
              "    <tr>\n",
              "      <th>75%</th>\n",
              "      <td>55.000000</td>\n",
              "      <td>89.862500</td>\n",
              "      <td>3794.737500</td>\n",
              "    </tr>\n",
              "    <tr>\n",
              "      <th>max</th>\n",
              "      <td>72.000000</td>\n",
              "      <td>118.750000</td>\n",
              "      <td>8684.800000</td>\n",
              "    </tr>\n",
              "  </tbody>\n",
              "</table>\n",
              "</div>\n",
              "      <button class=\"colab-df-convert\" onclick=\"convertToInteractive('df-35e03225-f09c-4bf2-8269-8a3406a9a67f')\"\n",
              "              title=\"Convert this dataframe to an interactive table.\"\n",
              "              style=\"display:none;\">\n",
              "        \n",
              "  <svg xmlns=\"http://www.w3.org/2000/svg\" height=\"24px\"viewBox=\"0 0 24 24\"\n",
              "       width=\"24px\">\n",
              "    <path d=\"M0 0h24v24H0V0z\" fill=\"none\"/>\n",
              "    <path d=\"M18.56 5.44l.94 2.06.94-2.06 2.06-.94-2.06-.94-.94-2.06-.94 2.06-2.06.94zm-11 1L8.5 8.5l.94-2.06 2.06-.94-2.06-.94L8.5 2.5l-.94 2.06-2.06.94zm10 10l.94 2.06.94-2.06 2.06-.94-2.06-.94-.94-2.06-.94 2.06-2.06.94z\"/><path d=\"M17.41 7.96l-1.37-1.37c-.4-.4-.92-.59-1.43-.59-.52 0-1.04.2-1.43.59L10.3 9.45l-7.72 7.72c-.78.78-.78 2.05 0 2.83L4 21.41c.39.39.9.59 1.41.59.51 0 1.02-.2 1.41-.59l7.78-7.78 2.81-2.81c.8-.78.8-2.07 0-2.86zM5.41 20L4 18.59l7.72-7.72 1.47 1.35L5.41 20z\"/>\n",
              "  </svg>\n",
              "      </button>\n",
              "      \n",
              "  <style>\n",
              "    .colab-df-container {\n",
              "      display:flex;\n",
              "      flex-wrap:wrap;\n",
              "      gap: 12px;\n",
              "    }\n",
              "\n",
              "    .colab-df-convert {\n",
              "      background-color: #E8F0FE;\n",
              "      border: none;\n",
              "      border-radius: 50%;\n",
              "      cursor: pointer;\n",
              "      display: none;\n",
              "      fill: #1967D2;\n",
              "      height: 32px;\n",
              "      padding: 0 0 0 0;\n",
              "      width: 32px;\n",
              "    }\n",
              "\n",
              "    .colab-df-convert:hover {\n",
              "      background-color: #E2EBFA;\n",
              "      box-shadow: 0px 1px 2px rgba(60, 64, 67, 0.3), 0px 1px 3px 1px rgba(60, 64, 67, 0.15);\n",
              "      fill: #174EA6;\n",
              "    }\n",
              "\n",
              "    [theme=dark] .colab-df-convert {\n",
              "      background-color: #3B4455;\n",
              "      fill: #D2E3FC;\n",
              "    }\n",
              "\n",
              "    [theme=dark] .colab-df-convert:hover {\n",
              "      background-color: #434B5C;\n",
              "      box-shadow: 0px 1px 3px 1px rgba(0, 0, 0, 0.15);\n",
              "      filter: drop-shadow(0px 1px 2px rgba(0, 0, 0, 0.3));\n",
              "      fill: #FFFFFF;\n",
              "    }\n",
              "  </style>\n",
              "\n",
              "      <script>\n",
              "        const buttonEl =\n",
              "          document.querySelector('#df-35e03225-f09c-4bf2-8269-8a3406a9a67f button.colab-df-convert');\n",
              "        buttonEl.style.display =\n",
              "          google.colab.kernel.accessAllowed ? 'block' : 'none';\n",
              "\n",
              "        async function convertToInteractive(key) {\n",
              "          const element = document.querySelector('#df-35e03225-f09c-4bf2-8269-8a3406a9a67f');\n",
              "          const dataTable =\n",
              "            await google.colab.kernel.invokeFunction('convertToInteractive',\n",
              "                                                     [key], {});\n",
              "          if (!dataTable) return;\n",
              "\n",
              "          const docLinkHtml = 'Like what you see? Visit the ' +\n",
              "            '<a target=\"_blank\" href=https://colab.research.google.com/notebooks/data_table.ipynb>data table notebook</a>'\n",
              "            + ' to learn more about interactive tables.';\n",
              "          element.innerHTML = '';\n",
              "          dataTable['output_type'] = 'display_data';\n",
              "          await google.colab.output.renderOutput(dataTable, element);\n",
              "          const docLink = document.createElement('div');\n",
              "          docLink.innerHTML = docLinkHtml;\n",
              "          element.appendChild(docLink);\n",
              "        }\n",
              "      </script>\n",
              "    </div>\n",
              "  </div>\n",
              "  "
            ]
          },
          "metadata": {},
          "execution_count": 45
        }
      ],
      "source": [
        "# statistics data after transformation\n",
        "df_clean[['tenure', 'MonthlyCharges', 'TotalCharges']].describe()"
      ]
    },
    {
      "cell_type": "markdown",
      "metadata": {
        "id": "rmS-vMJtya15"
      },
      "source": [
        "Dari hasil statistik tersebut diketahui bahwa:\n",
        "- Kolom `Tenure` memiliki nilai min = -1.2 dan nilai max = 1.6\n",
        "- Kolom `MonthlyChargers` memiliki nilai min = -1.5 dan nilai max = 1.8 dianggap tidak terlalu variatif range datanya.\n",
        "- Kolom `TotalChargers` .............."
      ]
    },
    {
      "cell_type": "markdown",
      "metadata": {
        "id": "HxVmr0mo6JG6"
      },
      "source": [
        "### Feature Encoding"
      ]
    },
    {
      "cell_type": "code",
      "execution_count": null,
      "metadata": {
        "id": "vYkSq_EsN4Pg"
      },
      "outputs": [],
      "source": [
        "def object_to_int(dataframe_series):\n",
        "    if dataframe_series.dtype=='object':\n",
        "        dataframe_series = LabelEncoder().fit_transform(dataframe_series)\n",
        "    return dataframe_series"
      ]
    },
    {
      "cell_type": "code",
      "execution_count": null,
      "metadata": {
        "colab": {
          "base_uri": "https://localhost:8080/",
          "height": 270
        },
        "id": "RQQ4f64cPR9i",
        "outputId": "0c115d58-890c-4b7d-b303-e1f0fba977fa"
      },
      "outputs": [
        {
          "output_type": "execute_result",
          "data": {
            "text/plain": [
              "   SeniorCitizen  Partner  Dependents  tenure  InternetService  \\\n",
              "0              0        1           0       1                0   \n",
              "1              0        0           0      34                0   \n",
              "2              0        0           0       2                0   \n",
              "3              0        0           0      45                0   \n",
              "4              0        0           0       2                1   \n",
              "\n",
              "   OnlineSecurity  OnlineBackup  DeviceProtection  TechSupport  StreamingTV  \\\n",
              "0               0             2                 0            0            0   \n",
              "1               2             0                 2            0            0   \n",
              "2               2             2                 0            0            0   \n",
              "3               2             0                 2            2            0   \n",
              "4               0             0                 0            0            0   \n",
              "\n",
              "   StreamingMovies  Contract  PaperlessBilling  PaymentMethod  MonthlyCharges  \\\n",
              "0                0         0                 1              2           29.85   \n",
              "1                0         1                 0              3           56.95   \n",
              "2                0         0                 1              3           53.85   \n",
              "3                0         1                 0              0           42.30   \n",
              "4                0         0                 1              2           70.70   \n",
              "\n",
              "   TotalCharges  Churn  \n",
              "0         29.85      0  \n",
              "1       1889.50      0  \n",
              "2        108.15      1  \n",
              "3       1840.75      0  \n",
              "4        151.65      1  "
            ],
            "text/html": [
              "\n",
              "  <div id=\"df-4059c9c7-5624-400f-b473-35495fcf7314\">\n",
              "    <div class=\"colab-df-container\">\n",
              "      <div>\n",
              "<style scoped>\n",
              "    .dataframe tbody tr th:only-of-type {\n",
              "        vertical-align: middle;\n",
              "    }\n",
              "\n",
              "    .dataframe tbody tr th {\n",
              "        vertical-align: top;\n",
              "    }\n",
              "\n",
              "    .dataframe thead th {\n",
              "        text-align: right;\n",
              "    }\n",
              "</style>\n",
              "<table border=\"1\" class=\"dataframe\">\n",
              "  <thead>\n",
              "    <tr style=\"text-align: right;\">\n",
              "      <th></th>\n",
              "      <th>SeniorCitizen</th>\n",
              "      <th>Partner</th>\n",
              "      <th>Dependents</th>\n",
              "      <th>tenure</th>\n",
              "      <th>InternetService</th>\n",
              "      <th>OnlineSecurity</th>\n",
              "      <th>OnlineBackup</th>\n",
              "      <th>DeviceProtection</th>\n",
              "      <th>TechSupport</th>\n",
              "      <th>StreamingTV</th>\n",
              "      <th>StreamingMovies</th>\n",
              "      <th>Contract</th>\n",
              "      <th>PaperlessBilling</th>\n",
              "      <th>PaymentMethod</th>\n",
              "      <th>MonthlyCharges</th>\n",
              "      <th>TotalCharges</th>\n",
              "      <th>Churn</th>\n",
              "    </tr>\n",
              "  </thead>\n",
              "  <tbody>\n",
              "    <tr>\n",
              "      <th>0</th>\n",
              "      <td>0</td>\n",
              "      <td>1</td>\n",
              "      <td>0</td>\n",
              "      <td>1</td>\n",
              "      <td>0</td>\n",
              "      <td>0</td>\n",
              "      <td>2</td>\n",
              "      <td>0</td>\n",
              "      <td>0</td>\n",
              "      <td>0</td>\n",
              "      <td>0</td>\n",
              "      <td>0</td>\n",
              "      <td>1</td>\n",
              "      <td>2</td>\n",
              "      <td>29.85</td>\n",
              "      <td>29.85</td>\n",
              "      <td>0</td>\n",
              "    </tr>\n",
              "    <tr>\n",
              "      <th>1</th>\n",
              "      <td>0</td>\n",
              "      <td>0</td>\n",
              "      <td>0</td>\n",
              "      <td>34</td>\n",
              "      <td>0</td>\n",
              "      <td>2</td>\n",
              "      <td>0</td>\n",
              "      <td>2</td>\n",
              "      <td>0</td>\n",
              "      <td>0</td>\n",
              "      <td>0</td>\n",
              "      <td>1</td>\n",
              "      <td>0</td>\n",
              "      <td>3</td>\n",
              "      <td>56.95</td>\n",
              "      <td>1889.50</td>\n",
              "      <td>0</td>\n",
              "    </tr>\n",
              "    <tr>\n",
              "      <th>2</th>\n",
              "      <td>0</td>\n",
              "      <td>0</td>\n",
              "      <td>0</td>\n",
              "      <td>2</td>\n",
              "      <td>0</td>\n",
              "      <td>2</td>\n",
              "      <td>2</td>\n",
              "      <td>0</td>\n",
              "      <td>0</td>\n",
              "      <td>0</td>\n",
              "      <td>0</td>\n",
              "      <td>0</td>\n",
              "      <td>1</td>\n",
              "      <td>3</td>\n",
              "      <td>53.85</td>\n",
              "      <td>108.15</td>\n",
              "      <td>1</td>\n",
              "    </tr>\n",
              "    <tr>\n",
              "      <th>3</th>\n",
              "      <td>0</td>\n",
              "      <td>0</td>\n",
              "      <td>0</td>\n",
              "      <td>45</td>\n",
              "      <td>0</td>\n",
              "      <td>2</td>\n",
              "      <td>0</td>\n",
              "      <td>2</td>\n",
              "      <td>2</td>\n",
              "      <td>0</td>\n",
              "      <td>0</td>\n",
              "      <td>1</td>\n",
              "      <td>0</td>\n",
              "      <td>0</td>\n",
              "      <td>42.30</td>\n",
              "      <td>1840.75</td>\n",
              "      <td>0</td>\n",
              "    </tr>\n",
              "    <tr>\n",
              "      <th>4</th>\n",
              "      <td>0</td>\n",
              "      <td>0</td>\n",
              "      <td>0</td>\n",
              "      <td>2</td>\n",
              "      <td>1</td>\n",
              "      <td>0</td>\n",
              "      <td>0</td>\n",
              "      <td>0</td>\n",
              "      <td>0</td>\n",
              "      <td>0</td>\n",
              "      <td>0</td>\n",
              "      <td>0</td>\n",
              "      <td>1</td>\n",
              "      <td>2</td>\n",
              "      <td>70.70</td>\n",
              "      <td>151.65</td>\n",
              "      <td>1</td>\n",
              "    </tr>\n",
              "  </tbody>\n",
              "</table>\n",
              "</div>\n",
              "      <button class=\"colab-df-convert\" onclick=\"convertToInteractive('df-4059c9c7-5624-400f-b473-35495fcf7314')\"\n",
              "              title=\"Convert this dataframe to an interactive table.\"\n",
              "              style=\"display:none;\">\n",
              "        \n",
              "  <svg xmlns=\"http://www.w3.org/2000/svg\" height=\"24px\"viewBox=\"0 0 24 24\"\n",
              "       width=\"24px\">\n",
              "    <path d=\"M0 0h24v24H0V0z\" fill=\"none\"/>\n",
              "    <path d=\"M18.56 5.44l.94 2.06.94-2.06 2.06-.94-2.06-.94-.94-2.06-.94 2.06-2.06.94zm-11 1L8.5 8.5l.94-2.06 2.06-.94-2.06-.94L8.5 2.5l-.94 2.06-2.06.94zm10 10l.94 2.06.94-2.06 2.06-.94-2.06-.94-.94-2.06-.94 2.06-2.06.94z\"/><path d=\"M17.41 7.96l-1.37-1.37c-.4-.4-.92-.59-1.43-.59-.52 0-1.04.2-1.43.59L10.3 9.45l-7.72 7.72c-.78.78-.78 2.05 0 2.83L4 21.41c.39.39.9.59 1.41.59.51 0 1.02-.2 1.41-.59l7.78-7.78 2.81-2.81c.8-.78.8-2.07 0-2.86zM5.41 20L4 18.59l7.72-7.72 1.47 1.35L5.41 20z\"/>\n",
              "  </svg>\n",
              "      </button>\n",
              "      \n",
              "  <style>\n",
              "    .colab-df-container {\n",
              "      display:flex;\n",
              "      flex-wrap:wrap;\n",
              "      gap: 12px;\n",
              "    }\n",
              "\n",
              "    .colab-df-convert {\n",
              "      background-color: #E8F0FE;\n",
              "      border: none;\n",
              "      border-radius: 50%;\n",
              "      cursor: pointer;\n",
              "      display: none;\n",
              "      fill: #1967D2;\n",
              "      height: 32px;\n",
              "      padding: 0 0 0 0;\n",
              "      width: 32px;\n",
              "    }\n",
              "\n",
              "    .colab-df-convert:hover {\n",
              "      background-color: #E2EBFA;\n",
              "      box-shadow: 0px 1px 2px rgba(60, 64, 67, 0.3), 0px 1px 3px 1px rgba(60, 64, 67, 0.15);\n",
              "      fill: #174EA6;\n",
              "    }\n",
              "\n",
              "    [theme=dark] .colab-df-convert {\n",
              "      background-color: #3B4455;\n",
              "      fill: #D2E3FC;\n",
              "    }\n",
              "\n",
              "    [theme=dark] .colab-df-convert:hover {\n",
              "      background-color: #434B5C;\n",
              "      box-shadow: 0px 1px 3px 1px rgba(0, 0, 0, 0.15);\n",
              "      filter: drop-shadow(0px 1px 2px rgba(0, 0, 0, 0.3));\n",
              "      fill: #FFFFFF;\n",
              "    }\n",
              "  </style>\n",
              "\n",
              "      <script>\n",
              "        const buttonEl =\n",
              "          document.querySelector('#df-4059c9c7-5624-400f-b473-35495fcf7314 button.colab-df-convert');\n",
              "        buttonEl.style.display =\n",
              "          google.colab.kernel.accessAllowed ? 'block' : 'none';\n",
              "\n",
              "        async function convertToInteractive(key) {\n",
              "          const element = document.querySelector('#df-4059c9c7-5624-400f-b473-35495fcf7314');\n",
              "          const dataTable =\n",
              "            await google.colab.kernel.invokeFunction('convertToInteractive',\n",
              "                                                     [key], {});\n",
              "          if (!dataTable) return;\n",
              "\n",
              "          const docLinkHtml = 'Like what you see? Visit the ' +\n",
              "            '<a target=\"_blank\" href=https://colab.research.google.com/notebooks/data_table.ipynb>data table notebook</a>'\n",
              "            + ' to learn more about interactive tables.';\n",
              "          element.innerHTML = '';\n",
              "          dataTable['output_type'] = 'display_data';\n",
              "          await google.colab.output.renderOutput(dataTable, element);\n",
              "          const docLink = document.createElement('div');\n",
              "          docLink.innerHTML = docLinkHtml;\n",
              "          element.appendChild(docLink);\n",
              "        }\n",
              "      </script>\n",
              "    </div>\n",
              "  </div>\n",
              "  "
            ]
          },
          "metadata": {},
          "execution_count": 90
        }
      ],
      "source": [
        "df_prep = df_clean.apply(lambda x: object_to_int(x))\n",
        "df_prep.head()"
      ]
    },
    {
      "cell_type": "markdown",
      "metadata": {
        "id": "BEI2xEnI6fIl"
      },
      "source": [
        "### Feature Selection"
      ]
    },
    {
      "cell_type": "code",
      "execution_count": null,
      "metadata": {
        "colab": {
          "base_uri": "https://localhost:8080/",
          "height": 488
        },
        "id": "V3EvWqF46q-s",
        "outputId": "3d92976f-8547-4ef6-d546-b1a0ab5e6a08"
      },
      "outputs": [
        {
          "output_type": "execute_result",
          "data": {
            "text/plain": [
              "              Column               Hypothesis Result\n",
              "0            Partner          Reject Null Hypothesis\n",
              "1         Dependents          Reject Null Hypothesis\n",
              "2    InternetService          Reject Null Hypothesis\n",
              "3     OnlineSecurity          Reject Null Hypothesis\n",
              "4       OnlineBackup          Reject Null Hypothesis\n",
              "5   DeviceProtection          Reject Null Hypothesis\n",
              "6        TechSupport          Reject Null Hypothesis\n",
              "7        StreamingTV          Reject Null Hypothesis\n",
              "8    StreamingMovies          Reject Null Hypothesis\n",
              "9           Contract          Reject Null Hypothesis\n",
              "10  PaperlessBilling          Reject Null Hypothesis\n",
              "11     PaymentMethod          Reject Null Hypothesis\n",
              "12      TotalCharges  Fail to Reject Null Hypothesis\n",
              "13             Churn          Reject Null Hypothesis"
            ],
            "text/html": [
              "\n",
              "  <div id=\"df-2e0d5288-9d91-4b28-8d95-35284f96a485\">\n",
              "    <div class=\"colab-df-container\">\n",
              "      <div>\n",
              "<style scoped>\n",
              "    .dataframe tbody tr th:only-of-type {\n",
              "        vertical-align: middle;\n",
              "    }\n",
              "\n",
              "    .dataframe tbody tr th {\n",
              "        vertical-align: top;\n",
              "    }\n",
              "\n",
              "    .dataframe thead th {\n",
              "        text-align: right;\n",
              "    }\n",
              "</style>\n",
              "<table border=\"1\" class=\"dataframe\">\n",
              "  <thead>\n",
              "    <tr style=\"text-align: right;\">\n",
              "      <th></th>\n",
              "      <th>Column</th>\n",
              "      <th>Hypothesis Result</th>\n",
              "    </tr>\n",
              "  </thead>\n",
              "  <tbody>\n",
              "    <tr>\n",
              "      <th>0</th>\n",
              "      <td>Partner</td>\n",
              "      <td>Reject Null Hypothesis</td>\n",
              "    </tr>\n",
              "    <tr>\n",
              "      <th>1</th>\n",
              "      <td>Dependents</td>\n",
              "      <td>Reject Null Hypothesis</td>\n",
              "    </tr>\n",
              "    <tr>\n",
              "      <th>2</th>\n",
              "      <td>InternetService</td>\n",
              "      <td>Reject Null Hypothesis</td>\n",
              "    </tr>\n",
              "    <tr>\n",
              "      <th>3</th>\n",
              "      <td>OnlineSecurity</td>\n",
              "      <td>Reject Null Hypothesis</td>\n",
              "    </tr>\n",
              "    <tr>\n",
              "      <th>4</th>\n",
              "      <td>OnlineBackup</td>\n",
              "      <td>Reject Null Hypothesis</td>\n",
              "    </tr>\n",
              "    <tr>\n",
              "      <th>5</th>\n",
              "      <td>DeviceProtection</td>\n",
              "      <td>Reject Null Hypothesis</td>\n",
              "    </tr>\n",
              "    <tr>\n",
              "      <th>6</th>\n",
              "      <td>TechSupport</td>\n",
              "      <td>Reject Null Hypothesis</td>\n",
              "    </tr>\n",
              "    <tr>\n",
              "      <th>7</th>\n",
              "      <td>StreamingTV</td>\n",
              "      <td>Reject Null Hypothesis</td>\n",
              "    </tr>\n",
              "    <tr>\n",
              "      <th>8</th>\n",
              "      <td>StreamingMovies</td>\n",
              "      <td>Reject Null Hypothesis</td>\n",
              "    </tr>\n",
              "    <tr>\n",
              "      <th>9</th>\n",
              "      <td>Contract</td>\n",
              "      <td>Reject Null Hypothesis</td>\n",
              "    </tr>\n",
              "    <tr>\n",
              "      <th>10</th>\n",
              "      <td>PaperlessBilling</td>\n",
              "      <td>Reject Null Hypothesis</td>\n",
              "    </tr>\n",
              "    <tr>\n",
              "      <th>11</th>\n",
              "      <td>PaymentMethod</td>\n",
              "      <td>Reject Null Hypothesis</td>\n",
              "    </tr>\n",
              "    <tr>\n",
              "      <th>12</th>\n",
              "      <td>TotalCharges</td>\n",
              "      <td>Fail to Reject Null Hypothesis</td>\n",
              "    </tr>\n",
              "    <tr>\n",
              "      <th>13</th>\n",
              "      <td>Churn</td>\n",
              "      <td>Reject Null Hypothesis</td>\n",
              "    </tr>\n",
              "  </tbody>\n",
              "</table>\n",
              "</div>\n",
              "      <button class=\"colab-df-convert\" onclick=\"convertToInteractive('df-2e0d5288-9d91-4b28-8d95-35284f96a485')\"\n",
              "              title=\"Convert this dataframe to an interactive table.\"\n",
              "              style=\"display:none;\">\n",
              "        \n",
              "  <svg xmlns=\"http://www.w3.org/2000/svg\" height=\"24px\"viewBox=\"0 0 24 24\"\n",
              "       width=\"24px\">\n",
              "    <path d=\"M0 0h24v24H0V0z\" fill=\"none\"/>\n",
              "    <path d=\"M18.56 5.44l.94 2.06.94-2.06 2.06-.94-2.06-.94-.94-2.06-.94 2.06-2.06.94zm-11 1L8.5 8.5l.94-2.06 2.06-.94-2.06-.94L8.5 2.5l-.94 2.06-2.06.94zm10 10l.94 2.06.94-2.06 2.06-.94-2.06-.94-.94-2.06-.94 2.06-2.06.94z\"/><path d=\"M17.41 7.96l-1.37-1.37c-.4-.4-.92-.59-1.43-.59-.52 0-1.04.2-1.43.59L10.3 9.45l-7.72 7.72c-.78.78-.78 2.05 0 2.83L4 21.41c.39.39.9.59 1.41.59.51 0 1.02-.2 1.41-.59l7.78-7.78 2.81-2.81c.8-.78.8-2.07 0-2.86zM5.41 20L4 18.59l7.72-7.72 1.47 1.35L5.41 20z\"/>\n",
              "  </svg>\n",
              "      </button>\n",
              "      \n",
              "  <style>\n",
              "    .colab-df-container {\n",
              "      display:flex;\n",
              "      flex-wrap:wrap;\n",
              "      gap: 12px;\n",
              "    }\n",
              "\n",
              "    .colab-df-convert {\n",
              "      background-color: #E8F0FE;\n",
              "      border: none;\n",
              "      border-radius: 50%;\n",
              "      cursor: pointer;\n",
              "      display: none;\n",
              "      fill: #1967D2;\n",
              "      height: 32px;\n",
              "      padding: 0 0 0 0;\n",
              "      width: 32px;\n",
              "    }\n",
              "\n",
              "    .colab-df-convert:hover {\n",
              "      background-color: #E2EBFA;\n",
              "      box-shadow: 0px 1px 2px rgba(60, 64, 67, 0.3), 0px 1px 3px 1px rgba(60, 64, 67, 0.15);\n",
              "      fill: #174EA6;\n",
              "    }\n",
              "\n",
              "    [theme=dark] .colab-df-convert {\n",
              "      background-color: #3B4455;\n",
              "      fill: #D2E3FC;\n",
              "    }\n",
              "\n",
              "    [theme=dark] .colab-df-convert:hover {\n",
              "      background-color: #434B5C;\n",
              "      box-shadow: 0px 1px 3px 1px rgba(0, 0, 0, 0.15);\n",
              "      filter: drop-shadow(0px 1px 2px rgba(0, 0, 0, 0.3));\n",
              "      fill: #FFFFFF;\n",
              "    }\n",
              "  </style>\n",
              "\n",
              "      <script>\n",
              "        const buttonEl =\n",
              "          document.querySelector('#df-2e0d5288-9d91-4b28-8d95-35284f96a485 button.colab-df-convert');\n",
              "        buttonEl.style.display =\n",
              "          google.colab.kernel.accessAllowed ? 'block' : 'none';\n",
              "\n",
              "        async function convertToInteractive(key) {\n",
              "          const element = document.querySelector('#df-2e0d5288-9d91-4b28-8d95-35284f96a485');\n",
              "          const dataTable =\n",
              "            await google.colab.kernel.invokeFunction('convertToInteractive',\n",
              "                                                     [key], {});\n",
              "          if (!dataTable) return;\n",
              "\n",
              "          const docLinkHtml = 'Like what you see? Visit the ' +\n",
              "            '<a target=\"_blank\" href=https://colab.research.google.com/notebooks/data_table.ipynb>data table notebook</a>'\n",
              "            + ' to learn more about interactive tables.';\n",
              "          element.innerHTML = '';\n",
              "          dataTable['output_type'] = 'display_data';\n",
              "          await google.colab.output.renderOutput(dataTable, element);\n",
              "          const docLink = document.createElement('div');\n",
              "          docLink.innerHTML = docLinkHtml;\n",
              "          element.appendChild(docLink);\n",
              "        }\n",
              "      </script>\n",
              "    </div>\n",
              "  </div>\n",
              "  "
            ]
          },
          "metadata": {},
          "execution_count": 91
        }
      ],
      "source": [
        "# select features with chi square test\n",
        "chi2_check = []\n",
        "check_cols = ['Partner', 'Dependents', 'InternetService', 'OnlineSecurity', 'OnlineBackup',\n",
        "             'DeviceProtection', 'TechSupport', 'StreamingTV', 'StreamingMovies',\n",
        "             'Contract', 'PaperlessBilling', 'PaymentMethod', 'TotalCharges', 'Churn']\n",
        "# check_cols = df_prep.corr()['ProdTaken'].iloc[1:].index.tolist()\n",
        "for i in check_cols:\n",
        "    if stats.chi2_contingency(pd.crosstab(df_clean['Churn'], df_clean[i]))[1] < 0.05:\n",
        "        chi2_check.append('Reject Null Hypothesis')\n",
        "    else:\n",
        "        chi2_check.append('Fail to Reject Null Hypothesis')\n",
        "result = pd.DataFrame(data=[check_cols, chi2_check]).T\n",
        "result.columns = ['Column', 'Hypothesis Result']\n",
        "result"
      ]
    },
    {
      "cell_type": "code",
      "execution_count": null,
      "metadata": {
        "colab": {
          "base_uri": "https://localhost:8080/"
        },
        "id": "zSHv_M4h62h6",
        "outputId": "dbda3825-7743-437d-de52-a80285c5eba3"
      },
      "outputs": [
        {
          "output_type": "execute_result",
          "data": {
            "text/plain": [
              "['Partner',\n",
              " 'Dependents',\n",
              " 'InternetService',\n",
              " 'OnlineSecurity',\n",
              " 'OnlineBackup',\n",
              " 'DeviceProtection',\n",
              " 'TechSupport',\n",
              " 'StreamingTV',\n",
              " 'StreamingMovies',\n",
              " 'Contract',\n",
              " 'PaperlessBilling',\n",
              " 'PaymentMethod',\n",
              " 'Churn']"
            ]
          },
          "metadata": {},
          "execution_count": 92
        }
      ],
      "source": [
        "chi2_result = result[result['Hypothesis Result']=='Reject Null Hypothesis']['Column'].values.tolist()\n",
        "features_cols = []\n",
        "fix_cols = features_cols\n",
        "for col in chi2_result:\n",
        "    if col not in features_cols:\n",
        "        fix_cols.append(col)\n",
        "fix_cols"
      ]
    },
    {
      "cell_type": "code",
      "execution_count": null,
      "metadata": {
        "id": "p7zGD48hUKHi"
      },
      "outputs": [],
      "source": [
        "df_clean_model = df_clean.copy()\n"
      ]
    },
    {
      "cell_type": "markdown",
      "metadata": {
        "id": "AabLsIawVVoX"
      },
      "source": [
        "# Stage 3 : Machine Learning Modelling & Evaluation"
      ]
    },
    {
      "cell_type": "markdown",
      "metadata": {
        "id": "GitrAScEdHHw"
      },
      "source": [
        "##Imbalance Data"
      ]
    },
    {
      "cell_type": "code",
      "source": [
        "# Data sebelum SMOTE\n",
        "plt.figure(figsize=(8, 5))\n",
        "plt.bar(Counter(y).keys(), Counter(y).values())\n",
        "plt.xticks([0, 1])\n",
        "plt.xlabel('Class')\n",
        "plt.ylabel('Number of samples')\n",
        "plt.title('Data distribution before SMOTE')\n",
        "plt.show()"
      ],
      "metadata": {
        "id": "qLT986GVgsPF",
        "outputId": "b720f5b9-4867-4d08-d83c-e0d4ab7ecbc0",
        "colab": {
          "base_uri": "https://localhost:8080/",
          "height": 350
        }
      },
      "execution_count": null,
      "outputs": [
        {
          "output_type": "display_data",
          "data": {
            "text/plain": [
              "<Figure size 576x360 with 1 Axes>"
            ],
            "image/png": "[encoded data removed]"
          },
          "metadata": {
            "needs_background": "light"
          }
        }
      ]
    },
    {
      "cell_type": "code",
      "source": [
        "over = SMOTE(sampling_strategy = 1)\n",
        "\n",
        "X = df_clean_model.drop('Churn', axis=1)\n",
        "y = df_clean_model['Churn']\n",
        "\n",
        "X, y = over.fit_resample(X, y)"
      ],
      "metadata": {
        "id": "kXJhCt521uRr"
      },
      "execution_count": null,
      "outputs": []
    },
    {
      "cell_type": "code",
      "source": [
        "plt.figure(figsize=(8, 5))\n",
        "plt.bar(Counter(y).keys(), Counter(y).values())\n",
        "plt.xticks([0, 1])\n",
        "plt.xlabel('Class')\n",
        "plt.ylabel('Number of samples')\n",
        "plt.title('Data distribution after SMOTE')\n",
        "plt.show()"
      ],
      "metadata": {
        "colab": {
          "base_uri": "https://localhost:8080/",
          "height": 350
        },
        "id": "qLkBKcCtgdul",
        "outputId": "68281971-cac8-4494-cba3-21661f4205ec"
      },
      "execution_count": null,
      "outputs": [
        {
          "output_type": "display_data",
          "data": {
            "text/plain": [
              "<Figure size 576x360 with 1 Axes>"
            ],
            "image/png": "[encoded data removed]"
          },
          "metadata": {
            "needs_background": "light"
          }
        }
      ]
    },
    {
      "cell_type": "markdown",
      "source": [
        "## Split Train & Test Set"
      ],
      "metadata": {
        "id": "A2uuUSgC1fdV"
      }
    },
    {
      "cell_type": "code",
      "source": [
        "# splitting into data train and test (80:20)\n",
        "X_train, X_test, y_train, y_test = train_test_split(X, y, test_size=0.2, random_state=42)\n",
        "print(f'Jumlah data latih  terdiri dari {len(X_train)} baris')\n",
        "print(f'Jumlah class 0 : {sum(y_train==0)}')\n",
        "print(f'Jumlah class 1 : {sum(y_train==1)}\\n')\n",
        "\n",
        "print(f'Jumlah data uji terdiri dari {len(X_test)} baris')\n",
        "print(f'Jumlah class 0 : {sum(y_test==0)}')\n",
        "print(f'Jumlah class 1 : {sum(y_test==1)}\\n')"
      ],
      "metadata": {
        "colab": {
          "base_uri": "https://localhost:8080/"
        },
        "id": "agP8yzEU1jdq",
        "outputId": "fdfa95bd-84a3-455e-f8de-d4fa1f333277"
      },
      "execution_count": null,
      "outputs": [
        {
          "output_type": "stream",
          "name": "stdout",
          "text": [
            "Jumlah data latih  terdiri dari 8260 baris\n",
            "Jumlah class 0 : 4126\n",
            "Jumlah class 1 : 4134\n",
            "\n",
            "Jumlah data uji terdiri dari 2066 baris\n",
            "Jumlah class 0 : 1037\n",
            "Jumlah class 1 : 1029\n",
            "\n"
          ]
        }
      ]
    },
    {
      "cell_type": "code",
      "execution_count": null,
      "metadata": {
        "id": "RSX2JczwUBLn"
      },
      "outputs": [],
      "source": [
        "df_clean_model.to_csv('telco_preprocessing.csv', index=False)"
      ]
    },
    {
      "cell_type": "markdown",
      "metadata": {
        "id": "TfNQQE5RVYBf"
      },
      "source": [
        "# Data Modelling #1"
      ]
    },
    {
      "cell_type": "markdown",
      "metadata": {
        "id": "GA5o5XZiVm1o"
      },
      "source": [
        "## Model Selection"
      ]
    },
    {
      "cell_type": "code",
      "execution_count": null,
      "metadata": {
        "colab": {
          "base_uri": "https://localhost:8080/"
        },
        "id": "AP05sZ-heepj",
        "outputId": "a608956c-b079-4589-b6f8-61b7485c8ace"
      },
      "outputs": [
        {
          "output_type": "stream",
          "name": "stdout",
          "text": [
            "<class 'pandas.core.frame.DataFrame'>\n",
            "Int64Index: 7032 entries, 0 to 7042\n",
            "Data columns (total 17 columns):\n",
            " #   Column            Non-Null Count  Dtype  \n",
            "---  ------            --------------  -----  \n",
            " 0   SeniorCitizen     7032 non-null   int64  \n",
            " 1   Partner           7032 non-null   int64  \n",
            " 2   Dependents        7032 non-null   int64  \n",
            " 3   tenure            7032 non-null   int64  \n",
            " 4   InternetService   7032 non-null   int64  \n",
            " 5   OnlineSecurity    7032 non-null   int64  \n",
            " 6   OnlineBackup      7032 non-null   int64  \n",
            " 7   DeviceProtection  7032 non-null   int64  \n",
            " 8   TechSupport       7032 non-null   int64  \n",
            " 9   StreamingTV       7032 non-null   int64  \n",
            " 10  StreamingMovies   7032 non-null   int64  \n",
            " 11  Contract          7032 non-null   int64  \n",
            " 12  PaperlessBilling  7032 non-null   int64  \n",
            " 13  PaymentMethod     7032 non-null   int64  \n",
            " 14  MonthlyCharges    7032 non-null   float64\n",
            " 15  TotalCharges      7032 non-null   float64\n",
            " 16  Churn             7032 non-null   int64  \n",
            "dtypes: float64(2), int64(15)\n",
            "memory usage: 988.9 KB\n"
          ]
        }
      ],
      "source": [
        "df_clean.info()"
      ]
    },
    {
      "cell_type": "code",
      "execution_count": null,
      "metadata": {
        "id": "47kJhcR1Voct"
      },
      "outputs": [],
      "source": [
        "def model(classifier,x_train,y_train,x_test,y_test):\n",
        "\n",
        "    classifier.fit(X_train,y_train)\n",
        "    prediction = classifier.predict(x_test)\n",
        "    cv = RepeatedStratifiedKFold(n_splits = 10,n_repeats = 3,random_state = 1)\n",
        "    print(\"Cross Validation Score : \",'{0:.2%}'.format(cross_val_score(classifier,X_train,y_train,cv = cv,scoring = 'roc_auc').mean()))\n",
        "\n",
        "def model_evaluation(classifier,x_test,y_test):\n",
        "\n",
        "    # Confusion Matrix\n",
        "    cm = confusion_matrix(y_test,classifier.predict(x_test))\n",
        "    names = ['True Neg','False Pos','False Neg','True Pos']\n",
        "    counts = [value for value in cm.flatten()]\n",
        "    percentages = ['{0:.2%}'.format(value) for value in cm.flatten()/np.sum(cm)]\n",
        "    labels = [f'{v1}\\n{v2}\\n{v3}' for v1, v2, v3 in zip(names,counts,percentages)]\n",
        "    labels = np.asarray(labels).reshape(2,2)\n",
        "    sns.heatmap(cm,annot = labels,cmap = 'Blues',fmt ='')\n",
        "\n",
        "    # Classification Report\n",
        "    print(classification_report(y_test,classifier.predict(x_test)))"
      ]
    },
    {
      "cell_type": "markdown",
      "metadata": {
        "id": "1DCFAXetVrmv"
      },
      "source": [
        "### 1. Logistic Regression"
      ]
    },
    {
      "cell_type": "code",
      "execution_count": null,
      "metadata": {
        "colab": {
          "base_uri": "https://localhost:8080/",
          "height": 421
        },
        "id": "YJyIjndcrRfW",
        "outputId": "8f2e8ae9-6347-4f3f-a0b1-0bbcc1c38ebb"
      },
      "outputs": [
        {
          "output_type": "stream",
          "name": "stdout",
          "text": [
            "              precision    recall  f1-score   support\n",
            "\n",
            "           0       0.80      0.76      0.78      1037\n",
            "           1       0.77      0.81      0.79      1029\n",
            "\n",
            "    accuracy                           0.78      2066\n",
            "   macro avg       0.78      0.78      0.78      2066\n",
            "weighted avg       0.78      0.78      0.78      2066\n",
            "\n"
          ]
        },
        {
          "output_type": "display_data",
          "data": {
            "text/plain": [
              "<Figure size 432x288 with 2 Axes>"
            ],
            "image/png": "[encoded data removed]"
          },
          "metadata": {
            "needs_background": "light"
          }
        }
      ],
      "source": [
        "model_lr = LogisticRegression(random_state=42)\n",
        "model_lr.fit(X_train, y_train)\n",
        "\n",
        "model_evaluation(model_lr,X_test,y_test)"
      ]
    },
    {
      "cell_type": "code",
      "source": [
        "model(model_lr,X_train,y_train,X_test,y_test)"
      ],
      "metadata": {
        "colab": {
          "base_uri": "https://localhost:8080/"
        },
        "id": "8r7hstqe4y-p",
        "outputId": "13d9adea-a9a5-4e54-8348-d364e008bef8"
      },
      "execution_count": null,
      "outputs": [
        {
          "output_type": "stream",
          "name": "stdout",
          "text": [
            "Cross Validation Score :  87.37%\n"
          ]
        }
      ]
    },
    {
      "cell_type": "markdown",
      "metadata": {
        "id": "rbXHd12xsGOH"
      },
      "source": [
        "### 2. AdaBoost"
      ]
    },
    {
      "cell_type": "code",
      "execution_count": null,
      "metadata": {
        "id": "yLyJz1T9sKE1",
        "colab": {
          "base_uri": "https://localhost:8080/",
          "height": 421
        },
        "outputId": "04e370fa-e9c0-4b2a-9368-f91fe8009746"
      },
      "outputs": [
        {
          "output_type": "stream",
          "name": "stdout",
          "text": [
            "              precision    recall  f1-score   support\n",
            "\n",
            "           0       0.84      0.79      0.81      1037\n",
            "           1       0.80      0.85      0.82      1029\n",
            "\n",
            "    accuracy                           0.82      2066\n",
            "   macro avg       0.82      0.82      0.82      2066\n",
            "weighted avg       0.82      0.82      0.82      2066\n",
            "\n"
          ]
        },
        {
          "output_type": "display_data",
          "data": {
            "text/plain": [
              "<Figure size 432x288 with 2 Axes>"
            ],
            "image/png": "[encoded data removed]"
          },
          "metadata": {
            "needs_background": "light"
          }
        }
      ],
      "source": [
        "model_adb = AdaBoostClassifier(random_state=42)\n",
        "model_adb.fit(X_train, y_train)\n",
        "\n",
        "model_evaluation(model_adb,X_test,y_test)"
      ]
    },
    {
      "cell_type": "code",
      "source": [
        "model(model_lr,X_train,y_train,X_test,y_test)"
      ],
      "metadata": {
        "colab": {
          "base_uri": "https://localhost:8080/"
        },
        "id": "CiHXYGuF5NAz",
        "outputId": "7b422742-070a-44aa-93a3-32e454d20fdd"
      },
      "execution_count": null,
      "outputs": [
        {
          "output_type": "stream",
          "name": "stdout",
          "text": [
            "Cross Validation Score :  87.37%\n"
          ]
        }
      ]
    },
    {
      "cell_type": "markdown",
      "metadata": {
        "id": "5Rai4ilnsVMW"
      },
      "source": [
        "### 3. XGBoost"
      ]
    },
    {
      "cell_type": "code",
      "execution_count": null,
      "metadata": {
        "id": "yYmKhzcOsda5",
        "colab": {
          "base_uri": "https://localhost:8080/",
          "height": 421
        },
        "outputId": "0934fa6c-a155-4ccb-d9e7-6b6a859bc126"
      },
      "outputs": [
        {
          "output_type": "stream",
          "name": "stdout",
          "text": [
            "              precision    recall  f1-score   support\n",
            "\n",
            "           0       0.85      0.84      0.84      1037\n",
            "           1       0.84      0.85      0.85      1029\n",
            "\n",
            "    accuracy                           0.84      2066\n",
            "   macro avg       0.84      0.84      0.84      2066\n",
            "weighted avg       0.84      0.84      0.84      2066\n",
            "\n"
          ]
        },
        {
          "output_type": "display_data",
          "data": {
            "text/plain": [
              "<Figure size 432x288 with 2 Axes>"
            ],
            "image/png": "[encoded data removed]"
          },
          "metadata": {
            "needs_background": "light"
          }
        }
      ],
      "source": [
        "model_xgb = XGBClassifier(verbosity=0, random_state=42)\n",
        "model_xgb.fit(X_train, y_train)\n",
        "\n",
        "model_evaluation(model_xgb,X_test,y_test)"
      ]
    },
    {
      "cell_type": "code",
      "source": [
        "model(model_xgb,X_train,y_train,X_test,y_test)"
      ],
      "metadata": {
        "colab": {
          "base_uri": "https://localhost:8080/"
        },
        "id": "NT2RyPOr5QlF",
        "outputId": "f43a8e40-f6ee-471b-c7ba-30ec5ca624e3"
      },
      "execution_count": null,
      "outputs": [
        {
          "output_type": "stream",
          "name": "stdout",
          "text": [
            "Cross Validation Score :  92.45%\n"
          ]
        }
      ]
    },
    {
      "cell_type": "markdown",
      "metadata": {
        "id": "0PW2vZvysmzu"
      },
      "source": [
        "## Model Evaluation"
      ]
    },
    {
      "cell_type": "markdown",
      "source": [
        "Tujuannya adalah untukn memprediksi apakah pelanggan akan churn apa tidak, maka:\n",
        "- Metric evaluasi yang akan kita fokuskan adalah F1 Score dimana kita ingin mempertimbangkan Precision dan Recall.\n",
        "- Karena data target pada kasus kita terjadi imbalance class sehingga kita juga akan mempertimbangkan nilai AUC sebagai pembeda antar kelas negative dan positive.\n",
        "- Cross Validation Score  digunakan untuk mengevaluasi kinerja model machine learning, khususnya mendeteksi saat terjadinya data leakage.\n",
        "\n"
      ],
      "metadata": {
        "id": "3yiuLF8ZA1cK"
      }
    },
    {
      "cell_type": "code",
      "execution_count": null,
      "metadata": {
        "id": "E9cgzb0xs4l4"
      },
      "outputs": [],
      "source": [
        "def eval_classification(model, X_train, y_train, X_test, y_test):\n",
        "    y_pred = model.predict(X_test)\n",
        "    y_pred_proba = model.predict_proba(X_test)\n",
        "    y_pred_proba_train = model.predict_proba(X_train)\n",
        "\n",
        "    accuracy = round(accuracy_score(y_test, y_pred), 4)\n",
        "    precision = round(precision_score(y_test, y_pred), 4)\n",
        "    recall = round(recall_score(y_test, y_pred), 4)\n",
        "    f1 = round(f1_score(y_test, y_pred), 4)\n",
        "    auc_test = round(roc_auc_score(y_test, y_pred_proba[:, 1]), 4)\n",
        "    auc_train = round(roc_auc_score(y_train, y_pred_proba_train[:, 1]), 4)\n",
        "\n",
        "    return accuracy, precision, recall, f1, auc_test, auc_train\n",
        "\n",
        "def score_all_classification(model_list, X_train, y_train, X_test, y_test):\n",
        "    model_name = ['Logistic Regression', 'AdaBoost', 'XGBoost']\n",
        "    eval_cols = ['Model', 'Accuracy', 'Precision', 'Recall', 'F1 Score', 'AUC (Test)', 'AUC (Train)', 'Cross Validation Score']\n",
        "\n",
        "    eval_list = []\n",
        "    for name, model in zip(model_name, model_list):\n",
        "        acc, prec, rec, f1, auc_test, auc_train = eval_classification(model, X_train, y_train, X_test, y_test)\n",
        "        cv_score = np.mean(cross_val_score(model, X_train, y_train, cv=10, scoring='roc_auc'))\n",
        "        eval_list.append([name, acc, prec, rec, f1, auc_test, auc_train, cv_score])\n",
        "    df_model = pd.DataFrame(data=eval_list, columns=eval_cols)\n",
        "\n",
        "    return df_model\n"
      ]
    },
    {
      "cell_type": "code",
      "execution_count": null,
      "metadata": {
        "id": "gdJyO13fs6xf",
        "colab": {
          "base_uri": "https://localhost:8080/",
          "height": 143
        },
        "outputId": "e18d6c08-db9a-48de-d237-7d4280e6e0ef"
      },
      "outputs": [
        {
          "output_type": "execute_result",
          "data": {
            "text/plain": [
              "                 Model  Accuracy  Precision  Recall  F1 Score  AUC (Test)  \\\n",
              "0  Logistic Regression    0.7841     0.7697  0.8086    0.7886      0.8660   \n",
              "1             AdaBoost    0.8190     0.7996  0.8494    0.8238      0.8986   \n",
              "2              XGBoost    0.8446     0.8378  0.8533    0.8455      0.9250   \n",
              "\n",
              "   AUC (Train)  Cross Validation Score  \n",
              "0       0.8776                0.873000  \n",
              "1       0.9084                0.903227  \n",
              "2       0.9893                0.925448  "
            ],
            "text/html": [
              "\n",
              "  <div id=\"df-bb9e4110-6f3f-46ef-a68d-37610a5fd4f1\">\n",
              "    <div class=\"colab-df-container\">\n",
              "      <div>\n",
              "<style scoped>\n",
              "    .dataframe tbody tr th:only-of-type {\n",
              "        vertical-align: middle;\n",
              "    }\n",
              "\n",
              "    .dataframe tbody tr th {\n",
              "        vertical-align: top;\n",
              "    }\n",
              "\n",
              "    .dataframe thead th {\n",
              "        text-align: right;\n",
              "    }\n",
              "</style>\n",
              "<table border=\"1\" class=\"dataframe\">\n",
              "  <thead>\n",
              "    <tr style=\"text-align: right;\">\n",
              "      <th></th>\n",
              "      <th>Model</th>\n",
              "      <th>Accuracy</th>\n",
              "      <th>Precision</th>\n",
              "      <th>Recall</th>\n",
              "      <th>F1 Score</th>\n",
              "      <th>AUC (Test)</th>\n",
              "      <th>AUC (Train)</th>\n",
              "      <th>Cross Validation Score</th>\n",
              "    </tr>\n",
              "  </thead>\n",
              "  <tbody>\n",
              "    <tr>\n",
              "      <th>0</th>\n",
              "      <td>Logistic Regression</td>\n",
              "      <td>0.7841</td>\n",
              "      <td>0.7697</td>\n",
              "      <td>0.8086</td>\n",
              "      <td>0.7886</td>\n",
              "      <td>0.8660</td>\n",
              "      <td>0.8776</td>\n",
              "      <td>0.873000</td>\n",
              "    </tr>\n",
              "    <tr>\n",
              "      <th>1</th>\n",
              "      <td>AdaBoost</td>\n",
              "      <td>0.8190</td>\n",
              "      <td>0.7996</td>\n",
              "      <td>0.8494</td>\n",
              "      <td>0.8238</td>\n",
              "      <td>0.8986</td>\n",
              "      <td>0.9084</td>\n",
              "      <td>0.903227</td>\n",
              "    </tr>\n",
              "    <tr>\n",
              "      <th>2</th>\n",
              "      <td>XGBoost</td>\n",
              "      <td>0.8446</td>\n",
              "      <td>0.8378</td>\n",
              "      <td>0.8533</td>\n",
              "      <td>0.8455</td>\n",
              "      <td>0.9250</td>\n",
              "      <td>0.9893</td>\n",
              "      <td>0.925448</td>\n",
              "    </tr>\n",
              "  </tbody>\n",
              "</table>\n",
              "</div>\n",
              "      <button class=\"colab-df-convert\" onclick=\"convertToInteractive('df-bb9e4110-6f3f-46ef-a68d-37610a5fd4f1')\"\n",
              "              title=\"Convert this dataframe to an interactive table.\"\n",
              "              style=\"display:none;\">\n",
              "        \n",
              "  <svg xmlns=\"http://www.w3.org/2000/svg\" height=\"24px\"viewBox=\"0 0 24 24\"\n",
              "       width=\"24px\">\n",
              "    <path d=\"M0 0h24v24H0V0z\" fill=\"none\"/>\n",
              "    <path d=\"M18.56 5.44l.94 2.06.94-2.06 2.06-.94-2.06-.94-.94-2.06-.94 2.06-2.06.94zm-11 1L8.5 8.5l.94-2.06 2.06-.94-2.06-.94L8.5 2.5l-.94 2.06-2.06.94zm10 10l.94 2.06.94-2.06 2.06-.94-2.06-.94-.94-2.06-.94 2.06-2.06.94z\"/><path d=\"M17.41 7.96l-1.37-1.37c-.4-.4-.92-.59-1.43-.59-.52 0-1.04.2-1.43.59L10.3 9.45l-7.72 7.72c-.78.78-.78 2.05 0 2.83L4 21.41c.39.39.9.59 1.41.59.51 0 1.02-.2 1.41-.59l7.78-7.78 2.81-2.81c.8-.78.8-2.07 0-2.86zM5.41 20L4 18.59l7.72-7.72 1.47 1.35L5.41 20z\"/>\n",
              "  </svg>\n",
              "      </button>\n",
              "      \n",
              "  <style>\n",
              "    .colab-df-container {\n",
              "      display:flex;\n",
              "      flex-wrap:wrap;\n",
              "      gap: 12px;\n",
              "    }\n",
              "\n",
              "    .colab-df-convert {\n",
              "      background-color: #E8F0FE;\n",
              "      border: none;\n",
              "      border-radius: 50%;\n",
              "      cursor: pointer;\n",
              "      display: none;\n",
              "      fill: #1967D2;\n",
              "      height: 32px;\n",
              "      padding: 0 0 0 0;\n",
              "      width: 32px;\n",
              "    }\n",
              "\n",
              "    .colab-df-convert:hover {\n",
              "      background-color: #E2EBFA;\n",
              "      box-shadow: 0px 1px 2px rgba(60, 64, 67, 0.3), 0px 1px 3px 1px rgba(60, 64, 67, 0.15);\n",
              "      fill: #174EA6;\n",
              "    }\n",
              "\n",
              "    [theme=dark] .colab-df-convert {\n",
              "      background-color: #3B4455;\n",
              "      fill: #D2E3FC;\n",
              "    }\n",
              "\n",
              "    [theme=dark] .colab-df-convert:hover {\n",
              "      background-color: #434B5C;\n",
              "      box-shadow: 0px 1px 3px 1px rgba(0, 0, 0, 0.15);\n",
              "      filter: drop-shadow(0px 1px 2px rgba(0, 0, 0, 0.3));\n",
              "      fill: #FFFFFF;\n",
              "    }\n",
              "  </style>\n",
              "\n",
              "      <script>\n",
              "        const buttonEl =\n",
              "          document.querySelector('#df-bb9e4110-6f3f-46ef-a68d-37610a5fd4f1 button.colab-df-convert');\n",
              "        buttonEl.style.display =\n",
              "          google.colab.kernel.accessAllowed ? 'block' : 'none';\n",
              "\n",
              "        async function convertToInteractive(key) {\n",
              "          const element = document.querySelector('#df-bb9e4110-6f3f-46ef-a68d-37610a5fd4f1');\n",
              "          const dataTable =\n",
              "            await google.colab.kernel.invokeFunction('convertToInteractive',\n",
              "                                                     [key], {});\n",
              "          if (!dataTable) return;\n",
              "\n",
              "          const docLinkHtml = 'Like what you see? Visit the ' +\n",
              "            '<a target=\"_blank\" href=https://colab.research.google.com/notebooks/data_table.ipynb>data table notebook</a>'\n",
              "            + ' to learn more about interactive tables.';\n",
              "          element.innerHTML = '';\n",
              "          dataTable['output_type'] = 'display_data';\n",
              "          await google.colab.output.renderOutput(dataTable, element);\n",
              "          const docLink = document.createElement('div');\n",
              "          docLink.innerHTML = docLinkHtml;\n",
              "          element.appendChild(docLink);\n",
              "        }\n",
              "      </script>\n",
              "    </div>\n",
              "  </div>\n",
              "  "
            ]
          },
          "metadata": {},
          "execution_count": 192
        }
      ],
      "source": [
        "# scoring base model\n",
        "model_list_base = [model_lr, model_adb, model_xgb]\n",
        "score_all_classification(model_list_base, X_train, y_train, X_test, y_test)"
      ]
    },
    {
      "cell_type": "markdown",
      "metadata": {
        "id": "s3Aui5DSs-Fw"
      },
      "source": [
        "Dari hasil evaluasi ketiga model tersebut didapatkan bahwa:\n",
        "- **Model Logistic Regression** mampu menghasilkan F1 Score cukup tinggi yaitu 80% dimana nilai Precision yang lebih tinggi dari nilai recall\n",
        "- **Model AdaBoost** mampu menghasilkan F1 Score 83% dimana nilai Precision yang lebih tinggidaripada Recall\n",
        "- **Model XGBoost** mampu menghasilkan F1 Score yang tinggi yaitu 84%.Precision dan Recall hampir sama.\n",
        "\n",
        "Maka dapat disimpulkan dari kelima model yang dipilih, **Model XGBoost** merupakan base model terbaik dengan F1 Score paling tinggi yaitu 85% dan hasil scoring metric yang lain juga lebih unggul."
      ]
    },
    {
      "cell_type": "markdown",
      "metadata": {
        "id": "iUpo3TTftHH6"
      },
      "source": [
        "## Hyperparameter Tuning"
      ]
    },
    {
      "cell_type": "markdown",
      "metadata": {
        "id": "xJuYzdj7AXiu"
      },
      "source": [
        "####Random Search"
      ]
    },
    {
      "cell_type": "code",
      "execution_count": null,
      "metadata": {
        "id": "fGhjFJl5tL80"
      },
      "outputs": [],
      "source": [
        "list_hyperparameters = [\n",
        "    { # Logistic Regression\n",
        "        'penalty': ['l2','l1','elasticnet'],\n",
        "        'C': [float(x) for x in np.logspace(-3, 3, 20)]\n",
        "    },\n",
        "    { # Adaboost\n",
        "       'n_estimators' : [int(x) for x in np.linspace(100, 2000, 1000)],\n",
        "       'learning_rate' : [float(x) for x in np.linspace(0.001, 0.1, 100)],\n",
        "       'algorithm' : ['SAMME', 'SAMME.R']\n",
        "    },\n",
        "    { # XGBoost\n",
        "        'max_depth' : [int(x) for x in np.linspace(10, 100, 10)],\n",
        "        'min_child_weight' : [int(x) for x in np.linspace(1, 10, 11)],\n",
        "        'gamma' : [float(x) for x in np.linspace(0, 1, 11)],\n",
        "        'tree_method' : ['auto', 'exact', 'approx', 'hist'],\n",
        "        'colsample_bytree' : [float(x) for x in np.linspace(0, 1, 11)],\n",
        "        'learning_rate' : [float(x) for x in np.linspace(0, 1, 100)],\n",
        "        'reg_lambda' : [float(x) for x in np.linspace(0, 1, 11)],\n",
        "        'reg_alpha' : [float(x) for x in np.linspace(0, 1, 11)]\n",
        "    }\n",
        "]\n",
        "\n",
        "def show_best_hyperparameter(model, hyperparameters):\n",
        "    for key, value in hyperparameters.items() :\n",
        "        print('Best '+key+':', model.best_estimator_.get_params()[key])"
      ]
    },
    {
      "cell_type": "markdown",
      "metadata": {
        "id": "zDJY_OY-ARuo"
      },
      "source": [
        "##### Logistic Regression"
      ]
    },
    {
      "cell_type": "code",
      "execution_count": null,
      "metadata": {
        "id": "T1KKVM0A_5Su",
        "colab": {
          "base_uri": "https://localhost:8080/",
          "height": 421
        },
        "outputId": "5cf4a073-eac4-4bc7-86ab-aa3a3c55789c"
      },
      "outputs": [
        {
          "output_type": "stream",
          "name": "stdout",
          "text": [
            "              precision    recall  f1-score   support\n",
            "\n",
            "           0       0.79      0.77      0.78      1037\n",
            "           1       0.77      0.80      0.78      1029\n",
            "\n",
            "    accuracy                           0.78      2066\n",
            "   macro avg       0.78      0.78      0.78      2066\n",
            "weighted avg       0.78      0.78      0.78      2066\n",
            "\n"
          ]
        },
        {
          "output_type": "display_data",
          "data": {
            "text/plain": [
              "<Figure size 432x288 with 2 Axes>"
            ],
            "image/png": "[encoded data removed]"
          },
          "metadata": {
            "needs_background": "light"
          }
        }
      ],
      "source": [
        "model_lr = LogisticRegression(random_state=42)\n",
        "tuned_lr = RandomizedSearchCV(model_lr, list_hyperparameters[0], cv=5, scoring='f1', random_state=42)\n",
        "tuned_lr.fit(X_train, y_train)\n",
        "\n",
        "model_evaluation(tuned_lr, X_test, y_test)"
      ]
    },
    {
      "cell_type": "code",
      "execution_count": null,
      "metadata": {
        "id": "Tz67e2OfAEv6",
        "colab": {
          "base_uri": "https://localhost:8080/"
        },
        "outputId": "99055c52-bdf5-48d7-c273-fd56073c44eb"
      },
      "outputs": [
        {
          "output_type": "stream",
          "name": "stdout",
          "text": [
            "MODEL LOGISTIC REGRESSION AFTER HYPERPARAMETER TUNING\n",
            "=====================================================\n",
            "Best penalty: l2\n",
            "Best C: 6.158482110660261\n",
            "=====================================================\n"
          ]
        }
      ],
      "source": [
        "print('MODEL LOGISTIC REGRESSION AFTER HYPERPARAMETER TUNING')\n",
        "print('=====================================================')\n",
        "show_best_hyperparameter(tuned_lr, list_hyperparameters[0])\n",
        "print('=====================================================')"
      ]
    },
    {
      "cell_type": "code",
      "source": [
        "model(tuned_lr,X_train,y_train,X_test,y_test)"
      ],
      "metadata": {
        "colab": {
          "base_uri": "https://localhost:8080/"
        },
        "id": "vRmC81ql7rMh",
        "outputId": "3d6fc359-c7ae-4144-aa9a-79ad35bae840"
      },
      "execution_count": null,
      "outputs": [
        {
          "output_type": "stream",
          "name": "stdout",
          "text": [
            "Cross Validation Score :  87.40%\n"
          ]
        }
      ]
    },
    {
      "cell_type": "markdown",
      "metadata": {
        "id": "yJnCv3I2AjdD"
      },
      "source": [
        "##### AdaBoost"
      ]
    },
    {
      "cell_type": "code",
      "execution_count": null,
      "metadata": {
        "id": "WYpb4KlHAkzo",
        "colab": {
          "base_uri": "https://localhost:8080/",
          "height": 421
        },
        "outputId": "ce6858a7-17e7-459f-d45c-311e3e98f4fb"
      },
      "outputs": [
        {
          "output_type": "stream",
          "name": "stdout",
          "text": [
            "              precision    recall  f1-score   support\n",
            "\n",
            "           0       0.86      0.77      0.81      1037\n",
            "           1       0.79      0.87      0.83      1029\n",
            "\n",
            "    accuracy                           0.82      2066\n",
            "   macro avg       0.82      0.82      0.82      2066\n",
            "weighted avg       0.82      0.82      0.82      2066\n",
            "\n"
          ]
        },
        {
          "output_type": "display_data",
          "data": {
            "text/plain": [
              "<Figure size 432x288 with 2 Axes>"
            ],
            "image/png": "[encoded data removed]"
          },
          "metadata": {
            "needs_background": "light"
          }
        }
      ],
      "source": [
        "model_adb = AdaBoostClassifier(random_state=42)\n",
        "tuned_adb = RandomizedSearchCV(model_adb, list_hyperparameters[1], cv=5, scoring='f1', random_state=42)\n",
        "tuned_adb.fit(X_train, y_train)\n",
        "\n",
        "model_evaluation(tuned_adb, X_test, y_test)"
      ]
    },
    {
      "cell_type": "code",
      "execution_count": null,
      "metadata": {
        "id": "O2UazRu5iAkN",
        "colab": {
          "base_uri": "https://localhost:8080/"
        },
        "outputId": "21e965f8-41ac-4566-e308-fd2f91898a8b"
      },
      "outputs": [
        {
          "output_type": "stream",
          "name": "stdout",
          "text": [
            "MODEL AdaBoost AFTER HYPERPARAMETER TUNING\n",
            "=====================================================\n",
            "Best n_estimators: 1748\n",
            "Best learning_rate: 0.047\n",
            "Best algorithm: SAMME.R\n",
            "=====================================================\n"
          ]
        }
      ],
      "source": [
        "print('MODEL AdaBoost AFTER HYPERPARAMETER TUNING')\n",
        "print('=====================================================')\n",
        "show_best_hyperparameter(tuned_adb, list_hyperparameters[1])\n",
        "print('=====================================================')"
      ]
    },
    {
      "cell_type": "code",
      "source": [
        "model(tuned_adb,X_train,y_train,X_test,y_test)"
      ],
      "metadata": {
        "colab": {
          "base_uri": "https://localhost:8080/"
        },
        "id": "EtF-zmtr76vQ",
        "outputId": "70bf4b14-d223-4f27-deca-500ca78b7d77"
      },
      "execution_count": null,
      "outputs": [
        {
          "output_type": "stream",
          "name": "stdout",
          "text": [
            "Cross Validation Score :  90.58%\n"
          ]
        }
      ]
    },
    {
      "cell_type": "markdown",
      "metadata": {
        "id": "nu_8WD2-ApT5"
      },
      "source": [
        "##### XGBClassifier"
      ]
    },
    {
      "cell_type": "code",
      "execution_count": null,
      "metadata": {
        "id": "grwEMQwAAqFy",
        "colab": {
          "base_uri": "https://localhost:8080/",
          "height": 421
        },
        "outputId": "4aee3606-7b0f-4beb-dc76-5248183fdab3"
      },
      "outputs": [
        {
          "output_type": "stream",
          "name": "stdout",
          "text": [
            "              precision    recall  f1-score   support\n",
            "\n",
            "           0       0.85      0.83      0.84      1037\n",
            "           1       0.83      0.85      0.84      1029\n",
            "\n",
            "    accuracy                           0.84      2066\n",
            "   macro avg       0.84      0.84      0.84      2066\n",
            "weighted avg       0.84      0.84      0.84      2066\n",
            "\n"
          ]
        },
        {
          "output_type": "display_data",
          "data": {
            "text/plain": [
              "<Figure size 432x288 with 2 Axes>"
            ],
            "image/png": "[encoded data removed]"
          },
          "metadata": {
            "needs_background": "light"
          }
        }
      ],
      "source": [
        "model_xgb = XGBClassifier(random_state=42, verbosity=0)\n",
        "tuned_xgb = RandomizedSearchCV(model_xgb, list_hyperparameters[-1], cv=5, scoring='f1', random_state=42)\n",
        "tuned_xgb.fit(X_train, y_train)\n",
        "\n",
        "model_evaluation(tuned_xgb, X_test, y_test)"
      ]
    },
    {
      "cell_type": "code",
      "execution_count": null,
      "metadata": {
        "id": "HFlvDXYKAtDm",
        "colab": {
          "base_uri": "https://localhost:8080/"
        },
        "outputId": "31b3244c-0d4b-46c3-e077-d75af103fa39"
      },
      "outputs": [
        {
          "output_type": "stream",
          "name": "stdout",
          "text": [
            "MODEL XGBOOST AFTER HYPERPARAMETER TUNING\n",
            "=========================================\n",
            "Best max_depth: 10\n",
            "Best min_child_weight: 8\n",
            "Best gamma: 0.1\n",
            "Best tree_method: auto\n",
            "Best colsample_bytree: 0.7000000000000001\n",
            "Best learning_rate: 0.13131313131313133\n",
            "Best reg_lambda: 0.5\n",
            "Best reg_alpha: 0.6000000000000001\n",
            "=========================================\n"
          ]
        }
      ],
      "source": [
        "print('MODEL XGBOOST AFTER HYPERPARAMETER TUNING')\n",
        "print('=========================================')\n",
        "show_best_hyperparameter(tuned_xgb, list_hyperparameters[-1])\n",
        "print('=========================================')"
      ]
    },
    {
      "cell_type": "code",
      "source": [
        "model(tuned_xgb,X_train,y_train,X_test,y_test)"
      ],
      "metadata": {
        "colab": {
          "base_uri": "https://localhost:8080/"
        },
        "id": "5n7H3t_q79Lf",
        "outputId": "95420dc9-a86d-431f-9aca-546ab2a0b97e"
      },
      "execution_count": null,
      "outputs": [
        {
          "output_type": "stream",
          "name": "stdout",
          "text": [
            "Cross Validation Score :  92.32%\n"
          ]
        }
      ]
    },
    {
      "cell_type": "markdown",
      "source": [
        "##### Comparation"
      ],
      "metadata": {
        "id": "9SoaNlC8fI_u"
      }
    },
    {
      "cell_type": "code",
      "source": [
        "# base model\n",
        "score_all_classification(model_list_base, X_train, y_train, X_test, y_test)"
      ],
      "metadata": {
        "id": "CojJcEykfIP0",
        "colab": {
          "base_uri": "https://localhost:8080/",
          "height": 143
        },
        "outputId": "c150abd8-2033-4321-fcdd-a47d391cbac1"
      },
      "execution_count": null,
      "outputs": [
        {
          "output_type": "execute_result",
          "data": {
            "text/plain": [
              "                 Model  Accuracy  Precision  Recall  F1 Score  AUC (Test)  \\\n",
              "0  Logistic Regression    0.7841     0.7697  0.8086    0.7886      0.8660   \n",
              "1             AdaBoost    0.8190     0.7996  0.8494    0.8238      0.8986   \n",
              "2              XGBoost    0.8446     0.8378  0.8533    0.8455      0.9250   \n",
              "\n",
              "   AUC (Train)  Cross Validation Score  \n",
              "0       0.8776                0.873000  \n",
              "1       0.9084                0.903227  \n",
              "2       0.9893                0.925448  "
            ],
            "text/html": [
              "\n",
              "  <div id=\"df-6f29000c-4c7b-4aef-bc8b-7f8adfe2b3a6\">\n",
              "    <div class=\"colab-df-container\">\n",
              "      <div>\n",
              "<style scoped>\n",
              "    .dataframe tbody tr th:only-of-type {\n",
              "        vertical-align: middle;\n",
              "    }\n",
              "\n",
              "    .dataframe tbody tr th {\n",
              "        vertical-align: top;\n",
              "    }\n",
              "\n",
              "    .dataframe thead th {\n",
              "        text-align: right;\n",
              "    }\n",
              "</style>\n",
              "<table border=\"1\" class=\"dataframe\">\n",
              "  <thead>\n",
              "    <tr style=\"text-align: right;\">\n",
              "      <th></th>\n",
              "      <th>Model</th>\n",
              "      <th>Accuracy</th>\n",
              "      <th>Precision</th>\n",
              "      <th>Recall</th>\n",
              "      <th>F1 Score</th>\n",
              "      <th>AUC (Test)</th>\n",
              "      <th>AUC (Train)</th>\n",
              "      <th>Cross Validation Score</th>\n",
              "    </tr>\n",
              "  </thead>\n",
              "  <tbody>\n",
              "    <tr>\n",
              "      <th>0</th>\n",
              "      <td>Logistic Regression</td>\n",
              "      <td>0.7841</td>\n",
              "      <td>0.7697</td>\n",
              "      <td>0.8086</td>\n",
              "      <td>0.7886</td>\n",
              "      <td>0.8660</td>\n",
              "      <td>0.8776</td>\n",
              "      <td>0.873000</td>\n",
              "    </tr>\n",
              "    <tr>\n",
              "      <th>1</th>\n",
              "      <td>AdaBoost</td>\n",
              "      <td>0.8190</td>\n",
              "      <td>0.7996</td>\n",
              "      <td>0.8494</td>\n",
              "      <td>0.8238</td>\n",
              "      <td>0.8986</td>\n",
              "      <td>0.9084</td>\n",
              "      <td>0.903227</td>\n",
              "    </tr>\n",
              "    <tr>\n",
              "      <th>2</th>\n",
              "      <td>XGBoost</td>\n",
              "      <td>0.8446</td>\n",
              "      <td>0.8378</td>\n",
              "      <td>0.8533</td>\n",
              "      <td>0.8455</td>\n",
              "      <td>0.9250</td>\n",
              "      <td>0.9893</td>\n",
              "      <td>0.925448</td>\n",
              "    </tr>\n",
              "  </tbody>\n",
              "</table>\n",
              "</div>\n",
              "      <button class=\"colab-df-convert\" onclick=\"convertToInteractive('df-6f29000c-4c7b-4aef-bc8b-7f8adfe2b3a6')\"\n",
              "              title=\"Convert this dataframe to an interactive table.\"\n",
              "              style=\"display:none;\">\n",
              "        \n",
              "  <svg xmlns=\"http://www.w3.org/2000/svg\" height=\"24px\"viewBox=\"0 0 24 24\"\n",
              "       width=\"24px\">\n",
              "    <path d=\"M0 0h24v24H0V0z\" fill=\"none\"/>\n",
              "    <path d=\"M18.56 5.44l.94 2.06.94-2.06 2.06-.94-2.06-.94-.94-2.06-.94 2.06-2.06.94zm-11 1L8.5 8.5l.94-2.06 2.06-.94-2.06-.94L8.5 2.5l-.94 2.06-2.06.94zm10 10l.94 2.06.94-2.06 2.06-.94-2.06-.94-.94-2.06-.94 2.06-2.06.94z\"/><path d=\"M17.41 7.96l-1.37-1.37c-.4-.4-.92-.59-1.43-.59-.52 0-1.04.2-1.43.59L10.3 9.45l-7.72 7.72c-.78.78-.78 2.05 0 2.83L4 21.41c.39.39.9.59 1.41.59.51 0 1.02-.2 1.41-.59l7.78-7.78 2.81-2.81c.8-.78.8-2.07 0-2.86zM5.41 20L4 18.59l7.72-7.72 1.47 1.35L5.41 20z\"/>\n",
              "  </svg>\n",
              "      </button>\n",
              "      \n",
              "  <style>\n",
              "    .colab-df-container {\n",
              "      display:flex;\n",
              "      flex-wrap:wrap;\n",
              "      gap: 12px;\n",
              "    }\n",
              "\n",
              "    .colab-df-convert {\n",
              "      background-color: #E8F0FE;\n",
              "      border: none;\n",
              "      border-radius: 50%;\n",
              "      cursor: pointer;\n",
              "      display: none;\n",
              "      fill: #1967D2;\n",
              "      height: 32px;\n",
              "      padding: 0 0 0 0;\n",
              "      width: 32px;\n",
              "    }\n",
              "\n",
              "    .colab-df-convert:hover {\n",
              "      background-color: #E2EBFA;\n",
              "      box-shadow: 0px 1px 2px rgba(60, 64, 67, 0.3), 0px 1px 3px 1px rgba(60, 64, 67, 0.15);\n",
              "      fill: #174EA6;\n",
              "    }\n",
              "\n",
              "    [theme=dark] .colab-df-convert {\n",
              "      background-color: #3B4455;\n",
              "      fill: #D2E3FC;\n",
              "    }\n",
              "\n",
              "    [theme=dark] .colab-df-convert:hover {\n",
              "      background-color: #434B5C;\n",
              "      box-shadow: 0px 1px 3px 1px rgba(0, 0, 0, 0.15);\n",
              "      filter: drop-shadow(0px 1px 2px rgba(0, 0, 0, 0.3));\n",
              "      fill: #FFFFFF;\n",
              "    }\n",
              "  </style>\n",
              "\n",
              "      <script>\n",
              "        const buttonEl =\n",
              "          document.querySelector('#df-6f29000c-4c7b-4aef-bc8b-7f8adfe2b3a6 button.colab-df-convert');\n",
              "        buttonEl.style.display =\n",
              "          google.colab.kernel.accessAllowed ? 'block' : 'none';\n",
              "\n",
              "        async function convertToInteractive(key) {\n",
              "          const element = document.querySelector('#df-6f29000c-4c7b-4aef-bc8b-7f8adfe2b3a6');\n",
              "          const dataTable =\n",
              "            await google.colab.kernel.invokeFunction('convertToInteractive',\n",
              "                                                     [key], {});\n",
              "          if (!dataTable) return;\n",
              "\n",
              "          const docLinkHtml = 'Like what you see? Visit the ' +\n",
              "            '<a target=\"_blank\" href=https://colab.research.google.com/notebooks/data_table.ipynb>data table notebook</a>'\n",
              "            + ' to learn more about interactive tables.';\n",
              "          element.innerHTML = '';\n",
              "          dataTable['output_type'] = 'display_data';\n",
              "          await google.colab.output.renderOutput(dataTable, element);\n",
              "          const docLink = document.createElement('div');\n",
              "          docLink.innerHTML = docLinkHtml;\n",
              "          element.appendChild(docLink);\n",
              "        }\n",
              "      </script>\n",
              "    </div>\n",
              "  </div>\n",
              "  "
            ]
          },
          "metadata": {},
          "execution_count": 205
        }
      ]
    },
    {
      "cell_type": "code",
      "execution_count": null,
      "metadata": {
        "id": "J0rnZiATA2wT",
        "colab": {
          "base_uri": "https://localhost:8080/",
          "height": 143
        },
        "outputId": "8b679e4a-6aa6-47c1-d1e0-8cff5e758ba0"
      },
      "outputs": [
        {
          "output_type": "execute_result",
          "data": {
            "text/plain": [
              "                 Model  Accuracy  Precision  Recall  F1 Score  AUC (Test)  \\\n",
              "0  Logistic Regression    0.7812     0.7719  0.7959    0.7837      0.8629   \n",
              "1             AdaBoost    0.8209     0.7908  0.8707    0.8289      0.9003   \n",
              "2              XGBoost    0.8408     0.8308  0.8542    0.8424      0.9252   \n",
              "\n",
              "   AUC (Train)  Cross Validation Score  \n",
              "0       0.8756                0.874256  \n",
              "1       0.9102                0.905594  \n",
              "2       0.9769                0.921154  "
            ],
            "text/html": [
              "\n",
              "  <div id=\"df-e13d4c82-8a2c-4911-a56a-a3a57bbc385a\">\n",
              "    <div class=\"colab-df-container\">\n",
              "      <div>\n",
              "<style scoped>\n",
              "    .dataframe tbody tr th:only-of-type {\n",
              "        vertical-align: middle;\n",
              "    }\n",
              "\n",
              "    .dataframe tbody tr th {\n",
              "        vertical-align: top;\n",
              "    }\n",
              "\n",
              "    .dataframe thead th {\n",
              "        text-align: right;\n",
              "    }\n",
              "</style>\n",
              "<table border=\"1\" class=\"dataframe\">\n",
              "  <thead>\n",
              "    <tr style=\"text-align: right;\">\n",
              "      <th></th>\n",
              "      <th>Model</th>\n",
              "      <th>Accuracy</th>\n",
              "      <th>Precision</th>\n",
              "      <th>Recall</th>\n",
              "      <th>F1 Score</th>\n",
              "      <th>AUC (Test)</th>\n",
              "      <th>AUC (Train)</th>\n",
              "      <th>Cross Validation Score</th>\n",
              "    </tr>\n",
              "  </thead>\n",
              "  <tbody>\n",
              "    <tr>\n",
              "      <th>0</th>\n",
              "      <td>Logistic Regression</td>\n",
              "      <td>0.7812</td>\n",
              "      <td>0.7719</td>\n",
              "      <td>0.7959</td>\n",
              "      <td>0.7837</td>\n",
              "      <td>0.8629</td>\n",
              "      <td>0.8756</td>\n",
              "      <td>0.874256</td>\n",
              "    </tr>\n",
              "    <tr>\n",
              "      <th>1</th>\n",
              "      <td>AdaBoost</td>\n",
              "      <td>0.8209</td>\n",
              "      <td>0.7908</td>\n",
              "      <td>0.8707</td>\n",
              "      <td>0.8289</td>\n",
              "      <td>0.9003</td>\n",
              "      <td>0.9102</td>\n",
              "      <td>0.905594</td>\n",
              "    </tr>\n",
              "    <tr>\n",
              "      <th>2</th>\n",
              "      <td>XGBoost</td>\n",
              "      <td>0.8408</td>\n",
              "      <td>0.8308</td>\n",
              "      <td>0.8542</td>\n",
              "      <td>0.8424</td>\n",
              "      <td>0.9252</td>\n",
              "      <td>0.9769</td>\n",
              "      <td>0.921154</td>\n",
              "    </tr>\n",
              "  </tbody>\n",
              "</table>\n",
              "</div>\n",
              "      <button class=\"colab-df-convert\" onclick=\"convertToInteractive('df-e13d4c82-8a2c-4911-a56a-a3a57bbc385a')\"\n",
              "              title=\"Convert this dataframe to an interactive table.\"\n",
              "              style=\"display:none;\">\n",
              "        \n",
              "  <svg xmlns=\"http://www.w3.org/2000/svg\" height=\"24px\"viewBox=\"0 0 24 24\"\n",
              "       width=\"24px\">\n",
              "    <path d=\"M0 0h24v24H0V0z\" fill=\"none\"/>\n",
              "    <path d=\"M18.56 5.44l.94 2.06.94-2.06 2.06-.94-2.06-.94-.94-2.06-.94 2.06-2.06.94zm-11 1L8.5 8.5l.94-2.06 2.06-.94-2.06-.94L8.5 2.5l-.94 2.06-2.06.94zm10 10l.94 2.06.94-2.06 2.06-.94-2.06-.94-.94-2.06-.94 2.06-2.06.94z\"/><path d=\"M17.41 7.96l-1.37-1.37c-.4-.4-.92-.59-1.43-.59-.52 0-1.04.2-1.43.59L10.3 9.45l-7.72 7.72c-.78.78-.78 2.05 0 2.83L4 21.41c.39.39.9.59 1.41.59.51 0 1.02-.2 1.41-.59l7.78-7.78 2.81-2.81c.8-.78.8-2.07 0-2.86zM5.41 20L4 18.59l7.72-7.72 1.47 1.35L5.41 20z\"/>\n",
              "  </svg>\n",
              "      </button>\n",
              "      \n",
              "  <style>\n",
              "    .colab-df-container {\n",
              "      display:flex;\n",
              "      flex-wrap:wrap;\n",
              "      gap: 12px;\n",
              "    }\n",
              "\n",
              "    .colab-df-convert {\n",
              "      background-color: #E8F0FE;\n",
              "      border: none;\n",
              "      border-radius: 50%;\n",
              "      cursor: pointer;\n",
              "      display: none;\n",
              "      fill: #1967D2;\n",
              "      height: 32px;\n",
              "      padding: 0 0 0 0;\n",
              "      width: 32px;\n",
              "    }\n",
              "\n",
              "    .colab-df-convert:hover {\n",
              "      background-color: #E2EBFA;\n",
              "      box-shadow: 0px 1px 2px rgba(60, 64, 67, 0.3), 0px 1px 3px 1px rgba(60, 64, 67, 0.15);\n",
              "      fill: #174EA6;\n",
              "    }\n",
              "\n",
              "    [theme=dark] .colab-df-convert {\n",
              "      background-color: #3B4455;\n",
              "      fill: #D2E3FC;\n",
              "    }\n",
              "\n",
              "    [theme=dark] .colab-df-convert:hover {\n",
              "      background-color: #434B5C;\n",
              "      box-shadow: 0px 1px 3px 1px rgba(0, 0, 0, 0.15);\n",
              "      filter: drop-shadow(0px 1px 2px rgba(0, 0, 0, 0.3));\n",
              "      fill: #FFFFFF;\n",
              "    }\n",
              "  </style>\n",
              "\n",
              "      <script>\n",
              "        const buttonEl =\n",
              "          document.querySelector('#df-e13d4c82-8a2c-4911-a56a-a3a57bbc385a button.colab-df-convert');\n",
              "        buttonEl.style.display =\n",
              "          google.colab.kernel.accessAllowed ? 'block' : 'none';\n",
              "\n",
              "        async function convertToInteractive(key) {\n",
              "          const element = document.querySelector('#df-e13d4c82-8a2c-4911-a56a-a3a57bbc385a');\n",
              "          const dataTable =\n",
              "            await google.colab.kernel.invokeFunction('convertToInteractive',\n",
              "                                                     [key], {});\n",
              "          if (!dataTable) return;\n",
              "\n",
              "          const docLinkHtml = 'Like what you see? Visit the ' +\n",
              "            '<a target=\"_blank\" href=https://colab.research.google.com/notebooks/data_table.ipynb>data table notebook</a>'\n",
              "            + ' to learn more about interactive tables.';\n",
              "          element.innerHTML = '';\n",
              "          dataTable['output_type'] = 'display_data';\n",
              "          await google.colab.output.renderOutput(dataTable, element);\n",
              "          const docLink = document.createElement('div');\n",
              "          docLink.innerHTML = docLinkHtml;\n",
              "          element.appendChild(docLink);\n",
              "        }\n",
              "      </script>\n",
              "    </div>\n",
              "  </div>\n",
              "  "
            ]
          },
          "metadata": {},
          "execution_count": 206
        }
      ],
      "source": [
        "# tuned model\n",
        "model_list_tuned = [tuned_lr, tuned_adb, tuned_xgb]\n",
        "score_all_classification(model_list_tuned, X_train, y_train, X_test, y_test)"
      ]
    },
    {
      "cell_type": "markdown",
      "metadata": {
        "id": "DoNNJCJPc0NP"
      },
      "source": [
        "# Modelling Conclusion"
      ]
    },
    {
      "cell_type": "markdown",
      "metadata": {
        "id": "zQgIHUMRc0NP"
      },
      "source": [
        "Model yang memberikan hasil terbaik yaitu model **XGBoost dengan F1 Score 84%** dimana telah dilakukan hyperparameter tuning dengan mempertimbangkan nilai metric yang lain dan **Cross Validation Score 92.32%**. Model ini nantinya akan digunakan untuk menganalisis fitur-fitur yang lebih mendominasi untuk dijadikan insight dan hasil prediksi model akan digunakan sebagai acuan bisnis kami."
      ]
    },
    {
      "cell_type": "markdown",
      "source": [
        "# Stage 4 Insights and Recommendation"
      ],
      "metadata": {
        "id": "3_Ku6V_GukWK"
      }
    },
    {
      "cell_type": "markdown",
      "metadata": {
        "id": "NN9vdq2Fc0NP"
      },
      "source": [
        "# Modelling Insights"
      ]
    },
    {
      "cell_type": "code",
      "source": [
        "# feature importance using best model\n",
        "feature_importance_xgb = pd.Series(tuned_xgb2.best_estimator_.feature_importances_, index=X[selected_cols].columns)\n",
        "df_feature = feature_importance_xgb.sort_values(ascending=False).to_frame(name='Score').reset_index()\n",
        "\n",
        "plt.figure(figsize=(10,8))\n",
        "sns.barplot(data=df_feature, y='index', x='Score', palette='YlOrRd_r', edgecolor='.1')\n",
        "plt.xlabel('Score')\n",
        "plt.ylabel('Features')\n",
        "plt.title('Feature Importance XGBoost (Best Model)', fontsize=14)\n",
        "plt.tight_layout()\n",
        "plt.show()"
      ],
      "metadata": {
        "id": "pQCTPxxewkcu",
        "colab": {
          "base_uri": "https://localhost:8080/",
          "height": 235
        },
        "outputId": "087a8181-3683-42a4-94cd-411be3dea31b"
      },
      "execution_count": null,
      "outputs": [
        {
          "output_type": "error",
          "ename": "NameError",
          "evalue": "ignored",
          "traceback": [
            "\u001b[0;31m---------------------------------------------------------------------------\u001b[0m",
            "\u001b[0;31mNameError\u001b[0m                                 Traceback (most recent call last)",
            "\u001b[0;32m<ipython-input-207-9fb5c751f497>\u001b[0m in \u001b[0;36m<module>\u001b[0;34m\u001b[0m\n\u001b[1;32m      1\u001b[0m \u001b[0;31m# feature importance using best model\u001b[0m\u001b[0;34m\u001b[0m\u001b[0;34m\u001b[0m\u001b[0m\n\u001b[0;32m----> 2\u001b[0;31m \u001b[0mfeature_importance_xgb\u001b[0m \u001b[0;34m=\u001b[0m \u001b[0mpd\u001b[0m\u001b[0;34m.\u001b[0m\u001b[0mSeries\u001b[0m\u001b[0;34m(\u001b[0m\u001b[0mtuned_xgb2\u001b[0m\u001b[0;34m.\u001b[0m\u001b[0mbest_estimator_\u001b[0m\u001b[0;34m.\u001b[0m\u001b[0mfeature_importances_\u001b[0m\u001b[0;34m,\u001b[0m \u001b[0mindex\u001b[0m\u001b[0;34m=\u001b[0m\u001b[0mX\u001b[0m\u001b[0;34m[\u001b[0m\u001b[0mselected_cols\u001b[0m\u001b[0;34m]\u001b[0m\u001b[0;34m.\u001b[0m\u001b[0mcolumns\u001b[0m\u001b[0;34m)\u001b[0m\u001b[0;34m\u001b[0m\u001b[0;34m\u001b[0m\u001b[0m\n\u001b[0m\u001b[1;32m      3\u001b[0m \u001b[0mdf_feature\u001b[0m \u001b[0;34m=\u001b[0m \u001b[0mfeature_importance_xgb\u001b[0m\u001b[0;34m.\u001b[0m\u001b[0msort_values\u001b[0m\u001b[0;34m(\u001b[0m\u001b[0mascending\u001b[0m\u001b[0;34m=\u001b[0m\u001b[0;32mFalse\u001b[0m\u001b[0;34m)\u001b[0m\u001b[0;34m.\u001b[0m\u001b[0mto_frame\u001b[0m\u001b[0;34m(\u001b[0m\u001b[0mname\u001b[0m\u001b[0;34m=\u001b[0m\u001b[0;34m'Score'\u001b[0m\u001b[0;34m)\u001b[0m\u001b[0;34m.\u001b[0m\u001b[0mreset_index\u001b[0m\u001b[0;34m(\u001b[0m\u001b[0;34m)\u001b[0m\u001b[0;34m\u001b[0m\u001b[0;34m\u001b[0m\u001b[0m\n\u001b[1;32m      4\u001b[0m \u001b[0;34m\u001b[0m\u001b[0m\n\u001b[1;32m      5\u001b[0m \u001b[0mplt\u001b[0m\u001b[0;34m.\u001b[0m\u001b[0mfigure\u001b[0m\u001b[0;34m(\u001b[0m\u001b[0mfigsize\u001b[0m\u001b[0;34m=\u001b[0m\u001b[0;34m(\u001b[0m\u001b[0;36m10\u001b[0m\u001b[0;34m,\u001b[0m\u001b[0;36m8\u001b[0m\u001b[0;34m)\u001b[0m\u001b[0;34m)\u001b[0m\u001b[0;34m\u001b[0m\u001b[0;34m\u001b[0m\u001b[0m\n",
            "\u001b[0;31mNameError\u001b[0m: name 'tuned_xgb2' is not defined"
          ]
        }
      ]
    },
    {
      "cell_type": "code",
      "source": [
        "# predict labels train and test data\n",
        "best_model = tuned_xgb.best_estimator_\n",
        "pred_test = best_model.predict(X_test)\n",
        "pred_train = best_model.predict(X_train)\n",
        "df_pred_test = pd.DataFrame({'Churn':y_test, 'Churn_pred':pred_test}, index=y_test.index.copy())\n",
        "df_pred_train = pd.DataFrame({'Churn':y_train, 'Churn_pred':pred_train}, index=y_train.index.copy())\n",
        "\n",
        "# combine prediction labels into features column on clean data\n",
        "df_test = df_prep[df_prep.index.isin(df_pred_test.index)]\n",
        "df_train = df_prep[df_prep.index.isin(df_pred_train.index)]\n",
        "df_final_test = pd.concat([df_test.drop('Churn', axis=1), df_pred_test], axis=1)\n",
        "df_final_train = pd.concat([df_train.drop('Churn', axis=1), df_pred_train], axis=1)\n",
        "df_final_all = df_final_train.append(df_final_test).reset_index()\n",
        "df_final_all.head()"
      ],
      "metadata": {
        "id": "C07cUBD-wqbl"
      },
      "execution_count": null,
      "outputs": []
    },
    {
      "cell_type": "markdown",
      "metadata": {
        "id": "iu94GUDmYLeR"
      },
      "source": [
        "# Recomendation"
      ]
    },
    {
      "cell_type": "markdown",
      "source": [
        "terdapat beberapa rekomendasi yang dapat diberikan untuk meningkatkan penghasilan dan mengurangi customer churn.\n",
        "\n",
        "1. Perusahaan perlu memfokuskan layanan pada tiga jenis pelanggan, yaitu senior citizen, pelanggan yang tinggal dengan pasangan(partner), dan pelanggan yang tinggal sendirian. Senior citizen rela membayar harga yang lebih tinggi untuk layanan yang berkualitas, sedangkan pelanggan yang tinggal dengan pasangan dan sendirian lebih memilih layanan dengan biaya bulanan di bawah 65.\n",
        "2. perusahaan perlu fokus pada layanan seperti OnlineSecurity, OnlineBackup, DeviceProtection, dan TechSupport selama enam bulan pertama karena ini adalah periode yang paling kritis dan tidak pasti bagi pelanggan.\n",
        "4. Perusahaan perlu membuat layanan StreamingTV dan StreamingMovies terjangkau dan memperhatikan konten yang menarik untuk semua jenis pelanggan.\n",
        "5. Perusahaan juga perlu memperhatikan metode pembayaran yang mudah dan lancar, seperti Bank Transfer (automatic) dan Credit Card (automatic). Perusahaan harus menghindari Electronic check karena memiliki tingkat churn yang tinggi.\n",
        "\n",
        "Rekomendasi di atas dapat membantu Telco Company untuk meningkatkan penghasilan dan mengurangi churn. Penting bagi perusahaan untuk selalu melakukan evaluasi dan perbaikan berkelanjutan untuk memastikan kualitas layanan yang diberikan selalu terjaga."
      ],
      "metadata": {
        "id": "cgg5EjhKSYBz"
      }
    },
    {
      "cell_type": "markdown",
      "source": [],
      "metadata": {
        "id": "9BPvQceMU-B_"
      }
    },
    {
      "cell_type": "markdown",
      "source": [
        "# Conclution"
      ],
      "metadata": {
        "id": "aFb4BYYYU-IK"
      }
    },
    {
      "cell_type": "markdown",
      "source": [
        "Berdasarkan hasil prediksi dan analisis yang telah kami lakukan maka dapat disimpulkan bahwa:\n",
        "\n",
        "1. **Model yang direkomendasikan adalah XGBoost memiliki F1 Score sebesar 82.39%** artinya dapat memprediksi pelanggan yang akan melakukan churn (Precision) 88.51% dengan ketepatan memprediksi pelanggan benar akan churn (Recall) sebanyak 77.06%."
      ],
      "metadata": {
        "id": "GNNBx105VAMI"
      }
    }
  ],
  "metadata": {
    "colab": {
      "provenance": [],
      "toc_visible": true,
      "collapsed_sections": [
        "v5ikW5Sq4nmu"
      ]
    },
    "kernelspec": {
      "display_name": "Python 3",
      "name": "python3"
    },
    "language_info": {
      "name": "python"
    }
  },
  "nbformat": 4,
  "nbformat_minor": 0
}
